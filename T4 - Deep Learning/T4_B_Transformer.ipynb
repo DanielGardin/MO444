{
  "cells": [
    {
      "cell_type": "markdown",
      "metadata": {
        "id": "eFsVOn9G5XfP"
      },
      "source": [
        "# **Task \\#4 B**: Machine Learning MC886/MO444\n",
        "##**Natural Language Processing (NLP)**##"
      ]
    },
    {
      "cell_type": "code",
      "execution_count": null,
      "metadata": {
        "colab": {
          "base_uri": "https://localhost:8080/"
        },
        "id": "-MKu4K425uHV",
        "outputId": "df18ab77-1cc4-4e31-c625-07a1cd2a3f22"
      },
      "outputs": [
        {
          "output_type": "stream",
          "name": "stdout",
          "text": [
            "Daniel Gardin Gratti 214729\n",
            "Beatriz Cardoso Nascimento 247403\n"
          ]
        }
      ],
      "source": [
        "print('Daniel Gardin Gratti ' + '214729')\n",
        "print('Beatriz Cardoso Nascimento' + ' 247403')"
      ]
    },
    {
      "cell_type": "markdown",
      "metadata": {
        "id": "69z8ovd45wMN"
      },
      "source": [
        "## Objective:\n",
        "\n",
        "There are two main objectives of this notebook: you can either fine-tunning a BERT model to sentiment analysis or fine-tunning a T5 model to perform translation English to Portuguese.\n",
        "\n",
        "**You can choose which task to perform. The BERT activity is relatively easy and should take less time compared to the T5 task. However, fine-tuning these models require time. Therefore, it is recommended to test the models on a small dataset (such as one batch), to ensure the functions are working correctly. Once confirmed, you can proceed to train the models on the entire dataset.**\n",
        "\n",
        "**If you complete both tasks, you will earn extra points.**\n",
        "**Obs: In this work, you can use scikit-learn, PyTorch and HuggingFace API.**"
      ]
    },
    {
      "cell_type": "markdown",
      "source": [
        "## **Sentiment Analisys**\n",
        "\n",
        "Sentiment analysis is a task in natural language processing that involves determining the sentiment expressed in a given text, classifying it as positive, negative, or neutral. It helps analyze people's opinions and emotions from text data, enabling businesses to understand customer feedback, monitor brand reputation, and make informed decisions.\n",
        "\n",
        "In this notebook, we will use the IMDB Dataset, which is widely used in the field of natural language processing and sentiment analysis. It comprises a large collection of movie reviews from the IMDB website, with each review labeled as either positive or negative based on the sentiment expressed in the text.\n",
        "\n",
        "![bert_model](https://drive.google.com/uc?export=view&id=1rWKk7K5-0MX8EkjPeRZTaG7byFQuD6Cx)\n",
        "\n",
        "BERT (Bidirectional Encoder Representations from Transformers) is a state-of-the-art deep learning model for natural language processing (NLP). It is based on the Transformer architecture and is pre-trained on a large corpus of text data. BERT is designed to understand the context and meaning of words in a sentence by considering both the left and right context, enabling it to capture intricate language patterns. It has achieved remarkable results across various NLP tasks, including text classification, named entity recognition, question answering, and has significantly advanced the field of NLP."
      ],
      "metadata": {
        "id": "t03BZpP_cG6I"
      }
    },
    {
      "cell_type": "code",
      "source": [
        "from google.colab import drive\n",
        "drive.mount('/content/drive')"
      ],
      "metadata": {
        "colab": {
          "base_uri": "https://localhost:8080/"
        },
        "id": "ImyuV0n0SWSd",
        "outputId": "44f5dcac-1e34-47c6-cd47-738e62f6ddee"
      },
      "execution_count": null,
      "outputs": [
        {
          "output_type": "stream",
          "name": "stdout",
          "text": [
            "Mounted at /content/drive\n"
          ]
        }
      ]
    },
    {
      "cell_type": "markdown",
      "source": [
        "### Download Dependencies"
      ],
      "metadata": {
        "id": "AyxqPdWsz5wk"
      }
    },
    {
      "cell_type": "code",
      "source": [
        "%%time\n",
        "!wget -nc -q http://files.fast.ai/data/aclImdb.tgz\n",
        "!tar -xzf aclImdb.tgz\n",
        "!pip install transformers -q"
      ],
      "metadata": {
        "colab": {
          "base_uri": "https://localhost:8080/"
        },
        "id": "0yzUSCtEcXkI",
        "outputId": "4ea482d0-e24a-48a1-afcf-f8de6085d4b3"
      },
      "execution_count": null,
      "outputs": [
        {
          "output_type": "stream",
          "name": "stdout",
          "text": [
            "\u001b[2K     \u001b[90m━━━━━━━━━━━━━━━━━━━━━━━━━━━━━━━━━━━━━━━━\u001b[0m \u001b[32m7.2/7.2 MB\u001b[0m \u001b[31m61.0 MB/s\u001b[0m eta \u001b[36m0:00:00\u001b[0m\n",
            "\u001b[2K     \u001b[90m━━━━━━━━━━━━━━━━━━━━━━━━━━━━━━━━━━━━━━\u001b[0m \u001b[32m268.5/268.5 kB\u001b[0m \u001b[31m30.3 MB/s\u001b[0m eta \u001b[36m0:00:00\u001b[0m\n",
            "\u001b[2K     \u001b[90m━━━━━━━━━━━━━━━━━━━━━━━━━━━━━━━━━━━━━━━━\u001b[0m \u001b[32m7.8/7.8 MB\u001b[0m \u001b[31m85.4 MB/s\u001b[0m eta \u001b[36m0:00:00\u001b[0m\n",
            "\u001b[2K     \u001b[90m━━━━━━━━━━━━━━━━━━━━━━━━━━━━━━━━━━━━━━━━\u001b[0m \u001b[32m1.3/1.3 MB\u001b[0m \u001b[31m79.7 MB/s\u001b[0m eta \u001b[36m0:00:00\u001b[0m\n",
            "\u001b[?25hCPU times: user 185 ms, sys: 15.6 ms, total: 201 ms\n",
            "Wall time: 31.1 s\n"
          ]
        }
      ]
    },
    {
      "cell_type": "code",
      "source": [
        "import os\n",
        "import gc\n",
        "import copy\n",
        "import torch\n",
        "import torch.nn as nn\n",
        "import torch.nn.functional as F\n",
        "import random\n",
        "import numpy as np\n",
        "import matplotlib.pyplot as plt\n",
        "\n",
        "\n",
        "from tqdm.notebook import tqdm\n",
        "from torch.utils.data import DataLoader, Dataset\n",
        "\n",
        "from transformers import BertTokenizerFast, BertModel, get_linear_schedule_with_warmup"
      ],
      "metadata": {
        "id": "0hLsw2ZbcGYz"
      },
      "execution_count": null,
      "outputs": []
    },
    {
      "cell_type": "markdown",
      "source": [
        "### Parameters"
      ],
      "metadata": {
        "id": "vIncsecQ0Fmw"
      }
    },
    {
      "cell_type": "code",
      "source": [
        "params = {\n",
        "    'bert_version': 'bert-base-uncased',\n",
        "    # There are multiple versions of BERT available at the following links:\n",
        "    # https://huggingface.co/google/bert_uncased_L-12_H-768_A-12\n",
        "    # https://huggingface.co/bert-base-uncased\n",
        "    # You can explore these links to access different versions of BERT.\n",
        "\n",
        "    'batch_size': 16,\n",
        "    'learning_rate': 1e-4, # Choose a learning rate between 1e-4 and 1e-5\n",
        "    'max_length': 300,     # The maximum length of the sentence (can be adjusted)\n",
        "    'epochs': 10,        # Choose a value between 1 and 5 (or alternatively, use early stopping)\n",
        "}"
      ],
      "metadata": {
        "id": "DuZnVdAZcQsw"
      },
      "execution_count": null,
      "outputs": []
    },
    {
      "cell_type": "code",
      "source": [
        "# Important: Fix seeds so we can replicate results\n",
        "random_seed = 42\n",
        "random.seed(random_seed)\n",
        "np.random.seed(random_seed)\n",
        "torch.manual_seed(random_seed)\n",
        "\n",
        "device = torch.device(\"cuda:0\" if torch.cuda.is_available() else \"cpu\")\n",
        "print(f'Device: {device}')"
      ],
      "metadata": {
        "colab": {
          "base_uri": "https://localhost:8080/"
        },
        "id": "Tg63ZvdkcSB4",
        "outputId": "093d359f-20be-4df5-b0ab-015baa7776dc"
      },
      "execution_count": null,
      "outputs": [
        {
          "output_type": "stream",
          "name": "stdout",
          "text": [
            "Device: cuda:0\n"
          ]
        }
      ]
    },
    {
      "cell_type": "markdown",
      "source": [
        "### Load data\n",
        "\n",
        "Here we are loading the data. For training, we will use 20k samples, 5k samples for validation, and 25k samples for testing."
      ],
      "metadata": {
        "id": "B97P4u170VEq"
      }
    },
    {
      "cell_type": "code",
      "source": [
        "max_valid = 5000\n",
        "\n",
        "def load_texts(folder):\n",
        "    texts = []\n",
        "    for path in os.listdir(folder):\n",
        "        with open(os.path.join(folder, path)) as f:\n",
        "            texts.append(f.read())\n",
        "    return texts\n",
        "\n",
        "x_train_pos = load_texts('aclImdb/train/pos')\n",
        "x_train_neg = load_texts('aclImdb/train/neg')\n",
        "x_test_pos  = load_texts('aclImdb/test/pos')\n",
        "x_test_neg  = load_texts('aclImdb/test/neg')\n",
        "\n",
        "x_train = x_train_pos + x_train_neg\n",
        "x_test  = x_test_pos + x_test_neg\n",
        "y_train = [True] * len(x_train_pos) + [False] * len(x_train_neg)\n",
        "y_test  = [True] * len(x_test_pos)  + [False] * len(x_test_neg)\n",
        "\n",
        "c = list(zip(x_train, y_train))\n",
        "random.shuffle(c)\n",
        "x_train, y_train = zip(*c)\n",
        "\n",
        "x_valid = x_train[-max_valid:]\n",
        "y_valid = y_train[-max_valid:]\n",
        "x_train = x_train[:-max_valid]\n",
        "y_train = y_train[:-max_valid]\n",
        "\n",
        "print('\\nFirst three train samples:')\n",
        "for i, (source, target) in enumerate(zip(x_train[:3], y_train[:3])):\n",
        "  print(f\"{i}: Input: {source}\\n   Target: {'positive' if target else 'negative'}\\n\")\n",
        "\n",
        "print('-'*200)\n",
        "print('\\nFirst three valid samples:')\n",
        "for i, (source, target) in enumerate(zip(x_valid[:3], y_valid[:3])):\n",
        "  print(f\"{i}: Input: {source}\\n   Target: {'positive' if target else 'negative'}\\n\")\n",
        "\n",
        "print('-'*200)\n",
        "print(f'Train size: {len(x_train)}')\n",
        "print(f'Valid size: {len(x_valid)}')\n",
        "print(f'Valid size: {len(x_test)}')"
      ],
      "metadata": {
        "colab": {
          "base_uri": "https://localhost:8080/"
        },
        "id": "vDneHgkOcjv1",
        "outputId": "dca22c28-db9f-47c9-d197-59b362bb8216"
      },
      "execution_count": null,
      "outputs": [
        {
          "output_type": "stream",
          "name": "stdout",
          "text": [
            "\n",
            "First three train samples:\n",
            "0: Input: There have been very few films I have not been able to sit through. I made it through Battle Field Earth no problem. But this, This is one of the single worst films EVER to be made. I understand Whoopi Goldberg tried to get of acting in it. I do not blame her. I would feel ashamed to have this on a resume. I belive it is a rare occasion when almost every gag in a film falls flat on it's face. Well it happens here. Not to mention the SFX, look for the dino with the control cables hanging out of it rear end!!!!!! Halfway through the film I was still looking for a plot. I never found one. Save yourself the trouble of renting this and save 90 minutes of your life.\n",
            "   Target: negative\n",
            "\n",
            "1: Input: I have seen Maslin Beach a couple of times - both on free to air TV in Brisbane. I won't go into whether it is good, bad or otherwise as others have well and truly covered this.<br /><br />I will say that it is so Australian. Only in Australia can we have a film about relationships among people spending the day as naked as the day they were born, and to view it on free commercial television.<br /><br />I have a friend from the US who is constantly amazed at what we put on our free TV compared to her home country. Sex and the CIty and Huff are just too examples.<br /><br />Despite our Government trying to turn us into the 51st US State, it is good to know at least some things remain truly Aussie\n",
            "   Target: positive\n",
            "\n",
            "2: Input: DOUBLE EXPOSURE was a tremendous surprise. It contains outstanding acting (particularly from the underrated Callan), fine cinematography and a compelling storyline. In other words, it's one of the finest horror efforts to emerge from the 1980s.<br /><br />Callan plays a fashion photographer who experiences dreams of murdering his models, at a time when he is reunited with his psychologically volatile brother (who happens to be missing an arm and a leg). When the models Callan dreams about killing actually turn up dead, the photographer begins to doubt his own sanity... but there is more to the picture than he is seeing.<br /><br />This film never received the praise it deserves. Most critics and filmgoers lump it in with the horde of slasher films released at the same time, but it stands high above the bulk of that sorry lot. It's clever and unique, which isn't something one can comfortably say about most films of this genre, but it's also passionately crafted and performed. DOUBLE EXPOSURE is a gem of its kind.\n",
            "   Target: positive\n",
            "\n",
            "--------------------------------------------------------------------------------------------------------------------------------------------------------------------------------------------------------\n",
            "\n",
            "First three valid samples:\n",
            "0: Input: While some scenes of training were realistic, too many of them depicted military instructors as ex-Nazi types. Obviously, the people who wrote the screen play were either anti-military types or writing a film for that audience.<br /><br />I am a Viet Nam vet and, even during this period, military instructors who behaved in the manner some of these did would probably still be serving time in military prison.<br /><br />And I really loved the scene where the \"hero\" and his buddy (both privates) are sitting down in the Captain's office, smoking cigarettes and talking and cussing with the Captain as if he were their buddy. This sort of thing never happened in training or in a formal situation, as was the purpose for the scene.<br /><br />At the end I asked myself, \"What was this film about?\" as it seemed to wander around all over the place with no focus except \"I hate all authority.\" Thank God I got it from the library and did not pay to rent it.\n",
            "   Target: negative\n",
            "\n",
            "1: Input: I read all of Nancy Drew as a preteen and collect the books as a grown-up. I loved the effect used at the end (and a little bit at the beginning) of the movie where line drawings in the style of the books morphed into scenes from the movie. It was a neat way of pointing out connections between situations in the movie and the books. For example, the scenes with the Oriental antiques dealer were very reminiscent of many scenarios I remember from the books. I thought Ned was perfectly cast, and Emma Roberts was a wonderful 21st century interpretation of Nancy Drew. (Just like the picture of Betty Crocker, she keeps up with the times!)\n",
            "   Target: positive\n",
            "\n",
            "2: Input: In the bygone days of the Catholic Church, a sin-eater was an individual that, through ritual, would take the sins of a dying person upon themselves. Often, these people were excommunicate or similar individuals who the church would not absolve, thereby denying them entrance into Heaven. The sin-eaters were seen as blasphemous, circumventing the chruch's monopoly on redemption. Sex this up a bit with some overt supernatural mojo, let the concept wander where it may, and you have \"The Order\", a movie that combines \"Stigmata\"'s religious anti-authoritarianism, \"The X-Files\"' paranormal investigation, and \"The Thorn Birds\"' sexual spirituality into an odd melange that sometimes works.<br /><br />Alex (Heath Ledger) is a rogue priest, one of the last members of the Order of the Carolingians, a semi-heretical order of knowledge-seeking, demon-fighting priests. When Alex's mentor is found dead under bizarre circumstances, Bishop Driscoll (Peter Weller) sends Alex to investigate. Tagging along are fellow Carolingian Thomas (Mark Addy) and Mara (Shannyn Sossman), who was subject to one of Alex's exorcisms a year prior. The three go to Rome to investigate and are drawn into a dark underworld of bizarre Catholic heresy, ominous prophecies, demonic intrusions, and a man claiming to be the last surviving Sin-Eater (Benno Furmann).<br /><br />Written and directed by Brian Helgeland (who worked with the same principals on the scattershot and half-hearted \"A Knight's Tale\"), the film is an odd one, and difficult to classify. It wants to be several things at once -- supernatural thriller, religious intrigue, dramatic television pilot -- and only sometimes succeeds at any of them. This isn't helped by the slow pace or the fact that most of the actors seem to be sleepwalking through their performances with occasional bursts of brilliance. Ledger, in particular, has a particularly stunning scene of despair in an otherwise monochromatic performance. Sossman, however, displayed the same disconnected performance that she's given in all of her films (most notably in \"The Rules Of Attraction\").<br /><br />The plot itself meanders back and forth between several different story arcs, leading you to wonder which is the main one with each arc containing its share of red herrings. Large gaps of narrative appear to be lost between scenes at times, which can be confusing for many, but this is also one of the film's saving graces. The structure of the film -- coupled by the fact that there is never a truly clear antagonist until the very end of the film -- forces the viewer to analyze and reason in a time when most films are blatantly obvious about everything (the exception to this is historical background on the Carolingians and the practice of sin-eating, both of which are explained in dry exposition). Even at the beginning of the film, character relationships and history are inferred instead of explained. Combine this with the on-location shooting and judicious use of special effects, and you have a very old-world supernatural thriller, with even the opening credits reminiscent of something from the late 70's/early 80's.<br /><br />A brief mention here, as well, for the subtle and organic score by David Torn, a combination of minimalist orchestration and Lisa Gerrard-style exotic vocals. A very nice score that is evocative without being bombastic and exists in a very deceptive simplicity.<br /><br />A confusing plot, a lack of purpose, and sometimes sleepy performances would often damn a movie, but for some reason, \"The Order\" remains watchable. Many people will be very turned off by the movie for its odd sensibilities, and some may even become angry that they are forced to engage the higher functions of their brain to understand it. Still, the film's sheer intangibility will prevent it from being either a critical or commercial success until the DVD, which I'm sure will be stocked with copious amounts of deleted scenes. A recommended film only for people who like to think while they watch. 6 out of 10.\n",
            "   Target: negative\n",
            "\n",
            "--------------------------------------------------------------------------------------------------------------------------------------------------------------------------------------------------------\n",
            "Train size: 20000\n",
            "Valid size: 5000\n",
            "Valid size: 25000\n"
          ]
        }
      ]
    },
    {
      "cell_type": "markdown",
      "source": [
        "### Tokenizer\n",
        "\n",
        "To use text as input for a deep learning model, we first need to tokenize each sentence based on a set of rules. After tokenization, each token is assigned a correlated index, creating a feature vector. This vector is then utilized by the model to train and update the weights. Here is an example demonstrating how the BERT tokenizer works:\n",
        "\n",
        "![bert_tokenizer](https://drive.google.com/uc?export=view&id=11LioDFis0JE3ghr672PEIeaAxZO42gUL)\n",
        "\n",
        "Initially, the input sentence is divided into tokens predetermined by the BERT tokenizer. Next, the BertTokenizer introduces two special tokens: CLS and SEP. CLS represents sentence start for tasks like classification, while SEP indicates sentence separation for boundary detection within a document. Additionally, to ensure sentences are of equal length, the tokenizer employ the PAD token for each input.\n",
        "\n",
        "Finally, each token is converted into a predetermined index for BERT input. This indexing enables the Bert model to train and update its weights effectively."
      ],
      "metadata": {
        "id": "ln1YCiFIKzEd"
      }
    },
    {
      "cell_type": "code",
      "source": [
        "class IMDBDataset(Dataset):\n",
        "    def __init__(self, data, labels):\n",
        "        super().__init__()\n",
        "        self.data   = data\n",
        "        self.labels = torch.Tensor(labels).long()\n",
        "\n",
        "    def __len__(self):\n",
        "        return len(self.labels)\n",
        "\n",
        "    def __getitem__(self, index):\n",
        "        item = {key: value[index] for key, value in self.data.items()}\n",
        "        item['labels'] = self.labels[index]\n",
        "        return item"
      ],
      "metadata": {
        "id": "JT1M1O2wcnFt"
      },
      "execution_count": null,
      "outputs": []
    },
    {
      "cell_type": "code",
      "source": [
        "%%time\n",
        "tokenizer = BertTokenizerFast.from_pretrained(params['bert_version'], disable_tqdm=False)\n",
        "\n",
        "## TOKENIZE\n",
        "train_encodings = tokenizer(list(x_train), truncation=True, padding=True, return_tensors='pt', max_length=params['max_length'])\n",
        "valid_encodings = tokenizer(list(x_valid), truncation=True, padding=True, return_tensors='pt', max_length=params['max_length'])\n",
        "test_encodings  = tokenizer(list(x_test),  truncation=True, padding=True, return_tensors='pt', max_length=params['max_length'])\n",
        "\n",
        "## DATASET\n",
        "train_dataset = IMDBDataset(data=train_encodings, labels=y_train)\n",
        "valid_dataset = IMDBDataset(data=valid_encodings, labels=y_valid)\n",
        "test_dataset  = IMDBDataset(data=test_encodings, labels=y_test)\n",
        "\n",
        "## DATALOADER\n",
        "train_loader = DataLoader(train_dataset, batch_size=params['batch_size'], shuffle=True, num_workers=1)\n",
        "valid_loader = DataLoader(dataset=valid_dataset, batch_size=params['batch_size'], num_workers=1)\n",
        "test_loader  = DataLoader(dataset=test_dataset, batch_size=params['batch_size'], num_workers=1)"
      ],
      "metadata": {
        "colab": {
          "base_uri": "https://localhost:8080/",
          "height": 180,
          "referenced_widgets": [
            "874e9a46248940d2adb29803603908ac",
            "3ed8394ab9094134bf04e7d30576e876",
            "1cd3d594922a4ac2905c3bbd19a66a44",
            "675622a31f734ff39a2696e66ca18dc8",
            "a26557b92f40447a98bd994d013fa2a7",
            "24169292152242ce8c4dbfabc049cb0b",
            "ea4a9ed7e09543eebbdeb519d324ecd5",
            "3e41fe2e3d52494f8ed71e689f710f74",
            "20c0e41911e84f5cac43888e47355758",
            "063d105505bb4307bf406e6fd6c5f7b1",
            "71d08ee7ae834995b8ec916c5caff4c3",
            "c565e626fa8948679dcca503db5a295b",
            "92ee2ff86fef4a8abb267189c1181172",
            "6d7e12787c2f474e8c04bfdc9f48ff4e",
            "52098f841f394c3ab1807481a9ea098c",
            "137d044953704a3786b0c284bbf95f98",
            "fed81901eac945eb960c329120246e4c",
            "fc7954b107514be58cbbb57d69ae41cb",
            "8b00886611b2477eb7cc1ce8a4425168",
            "552ddd111f3a442993baa631f2920bf2",
            "fff523ee22bd451b81af2bd6b2016e1a",
            "cba7db46f73e4e1f98ef76a582a941d5",
            "c44af70f5a41429db76efc53f5ab8aaa",
            "c1f297d2d6b74072bb23569b4c80385e",
            "ac6ca8ca69504a479580de3a6d066431",
            "db8b7545bfb145cba8cbb6ea7d870873",
            "ee5e43f615a945d4b1da9a924d862441",
            "054a97211ed84daca55f08f764fd5a9f",
            "c16b6399e02f4a8392dbee06a4c71197",
            "1eb74166e1b24544a80a5f8d006d1608",
            "f3bd458cc5964844ac7708b7c6bf0317",
            "a9d329c7cd4e4fa2b8c9ac7bf2fa0eb1",
            "b0bdf18efff3402d83388ebf5db195b9",
            "a6bca8a426c3442a813eac516253fa3a",
            "f206cdbd99164b80a376b185e013caf6",
            "ac1be266230f4c319d12d621e728678b",
            "2a5c8b85de324bdd96a94e68f01b988d",
            "3e5f7024891c4f95aae213098ab5dab5",
            "063f8e7b753f4af99aa194de4308bb6e",
            "804d8025ea764583aed9838304eca104",
            "1b69c76dbc004ef38b102e7133a61faf",
            "a10d372450c440059643287e99d57f49",
            "456aa4f79b7d456eac4aa38cc2f4dde5",
            "50f018cb93fb463e995a4bb353de0169"
          ]
        },
        "id": "k07NXH79coQr",
        "outputId": "4edfe7f8-8c1e-46b5-cf85-95441ecb0d27"
      },
      "execution_count": null,
      "outputs": [
        {
          "output_type": "display_data",
          "data": {
            "text/plain": [
              "Downloading (…)okenizer_config.json:   0%|          | 0.00/28.0 [00:00<?, ?B/s]"
            ],
            "application/vnd.jupyter.widget-view+json": {
              "version_major": 2,
              "version_minor": 0,
              "model_id": "874e9a46248940d2adb29803603908ac"
            }
          },
          "metadata": {}
        },
        {
          "output_type": "display_data",
          "data": {
            "text/plain": [
              "Downloading (…)solve/main/vocab.txt:   0%|          | 0.00/232k [00:00<?, ?B/s]"
            ],
            "application/vnd.jupyter.widget-view+json": {
              "version_major": 2,
              "version_minor": 0,
              "model_id": "c565e626fa8948679dcca503db5a295b"
            }
          },
          "metadata": {}
        },
        {
          "output_type": "display_data",
          "data": {
            "text/plain": [
              "Downloading (…)/main/tokenizer.json:   0%|          | 0.00/466k [00:00<?, ?B/s]"
            ],
            "application/vnd.jupyter.widget-view+json": {
              "version_major": 2,
              "version_minor": 0,
              "model_id": "c44af70f5a41429db76efc53f5ab8aaa"
            }
          },
          "metadata": {}
        },
        {
          "output_type": "display_data",
          "data": {
            "text/plain": [
              "Downloading (…)lve/main/config.json:   0%|          | 0.00/570 [00:00<?, ?B/s]"
            ],
            "application/vnd.jupyter.widget-view+json": {
              "version_major": 2,
              "version_minor": 0,
              "model_id": "a6bca8a426c3442a813eac516253fa3a"
            }
          },
          "metadata": {}
        },
        {
          "output_type": "stream",
          "name": "stdout",
          "text": [
            "CPU times: user 1min 13s, sys: 2.1 s, total: 1min 15s\n",
            "Wall time: 1min\n"
          ]
        }
      ]
    },
    {
      "cell_type": "markdown",
      "source": [
        "### Useful functions\n",
        "\n",
        "**Note:** The following functions are provided as suggestions. You are free to modify and create your own functions, classes, or code. Feel free to customize!\n",
        "\n",
        "**If the batch does not fit in memory, use gradient accumulation.**\n",
        "\n",
        "**Hint 1:** Example of gradient accumalation in PyTorch: https://kozodoi.me/blog/20210219/gradient-accumulation.\n",
        "\n",
        "**Hint 2:** If preferred, you can utilize the [Trainer](https://huggingface.co/docs/transformers/training) from Hugging Face for assistance."
      ],
      "metadata": {
        "id": "r3oj3uw02BIN"
      }
    },
    {
      "cell_type": "code",
      "source": [
        "@torch.no_grad()\n",
        "def evaluate(logit, target, threshold=0.5):\n",
        "    pred = torch.where(logit.detach() > threshold, 1, 0)\n",
        "    acc = (torch.count_nonzero(pred == target)/torch.numel(target)).item()\n",
        "\n",
        "    return {'accuracy': acc}\n",
        "\n",
        "\n",
        "def metrics2string(metrics):\n",
        "    return '   '.join([f\"{metric} {value : >2.2%}\" for metric, value in metrics.items()])\n",
        "\n",
        "\n",
        "def train(model, train_loader, valid_loader, optimizer, criterion, epochs, patience=None):\n",
        "    device = next(model.parameters()).device\n",
        "\n",
        "    best_score = 0\n",
        "    counter = 0\n",
        "\n",
        "    history = []\n",
        "    val_history = []\n",
        "\n",
        "    n_batches = len(train_loader)\n",
        "    for epoch in range(epochs):\n",
        "        model.train()\n",
        "\n",
        "        # Training loop\n",
        "        epoch_history = []\n",
        "        for n_batch, data in enumerate(train_loader):\n",
        "            gc.collect()\n",
        "            torch.cuda.empty_cache()\n",
        "            target  = data['labels'].float().to(device)[:, None]\n",
        "\n",
        "            pred = model(data)\n",
        "\n",
        "            loss = criterion(pred, target)\n",
        "            metrics = evaluate(pred, target)\n",
        "\n",
        "            loss.backward()\n",
        "\n",
        "            if (n_batch + 1) % 1 == 0:\n",
        "                optimizer.step()\n",
        "                optimizer.zero_grad()\n",
        "\n",
        "            print(f'\\rEPOCH {epoch + (n_batch+1)/n_batches : >05.3f} |   loss: {loss.item() : >4.3f}   {metrics2string(metrics)}         ', end='')\n",
        "\n",
        "            metrics['loss'] = loss.item()\n",
        "\n",
        "            epoch_history.append(metrics)\n",
        "\n",
        "\n",
        "        history.append(epoch_history)\n",
        "\n",
        "        epoch_metric = {metric : np.mean([hist[metric] for hist in epoch_history]) for metric in metrics.keys()}\n",
        "        epoch_loss   = epoch_metric.pop('loss')\n",
        "        with torch.no_grad():\n",
        "            model.eval()\n",
        "            val_bucket = []\n",
        "            val_losses = 0\n",
        "            for data in valid_loader:\n",
        "                target  = data['labels'].float().to(device)[:, None]\n",
        "\n",
        "                pred = model(data)\n",
        "\n",
        "                val_loss  = criterion(pred, target)\n",
        "                val_losses += val_loss.item()\n",
        "\n",
        "                metrics = evaluate(pred, target)\n",
        "                val_bucket.append(metrics)\n",
        "\n",
        "                print(f'\\rEPOCH {epoch + (n_batch+1)/n_batches : >05.3f} |   loss: {epoch_loss : >4.3f}   {metrics2string(epoch_metric)}  | Validation:  loss: {val_loss : >05.3f}   {metrics2string(metrics)}    ', end='')\n",
        "\n",
        "        val_metric = {metric : np.mean([hist[metric] for hist in val_bucket]) for metric in metrics.keys()}\n",
        "        val_losses /= len(valid_loader)\n",
        "\n",
        "        print(f'\\rEPOCH {epoch + (n_batch+1)/n_batches : >05.3f} |   loss: {epoch_loss : >4.3f}   {metrics2string(epoch_metric)}  | Validation:  loss: {val_losses : >05.3f}   {metrics2string(val_metric)}     ', end='')\n",
        "        print()\n",
        "\n",
        "        val_metric['loss'] = val_losses\n",
        "\n",
        "        val_history.append(val_metric)\n",
        "\n",
        "        # Early stopping mechanism if patience is set\n",
        "\n",
        "        if patience is None: continue\n",
        "\n",
        "        if val_metric['accuracy'] < best_score + 1e-4:\n",
        "            counter += 1\n",
        "\n",
        "            if counter >= patience:\n",
        "                print(f\"Training Early Stopped after {epoch} epochs\")\n",
        "                break\n",
        "\n",
        "        else:\n",
        "            counter = 0\n",
        "            best_score = val_metric['accuracy']\n",
        "\n",
        "            torch.save(model.state_dict(), 'drive/MyDrive/best_weights.pth')\n",
        "\n",
        "    return history, val_history"
      ],
      "metadata": {
        "id": "akXPUZIbcrJW"
      },
      "execution_count": null,
      "outputs": []
    },
    {
      "cell_type": "markdown",
      "source": [
        "### Train the BERT model\n",
        "\n",
        "**Note:** The following functions are provided as suggestions. You are free to modify and create your own functions, classes, or code. Feel free to customize!\n",
        "\n",
        "**Hint 1:** See the [BertForSequenceClassification](https://huggingface.co/docs/transformers/v4.30.0/en/model_doc/bert#transformers.BertForSequenceClassification) documentation for more information.\n",
        "\n",
        "**Hint 2:** Instead of saving information by epoch, you can save it by step. A step corresponds to a single update of the model's weights based on a mini-batch of data, while an epoch represents a complete pass through the entire training dataset. The number of steps is determined by the batch size and the total number of training examples, whereas the number of epochs is a user-defined hyperparameter.\n",
        "\n",
        "**Hint 3:** BERT adapts very well to classification problems, so in just 3 or 4 epochs, the results are already acceptable (**BERT Base**). If the results are still not good, check the learning rate.\n",
        "\n",
        "**Hint 4:** Conduct small tests, such as using only one batch, to train and verify the functionality of the training and evaluation functions. After confirming their effectiveness, proceed to train the model with all the dataset."
      ],
      "metadata": {
        "id": "hPCtzdvX2Ekm"
      }
    },
    {
      "cell_type": "code",
      "source": [
        "class SentimentClassifier(nn.Module):\n",
        "    def __init__(self):\n",
        "        super(SentimentClassifier, self).__init__()\n",
        "        self.bert = BertModel.from_pretrained(params['bert_version'])\n",
        "        self.drop = nn.Dropout(p=0.3)\n",
        "        self.out = nn.Linear(self.bert.config.hidden_size, 1)\n",
        "\n",
        "    # Forward propagaion class\n",
        "    def forward(self, data_dict):\n",
        "        device = next(self.parameters()).device\n",
        "\n",
        "        input_ids      = data_dict['input_ids'].to(device)\n",
        "        attention_mask = data_dict['attention_mask'].to(device)\n",
        "\n",
        "        _, pooled_output = self.bert(input_ids=input_ids,\n",
        "                                     attention_mask=attention_mask, return_dict=False)\n",
        "\n",
        "        #  Add a dropout layer\n",
        "        output = self.drop(pooled_output)\n",
        "        output = self.out(output)\n",
        "        return F.sigmoid(output)\n"
      ],
      "metadata": {
        "id": "tv874eu5w1mV"
      },
      "execution_count": null,
      "outputs": []
    },
    {
      "cell_type": "code",
      "source": [
        "model = SentimentClassifier()\n",
        "model = model.to(device)\n",
        "\n",
        "optimizer = torch.optim.AdamW(model.parameters(), lr=2e-5) # https://pytorch.org/docs/stable/optim.html\n",
        "scheduler = get_linear_schedule_with_warmup(\n",
        "    optimizer,\n",
        "    num_warmup_steps=0,\n",
        "    num_training_steps=len(train_dataset) * params['epochs']\n",
        ") # https://pytorch.org/docs/stable/optim.html (not mandatory)\n",
        "\n",
        "criterion = nn.BCELoss()\n",
        "\n",
        "history, val_history = train(model, train_loader, valid_loader, optimizer, criterion, epochs=20, patience=1)"
      ],
      "metadata": {
        "colab": {
          "base_uri": "https://localhost:8080/",
          "height": 191,
          "referenced_widgets": [
            "71692357a5ce41c2be79e8f9d58878b9",
            "3c974b06203d4d49beca1b716e644efd",
            "548c9e891ae44c798182886064e0b0cc",
            "4db5dd7b715e4dc6a7032c3491a496c0",
            "b98ae56a34ac4741a981ee86c4fb9ea8",
            "7b43ae47d0264406854152ea09afcfa3",
            "0775b1b8b26e48c3b075ee663bff128c",
            "b236d12be9714f9e850e255b70d158e7",
            "d51aad1d9cd94568b5d3edb171af3afe",
            "61ae362e4a6d4dae8b2e4a1e4c91467c",
            "6f053bfed72b4127b0d1bd384cb63615"
          ]
        },
        "id": "xwHpg7yrt7fX",
        "outputId": "af543fff-1fec-44a9-d970-34cc5780ad0c"
      },
      "execution_count": null,
      "outputs": [
        {
          "output_type": "display_data",
          "data": {
            "text/plain": [
              "Downloading model.safetensors:   0%|          | 0.00/440M [00:00<?, ?B/s]"
            ],
            "application/vnd.jupyter.widget-view+json": {
              "version_major": 2,
              "version_minor": 0,
              "model_id": "71692357a5ce41c2be79e8f9d58878b9"
            }
          },
          "metadata": {}
        },
        {
          "output_type": "stream",
          "name": "stderr",
          "text": [
            "Some weights of the model checkpoint at bert-base-uncased were not used when initializing BertModel: ['cls.predictions.transform.dense.weight', 'cls.predictions.transform.LayerNorm.bias', 'cls.predictions.transform.dense.bias', 'cls.seq_relationship.weight', 'cls.predictions.bias', 'cls.seq_relationship.bias', 'cls.predictions.transform.LayerNorm.weight']\n",
            "- This IS expected if you are initializing BertModel from the checkpoint of a model trained on another task or with another architecture (e.g. initializing a BertForSequenceClassification model from a BertForPreTraining model).\n",
            "- This IS NOT expected if you are initializing BertModel from the checkpoint of a model that you expect to be exactly identical (initializing a BertForSequenceClassification model from a BertForSequenceClassification model).\n"
          ]
        },
        {
          "output_type": "stream",
          "name": "stdout",
          "text": [
            "EPOCH 1.000 |   loss: 0.269   accuracy 88.85%  | Validation:  loss: 0.224   accuracy 91.57%     \n",
            "EPOCH 2.000 |   loss: 0.139   accuracy 94.99%  | Validation:  loss: 0.211   accuracy 92.13%     \n",
            "EPOCH 3.000 |   loss: 0.074   accuracy 97.59%  | Validation:  loss: 0.285   accuracy 90.18%     \n",
            "Training Early Stopped after 2 epochs\n"
          ]
        }
      ]
    },
    {
      "cell_type": "markdown",
      "source": [
        "#### Plot the Train and Valid loss"
      ],
      "metadata": {
        "id": "31m0wtaT5NaD"
      }
    },
    {
      "cell_type": "code",
      "source": [
        "def plot_history(history, val_history,  metrics, model_name, smooth_window=1, alpha=0.4):\n",
        "    fig, axs = plt.subplots(1, len(metrics), figsize=(len(metrics)*8, 5))\n",
        "\n",
        "    fig.suptitle(model_name)\n",
        "\n",
        "\n",
        "    for i, metric in enumerate(metrics):\n",
        "        metric_hist = np.array([[epoch_hist[metric] for epoch_hist in epoch_history] for epoch_history in history]).flatten()\n",
        "        epochs      = np.linspace(0, len(history), num=len(metric_hist), endpoint=False)\n",
        "\n",
        "        # Plot metric per batch\n",
        "        axs[i].plot(epochs, metric_hist, alpha=alpha, color='b')\n",
        "\n",
        "        # Moving average\n",
        "        metric_hist = np.convolve(np.pad(metric_hist, (smooth_window//2,smooth_window//2), mode='edge'), np.ones(smooth_window)/smooth_window, mode='valid')\n",
        "        axs[i].plot(epochs, metric_hist, linewidth=3, label=\"Training\", color='b')\n",
        "\n",
        "        val_hist    = [epoch_hist[metric] for epoch_hist in val_history]\n",
        "\n",
        "        axs[i].plot(range(1, len(val_history)+1), val_hist, linewidth=3, label=\"Validation\", color='orange')\n",
        "\n",
        "        axs[i].set_title(f\"{metric} per batch/epoch\")\n",
        "\n",
        "        axs[i].legend()\n",
        "\n",
        "    plt.show()"
      ],
      "metadata": {
        "id": "t15IZRbBctC9"
      },
      "execution_count": null,
      "outputs": []
    },
    {
      "cell_type": "code",
      "source": [
        "plot_history(history, val_history, ['loss', 'accuracy'], model_name='BERT finetuned', smooth_window=101, alpha=0.2)"
      ],
      "metadata": {
        "colab": {
          "base_uri": "https://localhost:8080/",
          "height": 495
        },
        "id": "-ow9xsiPvuoq",
        "outputId": "51b0b024-8383-464c-f07e-0039c97a21f9"
      },
      "execution_count": null,
      "outputs": [
        {
          "output_type": "display_data",
          "data": {
            "text/plain": [
              "<Figure size 1600x500 with 2 Axes>"
            ],
            "image/png": "[encoded data removed]"
          },
          "metadata": {}
        }
      ]
    },
    {
      "cell_type": "markdown",
      "source": [
        "#### Evaluate in Test set"
      ],
      "metadata": {
        "id": "o-JTZche5Rms"
      }
    },
    {
      "cell_type": "code",
      "source": [
        "weights = torch.load('drive/MyDrive/best_weights.pth', map_location=device)\n",
        "\n",
        "model = SentimentClassifier().to(device)\n",
        "\n",
        "model.load_state_dict(weights)"
      ],
      "metadata": {
        "id": "2DMZycFJfDNW",
        "colab": {
          "base_uri": "https://localhost:8080/",
          "height": 121,
          "referenced_widgets": [
            "e7dd4d8438a647a5826b0197b18f1e17",
            "f44ba94f7f474343873b679c51e65248",
            "44a3a746969444f7867c6915b59a73c9",
            "96eb3d3a60bb4307afb9313a5533e56e",
            "e5b1a8bc84a446f5a0aa6b1220c3e6c0",
            "49c044db9de9413f9a1f8ad9aeb698ff",
            "4deae026f58a4fa981ab63d7c35100ee",
            "a74557c956a24ed18a96ff1e859fc66d",
            "0a62999a37e24669b49ad7af2c208403",
            "83a3c470ca364906babdf21a35ec46ca",
            "b2ad17fd6c364b73a3121f7c91123df8"
          ]
        },
        "outputId": "a169dae4-53c4-40b5-be66-3663ae4f898b"
      },
      "execution_count": null,
      "outputs": [
        {
          "output_type": "display_data",
          "data": {
            "text/plain": [
              "Downloading model.safetensors:   0%|          | 0.00/440M [00:00<?, ?B/s]"
            ],
            "application/vnd.jupyter.widget-view+json": {
              "version_major": 2,
              "version_minor": 0,
              "model_id": "e7dd4d8438a647a5826b0197b18f1e17"
            }
          },
          "metadata": {}
        },
        {
          "output_type": "stream",
          "name": "stderr",
          "text": [
            "Some weights of the model checkpoint at bert-base-uncased were not used when initializing BertModel: ['cls.predictions.transform.dense.bias', 'cls.predictions.transform.LayerNorm.bias', 'cls.seq_relationship.weight', 'cls.predictions.transform.dense.weight', 'cls.predictions.bias', 'cls.seq_relationship.bias', 'cls.predictions.transform.LayerNorm.weight']\n",
            "- This IS expected if you are initializing BertModel from the checkpoint of a model trained on another task or with another architecture (e.g. initializing a BertForSequenceClassification model from a BertForPreTraining model).\n",
            "- This IS NOT expected if you are initializing BertModel from the checkpoint of a model that you expect to be exactly identical (initializing a BertForSequenceClassification model from a BertForSequenceClassification model).\n"
          ]
        }
      ]
    },
    {
      "cell_type": "code",
      "source": [
        "criterion = nn.BCELoss()\n",
        "with torch.no_grad():\n",
        "    model.eval()\n",
        "    loss = 0\n",
        "    accuracy = 0\n",
        "    for data in test_loader:\n",
        "        target  = data['labels'].float().to(device)[:, None]\n",
        "\n",
        "        pred = model(data)\n",
        "\n",
        "        loss += criterion(pred, target).item()\n",
        "\n",
        "        accuracy += evaluate(pred, target)['accuracy']\n",
        "\n",
        "loss     = loss / len(test_loader)\n",
        "accuracy = accuracy / len(test_loader)\n",
        "\n",
        "print(f\"The model has achieved an average loss of {loss:.3f} and a total accuracy of {accuracy:.2%} on test\")"
      ],
      "metadata": {
        "colab": {
          "base_uri": "https://localhost:8080/"
        },
        "id": "2fyqXVSRf5l6",
        "outputId": "8df550db-89e6-459d-d73f-c7cbdb4e4313"
      },
      "execution_count": null,
      "outputs": [
        {
          "output_type": "stream",
          "name": "stdout",
          "text": [
            "The model has achieved an average loss of 0.195 and a total accuracy of 92.37% on test\n"
          ]
        }
      ]
    },
    {
      "cell_type": "markdown",
      "source": [
        "> What is your conclusions?"
      ],
      "metadata": {
        "id": "XjLynj25LS_4"
      }
    },
    {
      "cell_type": "markdown",
      "source": [
        "O modelo pré-treinado se adequou bem a tarefa de classificação, atingindo uma performance de 92% de acurácia no teste em apenas 2 épocas."
      ],
      "metadata": {
        "id": "CGMPswMR9I7_"
      }
    },
    {
      "cell_type": "markdown",
      "metadata": {
        "id": "8-mHVDxqWb-4"
      },
      "source": [
        "## **Translation task**\n",
        "\n",
        "In Natural Language Processing (NLP), translation tasks involve converting text from one language to another. The Paracrawl dataset, a valuable resource for translation research, consists of parallel text data gathered from various websites, enabling the development and training of translation models.\n",
        "\n",
        "\n",
        "The T5 (Text-To-Text Transfer Transformer) deep learning model is a versatile language model that excels at various NLP tasks. It operates on the principle of transforming input text into output text, making it a powerful tool for tasks such as text summarization, translation, question answering, and more. T5 achieves this flexibility by formulating different tasks as text generation problems, which enables it to be fine-tuned on specific tasks while leveraging its pre-trained knowledge.\n",
        "\n",
        "![t5_model](https://drive.google.com/uc?export=view&id=1h8tTSHIwkTon5j2WkBZBr7j731mWtL4O)\n",
        "\n",
        "**Original paper:** *RAFFEL, Colin et al. Exploring the limits of transfer learning with a unified text-to-text transformer. The Journal of Machine Learning Research, v. 21, n. 1, p. 5485-5551, 2020.*\n"
      ]
    },
    {
      "cell_type": "code",
      "execution_count": null,
      "metadata": {
        "id": "0hki9Ls8Yctv",
        "colab": {
          "base_uri": "https://localhost:8080/"
        },
        "outputId": "3d768990-e895-48c6-8cfe-e95d4ccb3ec5"
      },
      "outputs": [
        {
          "output_type": "stream",
          "name": "stdout",
          "text": [
            "CPU times: user 35.3 ms, sys: 790 µs, total: 36.1 ms\n",
            "Wall time: 4.22 s\n"
          ]
        }
      ],
      "source": [
        "%%time\n",
        "!pip install transformers sentencepiece torchmetrics -q"
      ]
    },
    {
      "cell_type": "markdown",
      "metadata": {
        "id": "dXSOUKXIYKNF"
      },
      "source": [
        "### Imports and global variables"
      ]
    },
    {
      "cell_type": "code",
      "execution_count": null,
      "metadata": {
        "id": "mtdRQ4dmWfM1"
      },
      "outputs": [],
      "source": [
        "import re\n",
        "import copy\n",
        "import gzip\n",
        "import torch\n",
        "import random\n",
        "import numpy as np\n",
        "import pandas as pd\n",
        "import matplotlib.pyplot as plt\n",
        "\n",
        "from torch.utils.data import Dataset, DataLoader\n",
        "from torch.optim.lr_scheduler import ReduceLROnPlateau\n",
        "from transformers import T5Tokenizer, T5ForConditionalGeneration, get_linear_schedule_with_warmup\n",
        "\n",
        "from typing import Dict\n",
        "from typing import List\n",
        "from typing import Tuple"
      ]
    },
    {
      "cell_type": "code",
      "execution_count": null,
      "metadata": {
        "id": "H6bRqmuMYcH-",
        "colab": {
          "base_uri": "https://localhost:8080/"
        },
        "outputId": "b92efadd-eee3-484b-9bc7-a3e420683e09"
      },
      "outputs": [
        {
          "output_type": "stream",
          "name": "stdout",
          "text": [
            "Device: cuda:0\n"
          ]
        }
      ],
      "source": [
        "# Important: Fix seeds so we can replicate results\n",
        "random_seed = 42\n",
        "random.seed(random_seed)\n",
        "np.random.seed(random_seed)\n",
        "torch.manual_seed(random_seed)\n",
        "\n",
        "device = torch.device(\"cuda:0\" if torch.cuda.is_available() else \"cpu\")\n",
        "print(f'Device: {device}')"
      ]
    },
    {
      "cell_type": "markdown",
      "source": [
        "### Parameters"
      ],
      "metadata": {
        "id": "mseEi6_uRA7z"
      }
    },
    {
      "cell_type": "code",
      "execution_count": null,
      "metadata": {
        "id": "DHHyaCTnZF3F"
      },
      "outputs": [],
      "source": [
        "params = {\n",
        "    'model_name': 'unicamp-dl/ptt5-small-portuguese-vocab',\n",
        "    'batch_size': 64,\n",
        "    'accumulate_grad_batches': 4,\n",
        "    'source_max_length': 128, # Maximum number of tokens in the source sentence (you can select a different value)\n",
        "    'target_max_length': 128, # Maximum number of tokens in the target sentence (you can select a different value)\n",
        "    'learning_rate': 1e-3,\n",
        "    'evaluate_interval': 500  # Intervals at which we will evaluate the model (in steps)\n",
        "}"
      ]
    },
    {
      "cell_type": "markdown",
      "metadata": {
        "id": "8O9ZWpr6Yyh8"
      },
      "source": [
        "### Load data\n",
        "\n",
        "Here we are loading the data. Notice that the label no longer consists of a class index, but instead, it comprises a complete sentence. In the modified Paracrawl dataset, the input sentence is in English, while the output sentence is in Portuguese.\n",
        "\n",
        "For training, we will use 99k samples, 10k samples for validation, and 20k samples for testing.\n",
        "\n",
        "**Note:** If you are experiencing issues with GPU allocation, you can reduce the number of training samples. Otherwise, it is advisable to utilize the entire dataset."
      ]
    },
    {
      "cell_type": "markdown",
      "source": [
        "LINK TO THE [DATASET](https://drive.google.com/drive/folders/1tUwgkpcLXAsZizXUKfJeN5ZH75rEj3Js?usp=sharing)"
      ],
      "metadata": {
        "id": "6fKttv5hNbRu"
      }
    },
    {
      "cell_type": "code",
      "source": [
        "!wget --load-cookies /tmp/cookies.txt \"https://docs.google.com/uc?export=download&confirm=$(wget --quiet --save-cookies /tmp/cookies.txt --keep-session-cookies --no-check-certificate 'https://docs.google.com/uc?export=download&id=1vH1e4PmeRqx69sO-rSn0Fpooi_Ivw_f-' -O- | sed -rn 's/.*confirm=([0-9A-Za-z_]+).*/\\1\\n/p')&id=1vH1e4PmeRqx69sO-rSn0Fpooi_Ivw_f-\" -O paracrawl_en_pt_train.tsv.gz\n",
        "!wget \"https://docs.google.com/uc?export=download&id=1llIS8lNBEvvxScSxzLRPs-FpPybLbagj\" -O paracrawl_en_pt_test.tsv.gz"
      ],
      "metadata": {
        "colab": {
          "base_uri": "https://localhost:8080/"
        },
        "id": "RyV1Llb1zXtc",
        "outputId": "d727659d-09e2-492a-a9b9-bc0ef9c5145b"
      },
      "execution_count": null,
      "outputs": [
        {
          "output_type": "stream",
          "name": "stdout",
          "text": [
            "--2023-07-06 03:11:32--  https://docs.google.com/uc?export=download&confirm=t&id=1vH1e4PmeRqx69sO-rSn0Fpooi_Ivw_f-\n",
            "Resolving docs.google.com (docs.google.com)... 74.125.130.138, 74.125.130.139, 74.125.130.113, ...\n",
            "Connecting to docs.google.com (docs.google.com)|74.125.130.138|:443... connected.\n",
            "HTTP request sent, awaiting response... 303 See Other\n",
            "Location: https://doc-04-3s-docs.googleusercontent.com/docs/securesc/ha0ro937gcuc7l7deffksulhg5h7mbp1/j0v0a6k9e2sgkpif47soho5g6qgmu8fq/1688613075000/01089768076506809926/*/1vH1e4PmeRqx69sO-rSn0Fpooi_Ivw_f-?e=download&uuid=b60b7c9e-026f-42c6-8085-d45d7859bdc0 [following]\n",
            "Warning: wildcards not supported in HTTP.\n",
            "--2023-07-06 03:11:32--  https://doc-04-3s-docs.googleusercontent.com/docs/securesc/ha0ro937gcuc7l7deffksulhg5h7mbp1/j0v0a6k9e2sgkpif47soho5g6qgmu8fq/1688613075000/01089768076506809926/*/1vH1e4PmeRqx69sO-rSn0Fpooi_Ivw_f-?e=download&uuid=b60b7c9e-026f-42c6-8085-d45d7859bdc0\n",
            "Resolving doc-04-3s-docs.googleusercontent.com (doc-04-3s-docs.googleusercontent.com)... 142.251.10.132, 2404:6800:4003:c0f::84\n",
            "Connecting to doc-04-3s-docs.googleusercontent.com (doc-04-3s-docs.googleusercontent.com)|142.251.10.132|:443... connected.\n",
            "HTTP request sent, awaiting response... 200 OK\n",
            "Length: 106548256 (102M) [application/gzip]\n",
            "Saving to: ‘paracrawl_en_pt_train.tsv.gz’\n",
            "\n",
            "paracrawl_en_pt_tra 100%[===================>] 101.61M   239MB/s    in 0.4s    \n",
            "\n",
            "2023-07-06 03:11:33 (239 MB/s) - ‘paracrawl_en_pt_train.tsv.gz’ saved [106548256/106548256]\n",
            "\n",
            "--2023-07-06 03:11:33--  https://docs.google.com/uc?export=download&id=1llIS8lNBEvvxScSxzLRPs-FpPybLbagj\n",
            "Resolving docs.google.com (docs.google.com)... 74.125.130.138, 74.125.130.139, 74.125.130.113, ...\n",
            "Connecting to docs.google.com (docs.google.com)|74.125.130.138|:443... connected.\n",
            "HTTP request sent, awaiting response... 303 See Other\n",
            "Location: https://doc-00-3s-docs.googleusercontent.com/docs/securesc/ha0ro937gcuc7l7deffksulhg5h7mbp1/t8n4il7u6i69fj2e6hiv9hhs7u65padk/1688613075000/01089768076506809926/*/1llIS8lNBEvvxScSxzLRPs-FpPybLbagj?e=download&uuid=b8f072a7-0109-4896-91b5-f3ed77739356 [following]\n",
            "Warning: wildcards not supported in HTTP.\n",
            "--2023-07-06 03:11:41--  https://doc-00-3s-docs.googleusercontent.com/docs/securesc/ha0ro937gcuc7l7deffksulhg5h7mbp1/t8n4il7u6i69fj2e6hiv9hhs7u65padk/1688613075000/01089768076506809926/*/1llIS8lNBEvvxScSxzLRPs-FpPybLbagj?e=download&uuid=b8f072a7-0109-4896-91b5-f3ed77739356\n",
            "Resolving doc-00-3s-docs.googleusercontent.com (doc-00-3s-docs.googleusercontent.com)... 142.251.10.132, 2404:6800:4003:c0f::84\n",
            "Connecting to doc-00-3s-docs.googleusercontent.com (doc-00-3s-docs.googleusercontent.com)|142.251.10.132|:443... connected.\n",
            "HTTP request sent, awaiting response... 200 OK\n",
            "Length: 2139168 (2.0M) [application/gzip]\n",
            "Saving to: ‘paracrawl_en_pt_test.tsv.gz’\n",
            "\n",
            "paracrawl_en_pt_tes 100%[===================>]   2.04M  --.-KB/s    in 0.02s   \n",
            "\n",
            "2023-07-06 03:11:41 (96.0 MB/s) - ‘paracrawl_en_pt_test.tsv.gz’ saved [2139168/2139168]\n",
            "\n"
          ]
        }
      ]
    },
    {
      "cell_type": "code",
      "execution_count": null,
      "metadata": {
        "id": "7uAzxLy7Yz80",
        "colab": {
          "base_uri": "https://localhost:8080/"
        },
        "outputId": "7570b720-c4ce-4926-bfac-f09da86baf11"
      },
      "outputs": [
        {
          "output_type": "stream",
          "name": "stdout",
          "text": [
            "\n",
            "First three train samples:\n",
            "0: source: The ECOWAS Member states are as follows:\n",
            "   target: Os Estados-membros da CEDEAO são:\n",
            "\n",
            "1: source: May our Movement, which the Spirit of Christ has aroused and brought about in obedience and in peace, fraternally inspire the whole of Christian society, so that in all the places where the faith is proclaimed there may be found traces of Mary’s holiness (“In you is mercy, in you pity, in you munificence, in you is found whatever of goodness is in any creature”).\n",
            "   target: Nosso movimento, que o Espírito de Cristo despertou e realizou dentro da obediência e da paz, inspire fraternalmente toda a sociedade cristã, de modo a que em todos os lugares onde a fé for proclamada possam ser encontrados vestígios da santidade de Nossa Senhora (“Em ti, misericórdia, em ti, piedade,/ em ti magnificência, em ti se coaduna/ todo o bem que existe nas criaturas”).\n",
            "\n",
            "2: source: Lying 11 km from Żelazowa Wola there is Brochów with its imposing brick parish church where Chopin’s parents were married and his birth certificate is also on display.\n",
            "   target: A somente 11 km de ¯elazowa Wola ficaBrochówcom sua imponente igreja paroquial, onde os pais de Chopin se casaram e sua certidao de nascimento está em exibiçao.\n",
            "\n",
            "--------------------------------------------------------------------------------------------------------------------------------------------------------------------------------------------------------\n",
            "\n",
            "First three valid samples:\n",
            "0: source: Definition English: Health services for employees, usually provided by the employer at the place of work.\n",
            "   target: Definição Português: Serviços de saúde para as pessoas inseridas no mercado de trabalho, geralmente oferecidos pelo empregador no próprio local de trabalho.\n",
            "\n",
            "1: source: Probably the men who received payment also gave at least part of their money to pay for their food or they bought it themselves.\n",
            "   target: É provável também que os homens que eram remunerados davam ao menos parte de seu dinheiro para pagar sua alimentação, ou iam eles mesmos comprá-la.\n",
            "\n",
            "2: source: “The Vivo Network Digital Inclusion program is totally aligned with Vivo’s mission, which is “to create conditions for people to relate more and more to each other, anytime anyplace, and to be able to live in a more human, safe, intelligent and funny way”, said Roberto Lima.\n",
            "   target: “O programa Rede Vivo de Inclusão Digital está totalmente alinhado com a missão da Vivo que é ‘criar condições para que as pessoas se relacionem, cada vez mais, a qualquer hora e em qualquer lugar, e assim possam viver de forma mais humana, segura, inteligente e divertida’”, afirmou Roberto Lima.\n",
            "\n",
            "--------------------------------------------------------------------------------------------------------------------------------------------------------------------------------------------------------\n",
            "Train size: 990000\n",
            "Valid size: 10000\n",
            "Test size: 20000\n"
          ]
        }
      ],
      "source": [
        "def load_text_pairs(path):\n",
        "    text_pairs = []\n",
        "    for line in gzip.open(path, mode='rt'):\n",
        "        text_pairs.append(line.strip().split('\\t'))\n",
        "    return text_pairs\n",
        "\n",
        "x_train = load_text_pairs('/content/paracrawl_en_pt_train.tsv.gz')\n",
        "x_test  = load_text_pairs('/content/paracrawl_en_pt_test.tsv.gz')\n",
        "\n",
        "random.shuffle(x_train)\n",
        "\n",
        "x_valid = x_train[990000:]\n",
        "x_train = x_train[:990000]\n",
        "\n",
        "print('\\nFirst three train samples:')\n",
        "for i, (source, target) in enumerate(x_train[:3]):\n",
        "  print(f'{i}: source: {source}\\n   target: {target}\\n')\n",
        "\n",
        "print('-'*200)\n",
        "print('\\nFirst three valid samples:')\n",
        "for i, (source, target) in enumerate(x_valid[:3]):\n",
        "  print(f'{i}: source: {source}\\n   target: {target}\\n')\n",
        "\n",
        "print('-'*200)\n",
        "print(f'Train size: {len(x_train)}')\n",
        "print(f'Valid size: {len(x_valid)}')\n",
        "print(f'Test size: {len(x_test)}')"
      ]
    },
    {
      "cell_type": "markdown",
      "source": [
        "### Class Dataset from PyTorch.\n",
        "\n",
        "When training a T5 model for a translation task, the dataset should be structured in a way that includes pairs of source (input) sentences and target (output) sentences. Each pair represents a translation example.\n",
        "\n",
        "Here's an example of how the dataset can be structured:\n",
        "```\n",
        "  {\"source\": \"I like cats.\", \"target\": \"Eu gosto de gatos.\"},\n",
        "  {\"source\": \"The sun is shining.\", \"target\": \"O sol está brilhando.\"},\n",
        "  {\"source\": \"She speaks French.\", \"target\": \"Ela fala francês.\"},\n",
        "    ...\n",
        "```\n",
        "\n",
        "In this structure, each example is a dictionary with two keys: \"source\" and \"target\". The value for the \"source\" key represents the input sentence in the source language (e.g., English), and the value for the \"target\" key represents the corresponding translation sentence in the target language (e.g., Portuguese).\n",
        "\n",
        "During the training process, you would load this dataset into your custom PyTorch dataset class, preprocess the sentences (e.g., tokenization), and convert them into model-specific inputs and targets using a tokenizer (such as the [T5Tokenizer](https://huggingface.co/docs/transformers/model_doc/t5#transformers.T5Tokenizer) provided by Hugging Face).\n",
        "\n",
        "\n",
        "**Hint 1:** See the [Dataset and Dataloader documentation](https://pytorch.org/tutorials/beginner/basics/data_tutorial.html) for more information."
      ],
      "metadata": {
        "id": "HvM-RPirRnoZ"
      }
    },
    {
      "cell_type": "code",
      "execution_count": null,
      "metadata": {
        "id": "a35P0GCaY2Gc"
      },
      "outputs": [],
      "source": [
        "class ParacrawlDataset(Dataset):\n",
        "  def __init__(self, text_pairs: List[Tuple[str]], tokenizer, source_max_length: int = 32, target_max_length: int = 32):\n",
        "    self.text_pairs        = text_pairs\n",
        "    self.tokenizer         = tokenizer\n",
        "    self.source_max_length = source_max_length\n",
        "    self.target_max_length = target_max_length\n",
        "\n",
        "\n",
        "  def __len__(self):\n",
        "    return len(self.text_pairs)\n",
        "\n",
        "  def __getitem__(self, index):\n",
        "    source, target = self.text_pairs[index]\n",
        "\n",
        "    source_tokens = self.tokenizer(source, add_special_tokens=True,\n",
        "                                    max_length=self.source_max_length,\n",
        "                                    padding=\"max_length\",\n",
        "                                    truncation=True,\n",
        "                                    return_tensors='pt')\n",
        "\n",
        "    target_tokens = self.tokenizer(target, add_special_tokens=True,\n",
        "                                    max_length=self.target_max_length,\n",
        "                                    padding=\"max_length\",\n",
        "                                    truncation=True,\n",
        "                                    return_tensors='pt')\n",
        "\n",
        "    source_token_ids = source_tokens['input_ids'][0]\n",
        "    source_mask      = source_tokens['attention_mask'][0]\n",
        "    original_source  = source\n",
        "\n",
        "    target_token_ids = target_tokens['input_ids'][0]\n",
        "    target_mask      = target_tokens['attention_mask'][0]\n",
        "    original_target  = target\n",
        "\n",
        "    ## The output should return variables representing the following information:\n",
        "      # source_token_ids : The source sentence converted into tokens.\n",
        "      # source_mask      : The source mask attention.\n",
        "      # target_token_ids : The target sentence converted into tokens.\n",
        "      # target_mask      : The target mask attention.\n",
        "      # original_source  : Original source sentence without preprocess nor tokenization.\n",
        "      # original_target  : Original target sentence without preprocess nor tokenization.\n",
        "\n",
        "    return (source_token_ids, source_mask, target_token_ids, target_mask, original_source, original_target)"
      ]
    },
    {
      "cell_type": "code",
      "execution_count": null,
      "metadata": {
        "id": "H8dUNe9XZ0Fv"
      },
      "outputs": [],
      "source": [
        "tokenizer = T5Tokenizer.from_pretrained(params['model_name'])\n",
        "\n",
        "dataset_train = ParacrawlDataset(text_pairs=x_train, tokenizer=tokenizer, source_max_length=params['source_max_length'], target_max_length=params['target_max_length'])\n",
        "dataset_valid = ParacrawlDataset(text_pairs=x_valid, tokenizer=tokenizer, source_max_length=params['source_max_length'], target_max_length=params['target_max_length'])\n",
        "dataset_test  = ParacrawlDataset(text_pairs=x_test,  tokenizer=tokenizer, source_max_length=params['source_max_length'], target_max_length=params['target_max_length'])\n",
        "\n",
        "train_loader = DataLoader(dataset_train, batch_size=params['batch_size'], shuffle=True,  num_workers=0)\n",
        "valid_loader = DataLoader(dataset_valid, batch_size=params['batch_size'], shuffle=False, num_workers=0)\n",
        "test_loader  = DataLoader(dataset_test,  batch_size=params['batch_size'], shuffle=False, num_workers=0)"
      ]
    },
    {
      "cell_type": "markdown",
      "source": [
        "### Useful functions\n",
        "\n",
        "**Note 1:** The following functions are provided as suggestions. You are free to modify and create your own functions, classes, or code. Feel free to customize!\n",
        "\n",
        "**Note 2:** Example of gradient accumalation in PyTorch: https://kozodoi.me/blog/20210219/gradient-accumulation.\n",
        "\n",
        "**Note 3:** The training step function consists of just one iteration, not one epoch."
      ],
      "metadata": {
        "id": "RaX2Y4A51Yfl"
      }
    },
    {
      "cell_type": "markdown",
      "source": [
        "### Train the T5 model\n",
        "\n",
        "**Note:** The following functions are provided as suggestions. You are free to modify and create your own functions, classes, or code. Feel free to customize!\n",
        "\n",
        "**Hint 1:** See the [T5ForConditionalGeneration documentation](https://huggingface.co/docs/transformers/model_doc/t5#transformers.T5ForConditionalGeneration) for more information.\n",
        "\n",
        "**Hint 2:** Instead of saving information by epoch, you can save it by step. A step corresponds to a single update of the model's weights based on a mini-batch of data, while an epoch represents a complete pass through the entire training dataset. The number of steps is determined by the batch size and the total number of training examples, whereas the number of epochs is a user-defined hyperparameter.\n",
        "\n",
        "**Hint 3:** You don't need to train for an entire epoch, as that would take 4 hours. Instead, you can train for around 2000 steps and evaluate the model. Although the model may not be optimal, it provides a good approximation."
      ],
      "metadata": {
        "id": "Q8rRqmrS4v_U"
      }
    },
    {
      "cell_type": "code",
      "source": [
        "model = T5ForConditionalGeneration.from_pretrained(params['model_name'])\n",
        "model = model.to(device)"
      ],
      "metadata": {
        "id": "yL5zqwykBSVJ"
      },
      "execution_count": null,
      "outputs": []
    },
    {
      "cell_type": "code",
      "source": [
        "best_score = 0\n",
        "counter = 0\n",
        "\n",
        "history = []\n",
        "val_history = []\n",
        "\n",
        "# Training loop\n",
        "n_batches = len(train_loader)\n",
        "for n_batch, (source_token_ids, source_mask, target_token_ids, target_mask, original_source, original_target) in enumerate(train_loader):\n",
        "    gc.collect()\n",
        "    torch.cuda.empty_cache()\n",
        "\n",
        "    model.train()\n",
        "\n",
        "    loss = model(source_token_ids.to(device), source_mask.to(device), target_token_ids.to(device), target_mask.to(device)).loss\n",
        "\n",
        "    loss.backward()\n",
        "\n",
        "    optimizer.step()\n",
        "    optimizer.zero_grad()\n",
        "\n",
        "    history.append(loss.item())\n",
        "\n",
        "    print(f'\\rEPOCH {(n_batch+1)/n_batches : >05.3f} |   loss: {loss.item() : >4.3f}', end='')\n",
        "\n",
        "    if (n_batch + 1) % 10 == 0:\n",
        "        with torch.no_grad():\n",
        "            model.eval()\n",
        "            val_total_loss = 0\n",
        "            for source_token_ids, source_mask, target_token_ids, target_mask, original_source, original_target in valid_loader:\n",
        "                target  = data['labels'].float().to(device)[:, None]\n",
        "\n",
        "                pred = model(data)\n",
        "\n",
        "                val_loss  = model(source_token_ids.to(device), source_mask.to(device), target_token_ids.to(device), target_mask.to(device)).loss\n",
        "                val_total_loss += val_loss.item()\n",
        "\n",
        "\n",
        "                print(f'\\rEPOCH {(n_batch+1)/n_batches : >05.3f} |   loss: {loss.item() : >4.3f} |   val loss: {val_loss.item() : >4.3f}', end='')\n",
        "\n",
        "        val_total_loss /= len(valid_loader)\n",
        "\n",
        "        print(f'\\rEPOCH {(n_batch+1)/n_batches : >05.3f} |   loss: {loss.item() : >4.3f} |   val loss: {val_total_loss : >4.3f}', end='')\n",
        "        print()\n",
        "\n",
        "\n",
        "        if val_total_loss < best_score + 1e-3:\n",
        "            counter += 1\n",
        "\n",
        "            if counter >= 10:\n",
        "                print(f\"Training Early Stopped after {n_batch} batches\")\n",
        "                break\n",
        "\n",
        "        else:\n",
        "            counter = 0\n",
        "            best_score = val_total_loss\n",
        "\n",
        "            torch.save(model.state_dict(), 'drive/MyDrive/best_weights.pth')\n"
      ],
      "metadata": {
        "colab": {
          "base_uri": "https://localhost:8080/",
          "height": 252
        },
        "id": "4tc6JrzpEzcS",
        "outputId": "fd647ad4-30fb-4e43-ab4a-f99d7b7e18bd"
      },
      "execution_count": null,
      "outputs": [
        {
          "output_type": "error",
          "ename": "AttributeError",
          "evalue": "ignored",
          "traceback": [
            "\u001b[0;31m---------------------------------------------------------------------------\u001b[0m",
            "\u001b[0;31mAttributeError\u001b[0m                            Traceback (most recent call last)",
            "\u001b[0;32m<ipython-input-12-1d2254d51f00>\u001b[0m in \u001b[0;36m<cell line: 9>\u001b[0;34m()\u001b[0m\n\u001b[1;32m     15\u001b[0m     \u001b[0mloss\u001b[0m \u001b[0;34m=\u001b[0m \u001b[0mmodel\u001b[0m\u001b[0;34m(\u001b[0m\u001b[0msource_token_ids\u001b[0m\u001b[0;34m.\u001b[0m\u001b[0mto\u001b[0m\u001b[0;34m(\u001b[0m\u001b[0mdevice\u001b[0m\u001b[0;34m)\u001b[0m\u001b[0;34m,\u001b[0m \u001b[0msource_mask\u001b[0m\u001b[0;34m.\u001b[0m\u001b[0mto\u001b[0m\u001b[0;34m(\u001b[0m\u001b[0mdevice\u001b[0m\u001b[0;34m)\u001b[0m\u001b[0;34m,\u001b[0m \u001b[0mtarget_token_ids\u001b[0m\u001b[0;34m.\u001b[0m\u001b[0mto\u001b[0m\u001b[0;34m(\u001b[0m\u001b[0mdevice\u001b[0m\u001b[0;34m)\u001b[0m\u001b[0;34m,\u001b[0m \u001b[0mtarget_mask\u001b[0m\u001b[0;34m.\u001b[0m\u001b[0mto\u001b[0m\u001b[0;34m(\u001b[0m\u001b[0mdevice\u001b[0m\u001b[0;34m)\u001b[0m\u001b[0;34m)\u001b[0m\u001b[0;34m.\u001b[0m\u001b[0mloss\u001b[0m\u001b[0;34m\u001b[0m\u001b[0;34m\u001b[0m\u001b[0m\n\u001b[1;32m     16\u001b[0m \u001b[0;34m\u001b[0m\u001b[0m\n\u001b[0;32m---> 17\u001b[0;31m     \u001b[0mloss\u001b[0m\u001b[0;34m.\u001b[0m\u001b[0mbackward\u001b[0m\u001b[0;34m(\u001b[0m\u001b[0;34m)\u001b[0m\u001b[0;34m\u001b[0m\u001b[0;34m\u001b[0m\u001b[0m\n\u001b[0m\u001b[1;32m     18\u001b[0m \u001b[0;34m\u001b[0m\u001b[0m\n\u001b[1;32m     19\u001b[0m     \u001b[0moptimizer\u001b[0m\u001b[0;34m.\u001b[0m\u001b[0mstep\u001b[0m\u001b[0;34m(\u001b[0m\u001b[0;34m)\u001b[0m\u001b[0;34m\u001b[0m\u001b[0;34m\u001b[0m\u001b[0m\n",
            "\u001b[0;31mAttributeError\u001b[0m: 'NoneType' object has no attribute 'backward'"
          ]
        }
      ]
    },
    {
      "cell_type": "markdown",
      "source": [
        "Não sei por que a loss não aparece... Ver documentação"
      ],
      "metadata": {
        "id": "vteL4ybNnPca"
      }
    },
    {
      "cell_type": "markdown",
      "source": [
        "### Evaluation of the model"
      ],
      "metadata": {
        "id": "z3ocN1q7UaOR"
      }
    },
    {
      "cell_type": "code",
      "source": [
        "## Save Best Model Weights and history\n",
        "path = 'drive/MyDrive'\n",
        "torch.save(early_stopping.best_model_wts, f'{path}/weights_T5.pth')\n",
        "\n",
        "np.save(f'{path}/train_loss_T5', np.array(history['train_loss']))\n",
        "np.save(f'{path}/valid_loss_T5', np.array(history['valid_loss']))\n",
        "\n",
        "np.save(f'{path}/train_acc_T5', np.array(history['train_acc']))\n",
        "np.save(f'{path}/valid_acc_T5', np.array(history['valid_acc']))"
      ],
      "metadata": {
        "id": "YD8DbwYeS8My"
      },
      "execution_count": null,
      "outputs": []
    },
    {
      "cell_type": "code",
      "source": [
        "## Load\n",
        "train_loss = np.load(f'{path}/train_loss_T5.npy')\n",
        "train_acc  = np.load(f'{path}/train_acc_T5.npy')\n",
        "\n",
        "valid_loss = np.load(f'{path}/valid_loss_T5.npy')\n",
        "valid_acc  = np.load(f'{path}/valid_acc_T5.npy')"
      ],
      "metadata": {
        "id": "ARCeHm1Z-QOw"
      },
      "execution_count": null,
      "outputs": []
    },
    {
      "cell_type": "markdown",
      "source": [
        "#### Plot the Train and Valid loss (in Steps)"
      ],
      "metadata": {
        "id": "tpDrexiCq5YU"
      }
    },
    {
      "cell_type": "code",
      "source": [
        "## --- Insert code here --- ##\n",
        "plot(history)"
      ],
      "metadata": {
        "id": "gOXLZpp4rV3j"
      },
      "execution_count": null,
      "outputs": []
    },
    {
      "cell_type": "markdown",
      "source": [
        "#### Calculate the BLEU Score\n",
        "\n",
        "[BLEU](https://en.wikipedia.org/wiki/BLEU) (Bilingual Evaluation Understudy) is a metric that measures the similarity between machine-generated translations and reference translations.\n",
        "\n",
        "**Hint 1:** There are many libraries that have already implemented the BLEU score, such as [torchmetrics](https://torchmetrics.readthedocs.io/en/latest/). You DON'T have to implement it yourself."
      ],
      "metadata": {
        "id": "Ykn2YIzko4vM"
      }
    },
    {
      "cell_type": "code",
      "source": [
        "## --- Insert code here --- ##\n",
        "def calculate_blue_score():\n",
        "  return None"
      ],
      "metadata": {
        "id": "rgOYFWGS8odG"
      },
      "execution_count": null,
      "outputs": []
    },
    {
      "cell_type": "code",
      "source": [
        "model = T5ForConditionalGeneration.from_pretrained(params['model_name'])\n",
        "model.load_state_dict(early_stopping.best_model_wts)\n",
        "model.to(device)\n",
        "\n",
        "valid_blue_score = calculate_blue_score()\n",
        "test_blue_score  = calculate_blue_score()\n",
        "\n",
        "print(f'Validation BLUE: {valid_blue_score}')\n",
        "print(f'Test BLUE: {test_blue_score}')"
      ],
      "metadata": {
        "id": "ZPQhPyl0s1pC"
      },
      "execution_count": null,
      "outputs": []
    },
    {
      "cell_type": "markdown",
      "source": [
        "#### Implement a function that translates an English sentence to Portuguese.\n",
        "\n",
        "**Hint 1:** See the documentation of [T5ForConditionalGeneration](https://huggingface.co/docs/transformers/model_doc/t5#transformers.T5ForConditionalGeneration).\n",
        "\n",
        "**Hint 2:** Remember to decode the feature generated by the model using the [T5Tokenizer](https://huggingface.co/docs/transformers/model_doc/t5#transformers.T5Tokenizer)"
      ],
      "metadata": {
        "id": "LfjvUjvLraiv"
      }
    },
    {
      "cell_type": "code",
      "source": [
        "def translate():\n",
        "## --- Insert code here --- ##\n",
        "  return None"
      ],
      "metadata": {
        "id": "NSoN9URHueL0"
      },
      "execution_count": null,
      "outputs": []
    },
    {
      "cell_type": "code",
      "source": [
        "sample = None\n",
        "translate(sample)"
      ],
      "metadata": {
        "id": "vrBepMhXKuLQ"
      },
      "execution_count": null,
      "outputs": []
    },
    {
      "cell_type": "markdown",
      "source": [
        "> What is your conclusion?"
      ],
      "metadata": {
        "id": "RQokE9D2Q3dB"
      }
    }
  ],
  "metadata": {
    "colab": {
      "provenance": [],
      "gpuType": "T4"
    },
    "kernelspec": {
      "display_name": "Python 3",
      "name": "python3"
    },
    "language_info": {
      "name": "python"
    },
    "widgets": {
      "application/vnd.jupyter.widget-state+json": {
        "71692357a5ce41c2be79e8f9d58878b9": {
          "model_module": "@jupyter-widgets/controls",
          "model_name": "HBoxModel",
          "model_module_version": "1.5.0",
          "state": {
            "_dom_classes": [],
            "_model_module": "@jupyter-widgets/controls",
            "_model_module_version": "1.5.0",
            "_model_name": "HBoxModel",
            "_view_count": null,
            "_view_module": "@jupyter-widgets/controls",
            "_view_module_version": "1.5.0",
            "_view_name": "HBoxView",
            "box_style": "",
            "children": [
              "IPY_MODEL_3c974b06203d4d49beca1b716e644efd",
              "IPY_MODEL_548c9e891ae44c798182886064e0b0cc",
              "IPY_MODEL_4db5dd7b715e4dc6a7032c3491a496c0"
            ],
            "layout": "IPY_MODEL_b98ae56a34ac4741a981ee86c4fb9ea8"
          }
        },
        "3c974b06203d4d49beca1b716e644efd": {
          "model_module": "@jupyter-widgets/controls",
          "model_name": "HTMLModel",
          "model_module_version": "1.5.0",
          "state": {
            "_dom_classes": [],
            "_model_module": "@jupyter-widgets/controls",
            "_model_module_version": "1.5.0",
            "_model_name": "HTMLModel",
            "_view_count": null,
            "_view_module": "@jupyter-widgets/controls",
            "_view_module_version": "1.5.0",
            "_view_name": "HTMLView",
            "description": "",
            "description_tooltip": null,
            "layout": "IPY_MODEL_7b43ae47d0264406854152ea09afcfa3",
            "placeholder": "​",
            "style": "IPY_MODEL_0775b1b8b26e48c3b075ee663bff128c",
            "value": "Downloading model.safetensors: 100%"
          }
        },
        "548c9e891ae44c798182886064e0b0cc": {
          "model_module": "@jupyter-widgets/controls",
          "model_name": "FloatProgressModel",
          "model_module_version": "1.5.0",
          "state": {
            "_dom_classes": [],
            "_model_module": "@jupyter-widgets/controls",
            "_model_module_version": "1.5.0",
            "_model_name": "FloatProgressModel",
            "_view_count": null,
            "_view_module": "@jupyter-widgets/controls",
            "_view_module_version": "1.5.0",
            "_view_name": "ProgressView",
            "bar_style": "success",
            "description": "",
            "description_tooltip": null,
            "layout": "IPY_MODEL_b236d12be9714f9e850e255b70d158e7",
            "max": 440449768,
            "min": 0,
            "orientation": "horizontal",
            "style": "IPY_MODEL_d51aad1d9cd94568b5d3edb171af3afe",
            "value": 440449768
          }
        },
        "4db5dd7b715e4dc6a7032c3491a496c0": {
          "model_module": "@jupyter-widgets/controls",
          "model_name": "HTMLModel",
          "model_module_version": "1.5.0",
          "state": {
            "_dom_classes": [],
            "_model_module": "@jupyter-widgets/controls",
            "_model_module_version": "1.5.0",
            "_model_name": "HTMLModel",
            "_view_count": null,
            "_view_module": "@jupyter-widgets/controls",
            "_view_module_version": "1.5.0",
            "_view_name": "HTMLView",
            "description": "",
            "description_tooltip": null,
            "layout": "IPY_MODEL_61ae362e4a6d4dae8b2e4a1e4c91467c",
            "placeholder": "​",
            "style": "IPY_MODEL_6f053bfed72b4127b0d1bd384cb63615",
            "value": " 440M/440M [00:03&lt;00:00, 74.7MB/s]"
          }
        },
        "b98ae56a34ac4741a981ee86c4fb9ea8": {
          "model_module": "@jupyter-widgets/base",
          "model_name": "LayoutModel",
          "model_module_version": "1.2.0",
          "state": {
            "_model_module": "@jupyter-widgets/base",
            "_model_module_version": "1.2.0",
            "_model_name": "LayoutModel",
            "_view_count": null,
            "_view_module": "@jupyter-widgets/base",
            "_view_module_version": "1.2.0",
            "_view_name": "LayoutView",
            "align_content": null,
            "align_items": null,
            "align_self": null,
            "border": null,
            "bottom": null,
            "display": null,
            "flex": null,
            "flex_flow": null,
            "grid_area": null,
            "grid_auto_columns": null,
            "grid_auto_flow": null,
            "grid_auto_rows": null,
            "grid_column": null,
            "grid_gap": null,
            "grid_row": null,
            "grid_template_areas": null,
            "grid_template_columns": null,
            "grid_template_rows": null,
            "height": null,
            "justify_content": null,
            "justify_items": null,
            "left": null,
            "margin": null,
            "max_height": null,
            "max_width": null,
            "min_height": null,
            "min_width": null,
            "object_fit": null,
            "object_position": null,
            "order": null,
            "overflow": null,
            "overflow_x": null,
            "overflow_y": null,
            "padding": null,
            "right": null,
            "top": null,
            "visibility": null,
            "width": null
          }
        },
        "7b43ae47d0264406854152ea09afcfa3": {
          "model_module": "@jupyter-widgets/base",
          "model_name": "LayoutModel",
          "model_module_version": "1.2.0",
          "state": {
            "_model_module": "@jupyter-widgets/base",
            "_model_module_version": "1.2.0",
            "_model_name": "LayoutModel",
            "_view_count": null,
            "_view_module": "@jupyter-widgets/base",
            "_view_module_version": "1.2.0",
            "_view_name": "LayoutView",
            "align_content": null,
            "align_items": null,
            "align_self": null,
            "border": null,
            "bottom": null,
            "display": null,
            "flex": null,
            "flex_flow": null,
            "grid_area": null,
            "grid_auto_columns": null,
            "grid_auto_flow": null,
            "grid_auto_rows": null,
            "grid_column": null,
            "grid_gap": null,
            "grid_row": null,
            "grid_template_areas": null,
            "grid_template_columns": null,
            "grid_template_rows": null,
            "height": null,
            "justify_content": null,
            "justify_items": null,
            "left": null,
            "margin": null,
            "max_height": null,
            "max_width": null,
            "min_height": null,
            "min_width": null,
            "object_fit": null,
            "object_position": null,
            "order": null,
            "overflow": null,
            "overflow_x": null,
            "overflow_y": null,
            "padding": null,
            "right": null,
            "top": null,
            "visibility": null,
            "width": null
          }
        },
        "0775b1b8b26e48c3b075ee663bff128c": {
          "model_module": "@jupyter-widgets/controls",
          "model_name": "DescriptionStyleModel",
          "model_module_version": "1.5.0",
          "state": {
            "_model_module": "@jupyter-widgets/controls",
            "_model_module_version": "1.5.0",
            "_model_name": "DescriptionStyleModel",
            "_view_count": null,
            "_view_module": "@jupyter-widgets/base",
            "_view_module_version": "1.2.0",
            "_view_name": "StyleView",
            "description_width": ""
          }
        },
        "b236d12be9714f9e850e255b70d158e7": {
          "model_module": "@jupyter-widgets/base",
          "model_name": "LayoutModel",
          "model_module_version": "1.2.0",
          "state": {
            "_model_module": "@jupyter-widgets/base",
            "_model_module_version": "1.2.0",
            "_model_name": "LayoutModel",
            "_view_count": null,
            "_view_module": "@jupyter-widgets/base",
            "_view_module_version": "1.2.0",
            "_view_name": "LayoutView",
            "align_content": null,
            "align_items": null,
            "align_self": null,
            "border": null,
            "bottom": null,
            "display": null,
            "flex": null,
            "flex_flow": null,
            "grid_area": null,
            "grid_auto_columns": null,
            "grid_auto_flow": null,
            "grid_auto_rows": null,
            "grid_column": null,
            "grid_gap": null,
            "grid_row": null,
            "grid_template_areas": null,
            "grid_template_columns": null,
            "grid_template_rows": null,
            "height": null,
            "justify_content": null,
            "justify_items": null,
            "left": null,
            "margin": null,
            "max_height": null,
            "max_width": null,
            "min_height": null,
            "min_width": null,
            "object_fit": null,
            "object_position": null,
            "order": null,
            "overflow": null,
            "overflow_x": null,
            "overflow_y": null,
            "padding": null,
            "right": null,
            "top": null,
            "visibility": null,
            "width": null
          }
        },
        "d51aad1d9cd94568b5d3edb171af3afe": {
          "model_module": "@jupyter-widgets/controls",
          "model_name": "ProgressStyleModel",
          "model_module_version": "1.5.0",
          "state": {
            "_model_module": "@jupyter-widgets/controls",
            "_model_module_version": "1.5.0",
            "_model_name": "ProgressStyleModel",
            "_view_count": null,
            "_view_module": "@jupyter-widgets/base",
            "_view_module_version": "1.2.0",
            "_view_name": "StyleView",
            "bar_color": null,
            "description_width": ""
          }
        },
        "61ae362e4a6d4dae8b2e4a1e4c91467c": {
          "model_module": "@jupyter-widgets/base",
          "model_name": "LayoutModel",
          "model_module_version": "1.2.0",
          "state": {
            "_model_module": "@jupyter-widgets/base",
            "_model_module_version": "1.2.0",
            "_model_name": "LayoutModel",
            "_view_count": null,
            "_view_module": "@jupyter-widgets/base",
            "_view_module_version": "1.2.0",
            "_view_name": "LayoutView",
            "align_content": null,
            "align_items": null,
            "align_self": null,
            "border": null,
            "bottom": null,
            "display": null,
            "flex": null,
            "flex_flow": null,
            "grid_area": null,
            "grid_auto_columns": null,
            "grid_auto_flow": null,
            "grid_auto_rows": null,
            "grid_column": null,
            "grid_gap": null,
            "grid_row": null,
            "grid_template_areas": null,
            "grid_template_columns": null,
            "grid_template_rows": null,
            "height": null,
            "justify_content": null,
            "justify_items": null,
            "left": null,
            "margin": null,
            "max_height": null,
            "max_width": null,
            "min_height": null,
            "min_width": null,
            "object_fit": null,
            "object_position": null,
            "order": null,
            "overflow": null,
            "overflow_x": null,
            "overflow_y": null,
            "padding": null,
            "right": null,
            "top": null,
            "visibility": null,
            "width": null
          }
        },
        "6f053bfed72b4127b0d1bd384cb63615": {
          "model_module": "@jupyter-widgets/controls",
          "model_name": "DescriptionStyleModel",
          "model_module_version": "1.5.0",
          "state": {
            "_model_module": "@jupyter-widgets/controls",
            "_model_module_version": "1.5.0",
            "_model_name": "DescriptionStyleModel",
            "_view_count": null,
            "_view_module": "@jupyter-widgets/base",
            "_view_module_version": "1.2.0",
            "_view_name": "StyleView",
            "description_width": ""
          }
        },
        "874e9a46248940d2adb29803603908ac": {
          "model_module": "@jupyter-widgets/controls",
          "model_name": "HBoxModel",
          "model_module_version": "1.5.0",
          "state": {
            "_dom_classes": [],
            "_model_module": "@jupyter-widgets/controls",
            "_model_module_version": "1.5.0",
            "_model_name": "HBoxModel",
            "_view_count": null,
            "_view_module": "@jupyter-widgets/controls",
            "_view_module_version": "1.5.0",
            "_view_name": "HBoxView",
            "box_style": "",
            "children": [
              "IPY_MODEL_3ed8394ab9094134bf04e7d30576e876",
              "IPY_MODEL_1cd3d594922a4ac2905c3bbd19a66a44",
              "IPY_MODEL_675622a31f734ff39a2696e66ca18dc8"
            ],
            "layout": "IPY_MODEL_a26557b92f40447a98bd994d013fa2a7"
          }
        },
        "3ed8394ab9094134bf04e7d30576e876": {
          "model_module": "@jupyter-widgets/controls",
          "model_name": "HTMLModel",
          "model_module_version": "1.5.0",
          "state": {
            "_dom_classes": [],
            "_model_module": "@jupyter-widgets/controls",
            "_model_module_version": "1.5.0",
            "_model_name": "HTMLModel",
            "_view_count": null,
            "_view_module": "@jupyter-widgets/controls",
            "_view_module_version": "1.5.0",
            "_view_name": "HTMLView",
            "description": "",
            "description_tooltip": null,
            "layout": "IPY_MODEL_24169292152242ce8c4dbfabc049cb0b",
            "placeholder": "​",
            "style": "IPY_MODEL_ea4a9ed7e09543eebbdeb519d324ecd5",
            "value": "Downloading (…)okenizer_config.json: 100%"
          }
        },
        "1cd3d594922a4ac2905c3bbd19a66a44": {
          "model_module": "@jupyter-widgets/controls",
          "model_name": "FloatProgressModel",
          "model_module_version": "1.5.0",
          "state": {
            "_dom_classes": [],
            "_model_module": "@jupyter-widgets/controls",
            "_model_module_version": "1.5.0",
            "_model_name": "FloatProgressModel",
            "_view_count": null,
            "_view_module": "@jupyter-widgets/controls",
            "_view_module_version": "1.5.0",
            "_view_name": "ProgressView",
            "bar_style": "success",
            "description": "",
            "description_tooltip": null,
            "layout": "IPY_MODEL_3e41fe2e3d52494f8ed71e689f710f74",
            "max": 28,
            "min": 0,
            "orientation": "horizontal",
            "style": "IPY_MODEL_20c0e41911e84f5cac43888e47355758",
            "value": 28
          }
        },
        "675622a31f734ff39a2696e66ca18dc8": {
          "model_module": "@jupyter-widgets/controls",
          "model_name": "HTMLModel",
          "model_module_version": "1.5.0",
          "state": {
            "_dom_classes": [],
            "_model_module": "@jupyter-widgets/controls",
            "_model_module_version": "1.5.0",
            "_model_name": "HTMLModel",
            "_view_count": null,
            "_view_module": "@jupyter-widgets/controls",
            "_view_module_version": "1.5.0",
            "_view_name": "HTMLView",
            "description": "",
            "description_tooltip": null,
            "layout": "IPY_MODEL_063d105505bb4307bf406e6fd6c5f7b1",
            "placeholder": "​",
            "style": "IPY_MODEL_71d08ee7ae834995b8ec916c5caff4c3",
            "value": " 28.0/28.0 [00:00&lt;00:00, 1.51kB/s]"
          }
        },
        "a26557b92f40447a98bd994d013fa2a7": {
          "model_module": "@jupyter-widgets/base",
          "model_name": "LayoutModel",
          "model_module_version": "1.2.0",
          "state": {
            "_model_module": "@jupyter-widgets/base",
            "_model_module_version": "1.2.0",
            "_model_name": "LayoutModel",
            "_view_count": null,
            "_view_module": "@jupyter-widgets/base",
            "_view_module_version": "1.2.0",
            "_view_name": "LayoutView",
            "align_content": null,
            "align_items": null,
            "align_self": null,
            "border": null,
            "bottom": null,
            "display": null,
            "flex": null,
            "flex_flow": null,
            "grid_area": null,
            "grid_auto_columns": null,
            "grid_auto_flow": null,
            "grid_auto_rows": null,
            "grid_column": null,
            "grid_gap": null,
            "grid_row": null,
            "grid_template_areas": null,
            "grid_template_columns": null,
            "grid_template_rows": null,
            "height": null,
            "justify_content": null,
            "justify_items": null,
            "left": null,
            "margin": null,
            "max_height": null,
            "max_width": null,
            "min_height": null,
            "min_width": null,
            "object_fit": null,
            "object_position": null,
            "order": null,
            "overflow": null,
            "overflow_x": null,
            "overflow_y": null,
            "padding": null,
            "right": null,
            "top": null,
            "visibility": null,
            "width": null
          }
        },
        "24169292152242ce8c4dbfabc049cb0b": {
          "model_module": "@jupyter-widgets/base",
          "model_name": "LayoutModel",
          "model_module_version": "1.2.0",
          "state": {
            "_model_module": "@jupyter-widgets/base",
            "_model_module_version": "1.2.0",
            "_model_name": "LayoutModel",
            "_view_count": null,
            "_view_module": "@jupyter-widgets/base",
            "_view_module_version": "1.2.0",
            "_view_name": "LayoutView",
            "align_content": null,
            "align_items": null,
            "align_self": null,
            "border": null,
            "bottom": null,
            "display": null,
            "flex": null,
            "flex_flow": null,
            "grid_area": null,
            "grid_auto_columns": null,
            "grid_auto_flow": null,
            "grid_auto_rows": null,
            "grid_column": null,
            "grid_gap": null,
            "grid_row": null,
            "grid_template_areas": null,
            "grid_template_columns": null,
            "grid_template_rows": null,
            "height": null,
            "justify_content": null,
            "justify_items": null,
            "left": null,
            "margin": null,
            "max_height": null,
            "max_width": null,
            "min_height": null,
            "min_width": null,
            "object_fit": null,
            "object_position": null,
            "order": null,
            "overflow": null,
            "overflow_x": null,
            "overflow_y": null,
            "padding": null,
            "right": null,
            "top": null,
            "visibility": null,
            "width": null
          }
        },
        "ea4a9ed7e09543eebbdeb519d324ecd5": {
          "model_module": "@jupyter-widgets/controls",
          "model_name": "DescriptionStyleModel",
          "model_module_version": "1.5.0",
          "state": {
            "_model_module": "@jupyter-widgets/controls",
            "_model_module_version": "1.5.0",
            "_model_name": "DescriptionStyleModel",
            "_view_count": null,
            "_view_module": "@jupyter-widgets/base",
            "_view_module_version": "1.2.0",
            "_view_name": "StyleView",
            "description_width": ""
          }
        },
        "3e41fe2e3d52494f8ed71e689f710f74": {
          "model_module": "@jupyter-widgets/base",
          "model_name": "LayoutModel",
          "model_module_version": "1.2.0",
          "state": {
            "_model_module": "@jupyter-widgets/base",
            "_model_module_version": "1.2.0",
            "_model_name": "LayoutModel",
            "_view_count": null,
            "_view_module": "@jupyter-widgets/base",
            "_view_module_version": "1.2.0",
            "_view_name": "LayoutView",
            "align_content": null,
            "align_items": null,
            "align_self": null,
            "border": null,
            "bottom": null,
            "display": null,
            "flex": null,
            "flex_flow": null,
            "grid_area": null,
            "grid_auto_columns": null,
            "grid_auto_flow": null,
            "grid_auto_rows": null,
            "grid_column": null,
            "grid_gap": null,
            "grid_row": null,
            "grid_template_areas": null,
            "grid_template_columns": null,
            "grid_template_rows": null,
            "height": null,
            "justify_content": null,
            "justify_items": null,
            "left": null,
            "margin": null,
            "max_height": null,
            "max_width": null,
            "min_height": null,
            "min_width": null,
            "object_fit": null,
            "object_position": null,
            "order": null,
            "overflow": null,
            "overflow_x": null,
            "overflow_y": null,
            "padding": null,
            "right": null,
            "top": null,
            "visibility": null,
            "width": null
          }
        },
        "20c0e41911e84f5cac43888e47355758": {
          "model_module": "@jupyter-widgets/controls",
          "model_name": "ProgressStyleModel",
          "model_module_version": "1.5.0",
          "state": {
            "_model_module": "@jupyter-widgets/controls",
            "_model_module_version": "1.5.0",
            "_model_name": "ProgressStyleModel",
            "_view_count": null,
            "_view_module": "@jupyter-widgets/base",
            "_view_module_version": "1.2.0",
            "_view_name": "StyleView",
            "bar_color": null,
            "description_width": ""
          }
        },
        "063d105505bb4307bf406e6fd6c5f7b1": {
          "model_module": "@jupyter-widgets/base",
          "model_name": "LayoutModel",
          "model_module_version": "1.2.0",
          "state": {
            "_model_module": "@jupyter-widgets/base",
            "_model_module_version": "1.2.0",
            "_model_name": "LayoutModel",
            "_view_count": null,
            "_view_module": "@jupyter-widgets/base",
            "_view_module_version": "1.2.0",
            "_view_name": "LayoutView",
            "align_content": null,
            "align_items": null,
            "align_self": null,
            "border": null,
            "bottom": null,
            "display": null,
            "flex": null,
            "flex_flow": null,
            "grid_area": null,
            "grid_auto_columns": null,
            "grid_auto_flow": null,
            "grid_auto_rows": null,
            "grid_column": null,
            "grid_gap": null,
            "grid_row": null,
            "grid_template_areas": null,
            "grid_template_columns": null,
            "grid_template_rows": null,
            "height": null,
            "justify_content": null,
            "justify_items": null,
            "left": null,
            "margin": null,
            "max_height": null,
            "max_width": null,
            "min_height": null,
            "min_width": null,
            "object_fit": null,
            "object_position": null,
            "order": null,
            "overflow": null,
            "overflow_x": null,
            "overflow_y": null,
            "padding": null,
            "right": null,
            "top": null,
            "visibility": null,
            "width": null
          }
        },
        "71d08ee7ae834995b8ec916c5caff4c3": {
          "model_module": "@jupyter-widgets/controls",
          "model_name": "DescriptionStyleModel",
          "model_module_version": "1.5.0",
          "state": {
            "_model_module": "@jupyter-widgets/controls",
            "_model_module_version": "1.5.0",
            "_model_name": "DescriptionStyleModel",
            "_view_count": null,
            "_view_module": "@jupyter-widgets/base",
            "_view_module_version": "1.2.0",
            "_view_name": "StyleView",
            "description_width": ""
          }
        },
        "c565e626fa8948679dcca503db5a295b": {
          "model_module": "@jupyter-widgets/controls",
          "model_name": "HBoxModel",
          "model_module_version": "1.5.0",
          "state": {
            "_dom_classes": [],
            "_model_module": "@jupyter-widgets/controls",
            "_model_module_version": "1.5.0",
            "_model_name": "HBoxModel",
            "_view_count": null,
            "_view_module": "@jupyter-widgets/controls",
            "_view_module_version": "1.5.0",
            "_view_name": "HBoxView",
            "box_style": "",
            "children": [
              "IPY_MODEL_92ee2ff86fef4a8abb267189c1181172",
              "IPY_MODEL_6d7e12787c2f474e8c04bfdc9f48ff4e",
              "IPY_MODEL_52098f841f394c3ab1807481a9ea098c"
            ],
            "layout": "IPY_MODEL_137d044953704a3786b0c284bbf95f98"
          }
        },
        "92ee2ff86fef4a8abb267189c1181172": {
          "model_module": "@jupyter-widgets/controls",
          "model_name": "HTMLModel",
          "model_module_version": "1.5.0",
          "state": {
            "_dom_classes": [],
            "_model_module": "@jupyter-widgets/controls",
            "_model_module_version": "1.5.0",
            "_model_name": "HTMLModel",
            "_view_count": null,
            "_view_module": "@jupyter-widgets/controls",
            "_view_module_version": "1.5.0",
            "_view_name": "HTMLView",
            "description": "",
            "description_tooltip": null,
            "layout": "IPY_MODEL_fed81901eac945eb960c329120246e4c",
            "placeholder": "​",
            "style": "IPY_MODEL_fc7954b107514be58cbbb57d69ae41cb",
            "value": "Downloading (…)solve/main/vocab.txt: 100%"
          }
        },
        "6d7e12787c2f474e8c04bfdc9f48ff4e": {
          "model_module": "@jupyter-widgets/controls",
          "model_name": "FloatProgressModel",
          "model_module_version": "1.5.0",
          "state": {
            "_dom_classes": [],
            "_model_module": "@jupyter-widgets/controls",
            "_model_module_version": "1.5.0",
            "_model_name": "FloatProgressModel",
            "_view_count": null,
            "_view_module": "@jupyter-widgets/controls",
            "_view_module_version": "1.5.0",
            "_view_name": "ProgressView",
            "bar_style": "success",
            "description": "",
            "description_tooltip": null,
            "layout": "IPY_MODEL_8b00886611b2477eb7cc1ce8a4425168",
            "max": 231508,
            "min": 0,
            "orientation": "horizontal",
            "style": "IPY_MODEL_552ddd111f3a442993baa631f2920bf2",
            "value": 231508
          }
        },
        "52098f841f394c3ab1807481a9ea098c": {
          "model_module": "@jupyter-widgets/controls",
          "model_name": "HTMLModel",
          "model_module_version": "1.5.0",
          "state": {
            "_dom_classes": [],
            "_model_module": "@jupyter-widgets/controls",
            "_model_module_version": "1.5.0",
            "_model_name": "HTMLModel",
            "_view_count": null,
            "_view_module": "@jupyter-widgets/controls",
            "_view_module_version": "1.5.0",
            "_view_name": "HTMLView",
            "description": "",
            "description_tooltip": null,
            "layout": "IPY_MODEL_fff523ee22bd451b81af2bd6b2016e1a",
            "placeholder": "​",
            "style": "IPY_MODEL_cba7db46f73e4e1f98ef76a582a941d5",
            "value": " 232k/232k [00:00&lt;00:00, 4.90MB/s]"
          }
        },
        "137d044953704a3786b0c284bbf95f98": {
          "model_module": "@jupyter-widgets/base",
          "model_name": "LayoutModel",
          "model_module_version": "1.2.0",
          "state": {
            "_model_module": "@jupyter-widgets/base",
            "_model_module_version": "1.2.0",
            "_model_name": "LayoutModel",
            "_view_count": null,
            "_view_module": "@jupyter-widgets/base",
            "_view_module_version": "1.2.0",
            "_view_name": "LayoutView",
            "align_content": null,
            "align_items": null,
            "align_self": null,
            "border": null,
            "bottom": null,
            "display": null,
            "flex": null,
            "flex_flow": null,
            "grid_area": null,
            "grid_auto_columns": null,
            "grid_auto_flow": null,
            "grid_auto_rows": null,
            "grid_column": null,
            "grid_gap": null,
            "grid_row": null,
            "grid_template_areas": null,
            "grid_template_columns": null,
            "grid_template_rows": null,
            "height": null,
            "justify_content": null,
            "justify_items": null,
            "left": null,
            "margin": null,
            "max_height": null,
            "max_width": null,
            "min_height": null,
            "min_width": null,
            "object_fit": null,
            "object_position": null,
            "order": null,
            "overflow": null,
            "overflow_x": null,
            "overflow_y": null,
            "padding": null,
            "right": null,
            "top": null,
            "visibility": null,
            "width": null
          }
        },
        "fed81901eac945eb960c329120246e4c": {
          "model_module": "@jupyter-widgets/base",
          "model_name": "LayoutModel",
          "model_module_version": "1.2.0",
          "state": {
            "_model_module": "@jupyter-widgets/base",
            "_model_module_version": "1.2.0",
            "_model_name": "LayoutModel",
            "_view_count": null,
            "_view_module": "@jupyter-widgets/base",
            "_view_module_version": "1.2.0",
            "_view_name": "LayoutView",
            "align_content": null,
            "align_items": null,
            "align_self": null,
            "border": null,
            "bottom": null,
            "display": null,
            "flex": null,
            "flex_flow": null,
            "grid_area": null,
            "grid_auto_columns": null,
            "grid_auto_flow": null,
            "grid_auto_rows": null,
            "grid_column": null,
            "grid_gap": null,
            "grid_row": null,
            "grid_template_areas": null,
            "grid_template_columns": null,
            "grid_template_rows": null,
            "height": null,
            "justify_content": null,
            "justify_items": null,
            "left": null,
            "margin": null,
            "max_height": null,
            "max_width": null,
            "min_height": null,
            "min_width": null,
            "object_fit": null,
            "object_position": null,
            "order": null,
            "overflow": null,
            "overflow_x": null,
            "overflow_y": null,
            "padding": null,
            "right": null,
            "top": null,
            "visibility": null,
            "width": null
          }
        },
        "fc7954b107514be58cbbb57d69ae41cb": {
          "model_module": "@jupyter-widgets/controls",
          "model_name": "DescriptionStyleModel",
          "model_module_version": "1.5.0",
          "state": {
            "_model_module": "@jupyter-widgets/controls",
            "_model_module_version": "1.5.0",
            "_model_name": "DescriptionStyleModel",
            "_view_count": null,
            "_view_module": "@jupyter-widgets/base",
            "_view_module_version": "1.2.0",
            "_view_name": "StyleView",
            "description_width": ""
          }
        },
        "8b00886611b2477eb7cc1ce8a4425168": {
          "model_module": "@jupyter-widgets/base",
          "model_name": "LayoutModel",
          "model_module_version": "1.2.0",
          "state": {
            "_model_module": "@jupyter-widgets/base",
            "_model_module_version": "1.2.0",
            "_model_name": "LayoutModel",
            "_view_count": null,
            "_view_module": "@jupyter-widgets/base",
            "_view_module_version": "1.2.0",
            "_view_name": "LayoutView",
            "align_content": null,
            "align_items": null,
            "align_self": null,
            "border": null,
            "bottom": null,
            "display": null,
            "flex": null,
            "flex_flow": null,
            "grid_area": null,
            "grid_auto_columns": null,
            "grid_auto_flow": null,
            "grid_auto_rows": null,
            "grid_column": null,
            "grid_gap": null,
            "grid_row": null,
            "grid_template_areas": null,
            "grid_template_columns": null,
            "grid_template_rows": null,
            "height": null,
            "justify_content": null,
            "justify_items": null,
            "left": null,
            "margin": null,
            "max_height": null,
            "max_width": null,
            "min_height": null,
            "min_width": null,
            "object_fit": null,
            "object_position": null,
            "order": null,
            "overflow": null,
            "overflow_x": null,
            "overflow_y": null,
            "padding": null,
            "right": null,
            "top": null,
            "visibility": null,
            "width": null
          }
        },
        "552ddd111f3a442993baa631f2920bf2": {
          "model_module": "@jupyter-widgets/controls",
          "model_name": "ProgressStyleModel",
          "model_module_version": "1.5.0",
          "state": {
            "_model_module": "@jupyter-widgets/controls",
            "_model_module_version": "1.5.0",
            "_model_name": "ProgressStyleModel",
            "_view_count": null,
            "_view_module": "@jupyter-widgets/base",
            "_view_module_version": "1.2.0",
            "_view_name": "StyleView",
            "bar_color": null,
            "description_width": ""
          }
        },
        "fff523ee22bd451b81af2bd6b2016e1a": {
          "model_module": "@jupyter-widgets/base",
          "model_name": "LayoutModel",
          "model_module_version": "1.2.0",
          "state": {
            "_model_module": "@jupyter-widgets/base",
            "_model_module_version": "1.2.0",
            "_model_name": "LayoutModel",
            "_view_count": null,
            "_view_module": "@jupyter-widgets/base",
            "_view_module_version": "1.2.0",
            "_view_name": "LayoutView",
            "align_content": null,
            "align_items": null,
            "align_self": null,
            "border": null,
            "bottom": null,
            "display": null,
            "flex": null,
            "flex_flow": null,
            "grid_area": null,
            "grid_auto_columns": null,
            "grid_auto_flow": null,
            "grid_auto_rows": null,
            "grid_column": null,
            "grid_gap": null,
            "grid_row": null,
            "grid_template_areas": null,
            "grid_template_columns": null,
            "grid_template_rows": null,
            "height": null,
            "justify_content": null,
            "justify_items": null,
            "left": null,
            "margin": null,
            "max_height": null,
            "max_width": null,
            "min_height": null,
            "min_width": null,
            "object_fit": null,
            "object_position": null,
            "order": null,
            "overflow": null,
            "overflow_x": null,
            "overflow_y": null,
            "padding": null,
            "right": null,
            "top": null,
            "visibility": null,
            "width": null
          }
        },
        "cba7db46f73e4e1f98ef76a582a941d5": {
          "model_module": "@jupyter-widgets/controls",
          "model_name": "DescriptionStyleModel",
          "model_module_version": "1.5.0",
          "state": {
            "_model_module": "@jupyter-widgets/controls",
            "_model_module_version": "1.5.0",
            "_model_name": "DescriptionStyleModel",
            "_view_count": null,
            "_view_module": "@jupyter-widgets/base",
            "_view_module_version": "1.2.0",
            "_view_name": "StyleView",
            "description_width": ""
          }
        },
        "c44af70f5a41429db76efc53f5ab8aaa": {
          "model_module": "@jupyter-widgets/controls",
          "model_name": "HBoxModel",
          "model_module_version": "1.5.0",
          "state": {
            "_dom_classes": [],
            "_model_module": "@jupyter-widgets/controls",
            "_model_module_version": "1.5.0",
            "_model_name": "HBoxModel",
            "_view_count": null,
            "_view_module": "@jupyter-widgets/controls",
            "_view_module_version": "1.5.0",
            "_view_name": "HBoxView",
            "box_style": "",
            "children": [
              "IPY_MODEL_c1f297d2d6b74072bb23569b4c80385e",
              "IPY_MODEL_ac6ca8ca69504a479580de3a6d066431",
              "IPY_MODEL_db8b7545bfb145cba8cbb6ea7d870873"
            ],
            "layout": "IPY_MODEL_ee5e43f615a945d4b1da9a924d862441"
          }
        },
        "c1f297d2d6b74072bb23569b4c80385e": {
          "model_module": "@jupyter-widgets/controls",
          "model_name": "HTMLModel",
          "model_module_version": "1.5.0",
          "state": {
            "_dom_classes": [],
            "_model_module": "@jupyter-widgets/controls",
            "_model_module_version": "1.5.0",
            "_model_name": "HTMLModel",
            "_view_count": null,
            "_view_module": "@jupyter-widgets/controls",
            "_view_module_version": "1.5.0",
            "_view_name": "HTMLView",
            "description": "",
            "description_tooltip": null,
            "layout": "IPY_MODEL_054a97211ed84daca55f08f764fd5a9f",
            "placeholder": "​",
            "style": "IPY_MODEL_c16b6399e02f4a8392dbee06a4c71197",
            "value": "Downloading (…)/main/tokenizer.json: 100%"
          }
        },
        "ac6ca8ca69504a479580de3a6d066431": {
          "model_module": "@jupyter-widgets/controls",
          "model_name": "FloatProgressModel",
          "model_module_version": "1.5.0",
          "state": {
            "_dom_classes": [],
            "_model_module": "@jupyter-widgets/controls",
            "_model_module_version": "1.5.0",
            "_model_name": "FloatProgressModel",
            "_view_count": null,
            "_view_module": "@jupyter-widgets/controls",
            "_view_module_version": "1.5.0",
            "_view_name": "ProgressView",
            "bar_style": "success",
            "description": "",
            "description_tooltip": null,
            "layout": "IPY_MODEL_1eb74166e1b24544a80a5f8d006d1608",
            "max": 466062,
            "min": 0,
            "orientation": "horizontal",
            "style": "IPY_MODEL_f3bd458cc5964844ac7708b7c6bf0317",
            "value": 466062
          }
        },
        "db8b7545bfb145cba8cbb6ea7d870873": {
          "model_module": "@jupyter-widgets/controls",
          "model_name": "HTMLModel",
          "model_module_version": "1.5.0",
          "state": {
            "_dom_classes": [],
            "_model_module": "@jupyter-widgets/controls",
            "_model_module_version": "1.5.0",
            "_model_name": "HTMLModel",
            "_view_count": null,
            "_view_module": "@jupyter-widgets/controls",
            "_view_module_version": "1.5.0",
            "_view_name": "HTMLView",
            "description": "",
            "description_tooltip": null,
            "layout": "IPY_MODEL_a9d329c7cd4e4fa2b8c9ac7bf2fa0eb1",
            "placeholder": "​",
            "style": "IPY_MODEL_b0bdf18efff3402d83388ebf5db195b9",
            "value": " 466k/466k [00:00&lt;00:00, 20.9MB/s]"
          }
        },
        "ee5e43f615a945d4b1da9a924d862441": {
          "model_module": "@jupyter-widgets/base",
          "model_name": "LayoutModel",
          "model_module_version": "1.2.0",
          "state": {
            "_model_module": "@jupyter-widgets/base",
            "_model_module_version": "1.2.0",
            "_model_name": "LayoutModel",
            "_view_count": null,
            "_view_module": "@jupyter-widgets/base",
            "_view_module_version": "1.2.0",
            "_view_name": "LayoutView",
            "align_content": null,
            "align_items": null,
            "align_self": null,
            "border": null,
            "bottom": null,
            "display": null,
            "flex": null,
            "flex_flow": null,
            "grid_area": null,
            "grid_auto_columns": null,
            "grid_auto_flow": null,
            "grid_auto_rows": null,
            "grid_column": null,
            "grid_gap": null,
            "grid_row": null,
            "grid_template_areas": null,
            "grid_template_columns": null,
            "grid_template_rows": null,
            "height": null,
            "justify_content": null,
            "justify_items": null,
            "left": null,
            "margin": null,
            "max_height": null,
            "max_width": null,
            "min_height": null,
            "min_width": null,
            "object_fit": null,
            "object_position": null,
            "order": null,
            "overflow": null,
            "overflow_x": null,
            "overflow_y": null,
            "padding": null,
            "right": null,
            "top": null,
            "visibility": null,
            "width": null
          }
        },
        "054a97211ed84daca55f08f764fd5a9f": {
          "model_module": "@jupyter-widgets/base",
          "model_name": "LayoutModel",
          "model_module_version": "1.2.0",
          "state": {
            "_model_module": "@jupyter-widgets/base",
            "_model_module_version": "1.2.0",
            "_model_name": "LayoutModel",
            "_view_count": null,
            "_view_module": "@jupyter-widgets/base",
            "_view_module_version": "1.2.0",
            "_view_name": "LayoutView",
            "align_content": null,
            "align_items": null,
            "align_self": null,
            "border": null,
            "bottom": null,
            "display": null,
            "flex": null,
            "flex_flow": null,
            "grid_area": null,
            "grid_auto_columns": null,
            "grid_auto_flow": null,
            "grid_auto_rows": null,
            "grid_column": null,
            "grid_gap": null,
            "grid_row": null,
            "grid_template_areas": null,
            "grid_template_columns": null,
            "grid_template_rows": null,
            "height": null,
            "justify_content": null,
            "justify_items": null,
            "left": null,
            "margin": null,
            "max_height": null,
            "max_width": null,
            "min_height": null,
            "min_width": null,
            "object_fit": null,
            "object_position": null,
            "order": null,
            "overflow": null,
            "overflow_x": null,
            "overflow_y": null,
            "padding": null,
            "right": null,
            "top": null,
            "visibility": null,
            "width": null
          }
        },
        "c16b6399e02f4a8392dbee06a4c71197": {
          "model_module": "@jupyter-widgets/controls",
          "model_name": "DescriptionStyleModel",
          "model_module_version": "1.5.0",
          "state": {
            "_model_module": "@jupyter-widgets/controls",
            "_model_module_version": "1.5.0",
            "_model_name": "DescriptionStyleModel",
            "_view_count": null,
            "_view_module": "@jupyter-widgets/base",
            "_view_module_version": "1.2.0",
            "_view_name": "StyleView",
            "description_width": ""
          }
        },
        "1eb74166e1b24544a80a5f8d006d1608": {
          "model_module": "@jupyter-widgets/base",
          "model_name": "LayoutModel",
          "model_module_version": "1.2.0",
          "state": {
            "_model_module": "@jupyter-widgets/base",
            "_model_module_version": "1.2.0",
            "_model_name": "LayoutModel",
            "_view_count": null,
            "_view_module": "@jupyter-widgets/base",
            "_view_module_version": "1.2.0",
            "_view_name": "LayoutView",
            "align_content": null,
            "align_items": null,
            "align_self": null,
            "border": null,
            "bottom": null,
            "display": null,
            "flex": null,
            "flex_flow": null,
            "grid_area": null,
            "grid_auto_columns": null,
            "grid_auto_flow": null,
            "grid_auto_rows": null,
            "grid_column": null,
            "grid_gap": null,
            "grid_row": null,
            "grid_template_areas": null,
            "grid_template_columns": null,
            "grid_template_rows": null,
            "height": null,
            "justify_content": null,
            "justify_items": null,
            "left": null,
            "margin": null,
            "max_height": null,
            "max_width": null,
            "min_height": null,
            "min_width": null,
            "object_fit": null,
            "object_position": null,
            "order": null,
            "overflow": null,
            "overflow_x": null,
            "overflow_y": null,
            "padding": null,
            "right": null,
            "top": null,
            "visibility": null,
            "width": null
          }
        },
        "f3bd458cc5964844ac7708b7c6bf0317": {
          "model_module": "@jupyter-widgets/controls",
          "model_name": "ProgressStyleModel",
          "model_module_version": "1.5.0",
          "state": {
            "_model_module": "@jupyter-widgets/controls",
            "_model_module_version": "1.5.0",
            "_model_name": "ProgressStyleModel",
            "_view_count": null,
            "_view_module": "@jupyter-widgets/base",
            "_view_module_version": "1.2.0",
            "_view_name": "StyleView",
            "bar_color": null,
            "description_width": ""
          }
        },
        "a9d329c7cd4e4fa2b8c9ac7bf2fa0eb1": {
          "model_module": "@jupyter-widgets/base",
          "model_name": "LayoutModel",
          "model_module_version": "1.2.0",
          "state": {
            "_model_module": "@jupyter-widgets/base",
            "_model_module_version": "1.2.0",
            "_model_name": "LayoutModel",
            "_view_count": null,
            "_view_module": "@jupyter-widgets/base",
            "_view_module_version": "1.2.0",
            "_view_name": "LayoutView",
            "align_content": null,
            "align_items": null,
            "align_self": null,
            "border": null,
            "bottom": null,
            "display": null,
            "flex": null,
            "flex_flow": null,
            "grid_area": null,
            "grid_auto_columns": null,
            "grid_auto_flow": null,
            "grid_auto_rows": null,
            "grid_column": null,
            "grid_gap": null,
            "grid_row": null,
            "grid_template_areas": null,
            "grid_template_columns": null,
            "grid_template_rows": null,
            "height": null,
            "justify_content": null,
            "justify_items": null,
            "left": null,
            "margin": null,
            "max_height": null,
            "max_width": null,
            "min_height": null,
            "min_width": null,
            "object_fit": null,
            "object_position": null,
            "order": null,
            "overflow": null,
            "overflow_x": null,
            "overflow_y": null,
            "padding": null,
            "right": null,
            "top": null,
            "visibility": null,
            "width": null
          }
        },
        "b0bdf18efff3402d83388ebf5db195b9": {
          "model_module": "@jupyter-widgets/controls",
          "model_name": "DescriptionStyleModel",
          "model_module_version": "1.5.0",
          "state": {
            "_model_module": "@jupyter-widgets/controls",
            "_model_module_version": "1.5.0",
            "_model_name": "DescriptionStyleModel",
            "_view_count": null,
            "_view_module": "@jupyter-widgets/base",
            "_view_module_version": "1.2.0",
            "_view_name": "StyleView",
            "description_width": ""
          }
        },
        "a6bca8a426c3442a813eac516253fa3a": {
          "model_module": "@jupyter-widgets/controls",
          "model_name": "HBoxModel",
          "model_module_version": "1.5.0",
          "state": {
            "_dom_classes": [],
            "_model_module": "@jupyter-widgets/controls",
            "_model_module_version": "1.5.0",
            "_model_name": "HBoxModel",
            "_view_count": null,
            "_view_module": "@jupyter-widgets/controls",
            "_view_module_version": "1.5.0",
            "_view_name": "HBoxView",
            "box_style": "",
            "children": [
              "IPY_MODEL_f206cdbd99164b80a376b185e013caf6",
              "IPY_MODEL_ac1be266230f4c319d12d621e728678b",
              "IPY_MODEL_2a5c8b85de324bdd96a94e68f01b988d"
            ],
            "layout": "IPY_MODEL_3e5f7024891c4f95aae213098ab5dab5"
          }
        },
        "f206cdbd99164b80a376b185e013caf6": {
          "model_module": "@jupyter-widgets/controls",
          "model_name": "HTMLModel",
          "model_module_version": "1.5.0",
          "state": {
            "_dom_classes": [],
            "_model_module": "@jupyter-widgets/controls",
            "_model_module_version": "1.5.0",
            "_model_name": "HTMLModel",
            "_view_count": null,
            "_view_module": "@jupyter-widgets/controls",
            "_view_module_version": "1.5.0",
            "_view_name": "HTMLView",
            "description": "",
            "description_tooltip": null,
            "layout": "IPY_MODEL_063f8e7b753f4af99aa194de4308bb6e",
            "placeholder": "​",
            "style": "IPY_MODEL_804d8025ea764583aed9838304eca104",
            "value": "Downloading (…)lve/main/config.json: 100%"
          }
        },
        "ac1be266230f4c319d12d621e728678b": {
          "model_module": "@jupyter-widgets/controls",
          "model_name": "FloatProgressModel",
          "model_module_version": "1.5.0",
          "state": {
            "_dom_classes": [],
            "_model_module": "@jupyter-widgets/controls",
            "_model_module_version": "1.5.0",
            "_model_name": "FloatProgressModel",
            "_view_count": null,
            "_view_module": "@jupyter-widgets/controls",
            "_view_module_version": "1.5.0",
            "_view_name": "ProgressView",
            "bar_style": "success",
            "description": "",
            "description_tooltip": null,
            "layout": "IPY_MODEL_1b69c76dbc004ef38b102e7133a61faf",
            "max": 570,
            "min": 0,
            "orientation": "horizontal",
            "style": "IPY_MODEL_a10d372450c440059643287e99d57f49",
            "value": 570
          }
        },
        "2a5c8b85de324bdd96a94e68f01b988d": {
          "model_module": "@jupyter-widgets/controls",
          "model_name": "HTMLModel",
          "model_module_version": "1.5.0",
          "state": {
            "_dom_classes": [],
            "_model_module": "@jupyter-widgets/controls",
            "_model_module_version": "1.5.0",
            "_model_name": "HTMLModel",
            "_view_count": null,
            "_view_module": "@jupyter-widgets/controls",
            "_view_module_version": "1.5.0",
            "_view_name": "HTMLView",
            "description": "",
            "description_tooltip": null,
            "layout": "IPY_MODEL_456aa4f79b7d456eac4aa38cc2f4dde5",
            "placeholder": "​",
            "style": "IPY_MODEL_50f018cb93fb463e995a4bb353de0169",
            "value": " 570/570 [00:00&lt;00:00, 13.5kB/s]"
          }
        },
        "3e5f7024891c4f95aae213098ab5dab5": {
          "model_module": "@jupyter-widgets/base",
          "model_name": "LayoutModel",
          "model_module_version": "1.2.0",
          "state": {
            "_model_module": "@jupyter-widgets/base",
            "_model_module_version": "1.2.0",
            "_model_name": "LayoutModel",
            "_view_count": null,
            "_view_module": "@jupyter-widgets/base",
            "_view_module_version": "1.2.0",
            "_view_name": "LayoutView",
            "align_content": null,
            "align_items": null,
            "align_self": null,
            "border": null,
            "bottom": null,
            "display": null,
            "flex": null,
            "flex_flow": null,
            "grid_area": null,
            "grid_auto_columns": null,
            "grid_auto_flow": null,
            "grid_auto_rows": null,
            "grid_column": null,
            "grid_gap": null,
            "grid_row": null,
            "grid_template_areas": null,
            "grid_template_columns": null,
            "grid_template_rows": null,
            "height": null,
            "justify_content": null,
            "justify_items": null,
            "left": null,
            "margin": null,
            "max_height": null,
            "max_width": null,
            "min_height": null,
            "min_width": null,
            "object_fit": null,
            "object_position": null,
            "order": null,
            "overflow": null,
            "overflow_x": null,
            "overflow_y": null,
            "padding": null,
            "right": null,
            "top": null,
            "visibility": null,
            "width": null
          }
        },
        "063f8e7b753f4af99aa194de4308bb6e": {
          "model_module": "@jupyter-widgets/base",
          "model_name": "LayoutModel",
          "model_module_version": "1.2.0",
          "state": {
            "_model_module": "@jupyter-widgets/base",
            "_model_module_version": "1.2.0",
            "_model_name": "LayoutModel",
            "_view_count": null,
            "_view_module": "@jupyter-widgets/base",
            "_view_module_version": "1.2.0",
            "_view_name": "LayoutView",
            "align_content": null,
            "align_items": null,
            "align_self": null,
            "border": null,
            "bottom": null,
            "display": null,
            "flex": null,
            "flex_flow": null,
            "grid_area": null,
            "grid_auto_columns": null,
            "grid_auto_flow": null,
            "grid_auto_rows": null,
            "grid_column": null,
            "grid_gap": null,
            "grid_row": null,
            "grid_template_areas": null,
            "grid_template_columns": null,
            "grid_template_rows": null,
            "height": null,
            "justify_content": null,
            "justify_items": null,
            "left": null,
            "margin": null,
            "max_height": null,
            "max_width": null,
            "min_height": null,
            "min_width": null,
            "object_fit": null,
            "object_position": null,
            "order": null,
            "overflow": null,
            "overflow_x": null,
            "overflow_y": null,
            "padding": null,
            "right": null,
            "top": null,
            "visibility": null,
            "width": null
          }
        },
        "804d8025ea764583aed9838304eca104": {
          "model_module": "@jupyter-widgets/controls",
          "model_name": "DescriptionStyleModel",
          "model_module_version": "1.5.0",
          "state": {
            "_model_module": "@jupyter-widgets/controls",
            "_model_module_version": "1.5.0",
            "_model_name": "DescriptionStyleModel",
            "_view_count": null,
            "_view_module": "@jupyter-widgets/base",
            "_view_module_version": "1.2.0",
            "_view_name": "StyleView",
            "description_width": ""
          }
        },
        "1b69c76dbc004ef38b102e7133a61faf": {
          "model_module": "@jupyter-widgets/base",
          "model_name": "LayoutModel",
          "model_module_version": "1.2.0",
          "state": {
            "_model_module": "@jupyter-widgets/base",
            "_model_module_version": "1.2.0",
            "_model_name": "LayoutModel",
            "_view_count": null,
            "_view_module": "@jupyter-widgets/base",
            "_view_module_version": "1.2.0",
            "_view_name": "LayoutView",
            "align_content": null,
            "align_items": null,
            "align_self": null,
            "border": null,
            "bottom": null,
            "display": null,
            "flex": null,
            "flex_flow": null,
            "grid_area": null,
            "grid_auto_columns": null,
            "grid_auto_flow": null,
            "grid_auto_rows": null,
            "grid_column": null,
            "grid_gap": null,
            "grid_row": null,
            "grid_template_areas": null,
            "grid_template_columns": null,
            "grid_template_rows": null,
            "height": null,
            "justify_content": null,
            "justify_items": null,
            "left": null,
            "margin": null,
            "max_height": null,
            "max_width": null,
            "min_height": null,
            "min_width": null,
            "object_fit": null,
            "object_position": null,
            "order": null,
            "overflow": null,
            "overflow_x": null,
            "overflow_y": null,
            "padding": null,
            "right": null,
            "top": null,
            "visibility": null,
            "width": null
          }
        },
        "a10d372450c440059643287e99d57f49": {
          "model_module": "@jupyter-widgets/controls",
          "model_name": "ProgressStyleModel",
          "model_module_version": "1.5.0",
          "state": {
            "_model_module": "@jupyter-widgets/controls",
            "_model_module_version": "1.5.0",
            "_model_name": "ProgressStyleModel",
            "_view_count": null,
            "_view_module": "@jupyter-widgets/base",
            "_view_module_version": "1.2.0",
            "_view_name": "StyleView",
            "bar_color": null,
            "description_width": ""
          }
        },
        "456aa4f79b7d456eac4aa38cc2f4dde5": {
          "model_module": "@jupyter-widgets/base",
          "model_name": "LayoutModel",
          "model_module_version": "1.2.0",
          "state": {
            "_model_module": "@jupyter-widgets/base",
            "_model_module_version": "1.2.0",
            "_model_name": "LayoutModel",
            "_view_count": null,
            "_view_module": "@jupyter-widgets/base",
            "_view_module_version": "1.2.0",
            "_view_name": "LayoutView",
            "align_content": null,
            "align_items": null,
            "align_self": null,
            "border": null,
            "bottom": null,
            "display": null,
            "flex": null,
            "flex_flow": null,
            "grid_area": null,
            "grid_auto_columns": null,
            "grid_auto_flow": null,
            "grid_auto_rows": null,
            "grid_column": null,
            "grid_gap": null,
            "grid_row": null,
            "grid_template_areas": null,
            "grid_template_columns": null,
            "grid_template_rows": null,
            "height": null,
            "justify_content": null,
            "justify_items": null,
            "left": null,
            "margin": null,
            "max_height": null,
            "max_width": null,
            "min_height": null,
            "min_width": null,
            "object_fit": null,
            "object_position": null,
            "order": null,
            "overflow": null,
            "overflow_x": null,
            "overflow_y": null,
            "padding": null,
            "right": null,
            "top": null,
            "visibility": null,
            "width": null
          }
        },
        "50f018cb93fb463e995a4bb353de0169": {
          "model_module": "@jupyter-widgets/controls",
          "model_name": "DescriptionStyleModel",
          "model_module_version": "1.5.0",
          "state": {
            "_model_module": "@jupyter-widgets/controls",
            "_model_module_version": "1.5.0",
            "_model_name": "DescriptionStyleModel",
            "_view_count": null,
            "_view_module": "@jupyter-widgets/base",
            "_view_module_version": "1.2.0",
            "_view_name": "StyleView",
            "description_width": ""
          }
        },
        "e7dd4d8438a647a5826b0197b18f1e17": {
          "model_module": "@jupyter-widgets/controls",
          "model_name": "HBoxModel",
          "model_module_version": "1.5.0",
          "state": {
            "_dom_classes": [],
            "_model_module": "@jupyter-widgets/controls",
            "_model_module_version": "1.5.0",
            "_model_name": "HBoxModel",
            "_view_count": null,
            "_view_module": "@jupyter-widgets/controls",
            "_view_module_version": "1.5.0",
            "_view_name": "HBoxView",
            "box_style": "",
            "children": [
              "IPY_MODEL_f44ba94f7f474343873b679c51e65248",
              "IPY_MODEL_44a3a746969444f7867c6915b59a73c9",
              "IPY_MODEL_96eb3d3a60bb4307afb9313a5533e56e"
            ],
            "layout": "IPY_MODEL_e5b1a8bc84a446f5a0aa6b1220c3e6c0"
          }
        },
        "f44ba94f7f474343873b679c51e65248": {
          "model_module": "@jupyter-widgets/controls",
          "model_name": "HTMLModel",
          "model_module_version": "1.5.0",
          "state": {
            "_dom_classes": [],
            "_model_module": "@jupyter-widgets/controls",
            "_model_module_version": "1.5.0",
            "_model_name": "HTMLModel",
            "_view_count": null,
            "_view_module": "@jupyter-widgets/controls",
            "_view_module_version": "1.5.0",
            "_view_name": "HTMLView",
            "description": "",
            "description_tooltip": null,
            "layout": "IPY_MODEL_49c044db9de9413f9a1f8ad9aeb698ff",
            "placeholder": "​",
            "style": "IPY_MODEL_4deae026f58a4fa981ab63d7c35100ee",
            "value": "Downloading model.safetensors: 100%"
          }
        },
        "44a3a746969444f7867c6915b59a73c9": {
          "model_module": "@jupyter-widgets/controls",
          "model_name": "FloatProgressModel",
          "model_module_version": "1.5.0",
          "state": {
            "_dom_classes": [],
            "_model_module": "@jupyter-widgets/controls",
            "_model_module_version": "1.5.0",
            "_model_name": "FloatProgressModel",
            "_view_count": null,
            "_view_module": "@jupyter-widgets/controls",
            "_view_module_version": "1.5.0",
            "_view_name": "ProgressView",
            "bar_style": "success",
            "description": "",
            "description_tooltip": null,
            "layout": "IPY_MODEL_a74557c956a24ed18a96ff1e859fc66d",
            "max": 440449768,
            "min": 0,
            "orientation": "horizontal",
            "style": "IPY_MODEL_0a62999a37e24669b49ad7af2c208403",
            "value": 440449768
          }
        },
        "96eb3d3a60bb4307afb9313a5533e56e": {
          "model_module": "@jupyter-widgets/controls",
          "model_name": "HTMLModel",
          "model_module_version": "1.5.0",
          "state": {
            "_dom_classes": [],
            "_model_module": "@jupyter-widgets/controls",
            "_model_module_version": "1.5.0",
            "_model_name": "HTMLModel",
            "_view_count": null,
            "_view_module": "@jupyter-widgets/controls",
            "_view_module_version": "1.5.0",
            "_view_name": "HTMLView",
            "description": "",
            "description_tooltip": null,
            "layout": "IPY_MODEL_83a3c470ca364906babdf21a35ec46ca",
            "placeholder": "​",
            "style": "IPY_MODEL_b2ad17fd6c364b73a3121f7c91123df8",
            "value": " 440M/440M [00:08&lt;00:00, 38.4MB/s]"
          }
        },
        "e5b1a8bc84a446f5a0aa6b1220c3e6c0": {
          "model_module": "@jupyter-widgets/base",
          "model_name": "LayoutModel",
          "model_module_version": "1.2.0",
          "state": {
            "_model_module": "@jupyter-widgets/base",
            "_model_module_version": "1.2.0",
            "_model_name": "LayoutModel",
            "_view_count": null,
            "_view_module": "@jupyter-widgets/base",
            "_view_module_version": "1.2.0",
            "_view_name": "LayoutView",
            "align_content": null,
            "align_items": null,
            "align_self": null,
            "border": null,
            "bottom": null,
            "display": null,
            "flex": null,
            "flex_flow": null,
            "grid_area": null,
            "grid_auto_columns": null,
            "grid_auto_flow": null,
            "grid_auto_rows": null,
            "grid_column": null,
            "grid_gap": null,
            "grid_row": null,
            "grid_template_areas": null,
            "grid_template_columns": null,
            "grid_template_rows": null,
            "height": null,
            "justify_content": null,
            "justify_items": null,
            "left": null,
            "margin": null,
            "max_height": null,
            "max_width": null,
            "min_height": null,
            "min_width": null,
            "object_fit": null,
            "object_position": null,
            "order": null,
            "overflow": null,
            "overflow_x": null,
            "overflow_y": null,
            "padding": null,
            "right": null,
            "top": null,
            "visibility": null,
            "width": null
          }
        },
        "49c044db9de9413f9a1f8ad9aeb698ff": {
          "model_module": "@jupyter-widgets/base",
          "model_name": "LayoutModel",
          "model_module_version": "1.2.0",
          "state": {
            "_model_module": "@jupyter-widgets/base",
            "_model_module_version": "1.2.0",
            "_model_name": "LayoutModel",
            "_view_count": null,
            "_view_module": "@jupyter-widgets/base",
            "_view_module_version": "1.2.0",
            "_view_name": "LayoutView",
            "align_content": null,
            "align_items": null,
            "align_self": null,
            "border": null,
            "bottom": null,
            "display": null,
            "flex": null,
            "flex_flow": null,
            "grid_area": null,
            "grid_auto_columns": null,
            "grid_auto_flow": null,
            "grid_auto_rows": null,
            "grid_column": null,
            "grid_gap": null,
            "grid_row": null,
            "grid_template_areas": null,
            "grid_template_columns": null,
            "grid_template_rows": null,
            "height": null,
            "justify_content": null,
            "justify_items": null,
            "left": null,
            "margin": null,
            "max_height": null,
            "max_width": null,
            "min_height": null,
            "min_width": null,
            "object_fit": null,
            "object_position": null,
            "order": null,
            "overflow": null,
            "overflow_x": null,
            "overflow_y": null,
            "padding": null,
            "right": null,
            "top": null,
            "visibility": null,
            "width": null
          }
        },
        "4deae026f58a4fa981ab63d7c35100ee": {
          "model_module": "@jupyter-widgets/controls",
          "model_name": "DescriptionStyleModel",
          "model_module_version": "1.5.0",
          "state": {
            "_model_module": "@jupyter-widgets/controls",
            "_model_module_version": "1.5.0",
            "_model_name": "DescriptionStyleModel",
            "_view_count": null,
            "_view_module": "@jupyter-widgets/base",
            "_view_module_version": "1.2.0",
            "_view_name": "StyleView",
            "description_width": ""
          }
        },
        "a74557c956a24ed18a96ff1e859fc66d": {
          "model_module": "@jupyter-widgets/base",
          "model_name": "LayoutModel",
          "model_module_version": "1.2.0",
          "state": {
            "_model_module": "@jupyter-widgets/base",
            "_model_module_version": "1.2.0",
            "_model_name": "LayoutModel",
            "_view_count": null,
            "_view_module": "@jupyter-widgets/base",
            "_view_module_version": "1.2.0",
            "_view_name": "LayoutView",
            "align_content": null,
            "align_items": null,
            "align_self": null,
            "border": null,
            "bottom": null,
            "display": null,
            "flex": null,
            "flex_flow": null,
            "grid_area": null,
            "grid_auto_columns": null,
            "grid_auto_flow": null,
            "grid_auto_rows": null,
            "grid_column": null,
            "grid_gap": null,
            "grid_row": null,
            "grid_template_areas": null,
            "grid_template_columns": null,
            "grid_template_rows": null,
            "height": null,
            "justify_content": null,
            "justify_items": null,
            "left": null,
            "margin": null,
            "max_height": null,
            "max_width": null,
            "min_height": null,
            "min_width": null,
            "object_fit": null,
            "object_position": null,
            "order": null,
            "overflow": null,
            "overflow_x": null,
            "overflow_y": null,
            "padding": null,
            "right": null,
            "top": null,
            "visibility": null,
            "width": null
          }
        },
        "0a62999a37e24669b49ad7af2c208403": {
          "model_module": "@jupyter-widgets/controls",
          "model_name": "ProgressStyleModel",
          "model_module_version": "1.5.0",
          "state": {
            "_model_module": "@jupyter-widgets/controls",
            "_model_module_version": "1.5.0",
            "_model_name": "ProgressStyleModel",
            "_view_count": null,
            "_view_module": "@jupyter-widgets/base",
            "_view_module_version": "1.2.0",
            "_view_name": "StyleView",
            "bar_color": null,
            "description_width": ""
          }
        },
        "83a3c470ca364906babdf21a35ec46ca": {
          "model_module": "@jupyter-widgets/base",
          "model_name": "LayoutModel",
          "model_module_version": "1.2.0",
          "state": {
            "_model_module": "@jupyter-widgets/base",
            "_model_module_version": "1.2.0",
            "_model_name": "LayoutModel",
            "_view_count": null,
            "_view_module": "@jupyter-widgets/base",
            "_view_module_version": "1.2.0",
            "_view_name": "LayoutView",
            "align_content": null,
            "align_items": null,
            "align_self": null,
            "border": null,
            "bottom": null,
            "display": null,
            "flex": null,
            "flex_flow": null,
            "grid_area": null,
            "grid_auto_columns": null,
            "grid_auto_flow": null,
            "grid_auto_rows": null,
            "grid_column": null,
            "grid_gap": null,
            "grid_row": null,
            "grid_template_areas": null,
            "grid_template_columns": null,
            "grid_template_rows": null,
            "height": null,
            "justify_content": null,
            "justify_items": null,
            "left": null,
            "margin": null,
            "max_height": null,
            "max_width": null,
            "min_height": null,
            "min_width": null,
            "object_fit": null,
            "object_position": null,
            "order": null,
            "overflow": null,
            "overflow_x": null,
            "overflow_y": null,
            "padding": null,
            "right": null,
            "top": null,
            "visibility": null,
            "width": null
          }
        },
        "b2ad17fd6c364b73a3121f7c91123df8": {
          "model_module": "@jupyter-widgets/controls",
          "model_name": "DescriptionStyleModel",
          "model_module_version": "1.5.0",
          "state": {
            "_model_module": "@jupyter-widgets/controls",
            "_model_module_version": "1.5.0",
            "_model_name": "DescriptionStyleModel",
            "_view_count": null,
            "_view_module": "@jupyter-widgets/base",
            "_view_module_version": "1.2.0",
            "_view_name": "StyleView",
            "description_width": ""
          }
        }
      }
    },
    "accelerator": "GPU"
  },
  "nbformat": 4,
  "nbformat_minor": 0
}