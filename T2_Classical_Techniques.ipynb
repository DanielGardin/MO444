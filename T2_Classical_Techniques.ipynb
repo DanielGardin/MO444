{
  "cells": [
    {
      "cell_type": "markdown",
      "metadata": {
        "id": "erlRBrJIUyrB"
      },
      "source": [
        "# **Task \\#2**: Machine Learning MC886/MO444\n",
        "##**Classical Machine Learning Techniques**##"
      ]
    },
    {
      "cell_type": "code",
      "execution_count": 1,
      "metadata": {
        "colab": {
          "base_uri": "https://localhost:8080/"
        },
        "id": "fjNwzgz-UTLB",
        "outputId": "51843fcb-803b-4cda-dee0-25cc9cbfa385"
      },
      "outputs": [
        {
          "name": "stdout",
          "output_type": "stream",
          "text": [
            "Daniel Gardin Gratti 214729\n",
            "Beatriz Cardoso Nascimento 247403\n"
          ]
        }
      ],
      "source": [
        "print('Daniel Gardin Gratti ' + '214729')\n",
        "print('Beatriz Cardoso Nascimento' + ' 247403')"
      ]
    },
    {
      "cell_type": "markdown",
      "metadata": {
        "id": "B1gEHx0gU-w2"
      },
      "source": [
        "## Objective:\n",
        "\n",
        "To explore **Linear Regression** and **Logistic Regression** alternatives and come up with the best possible model for the problems, at the same time avoiding overfitting (and also underfitting). In this work, we will train a model that use medical records from patients to predict patient survival."
      ]
    },
    {
      "cell_type": "markdown",
      "metadata": {
        "id": "QkUuHD5MKhrk"
      },
      "source": [
        "## Dataset\n",
        "\n",
        "The purpose of this dataset is to predict the patients' survival from medical records. These data is available in [Google Sheets](https://docs.google.com/spreadsheets/d/18-PlYBnwD7yJoyGJOsaB5Wydc2iTG9sSnbuuV4t4efE/edit?usp=sharing), consisting in 299 patients with heart failure collected in 2015. \n",
        "\n",
        "**Data Dictionary**:\n",
        "\n",
        "- **AGE**: Age of the patient (years);\n",
        "\n",
        "- **ANAEMIA**: Decrease of red blood cells or hemoglobin (boolean);\n",
        "\n",
        "- **HIGH BLODD PRESSURE**: If the patient has hypertension (boolean);\n",
        "\n",
        "- **CREATININE PHOSPHOKINASE (CPK)**: Level of the CPK enzyme in the blood (mcg/L);\n",
        "\n",
        "- **DIABETES**: If the patient has diabetes (boolean);\n",
        "\n",
        "- **EJECTION FRACTION**: Percentage of blood leaving the heart at each contraction (percentage);\n",
        "\n",
        "- **PLATELETS**: Platelets in the blood (kiloplatelets/mL);\n",
        "\n",
        "- **SEX**: Woman or man (binary);\n",
        "\n",
        "- **SERUM CREATININE**: Level of serum creatinine in the blood (mg/dL);\n",
        "\n",
        "- **SERUM SODIUM**: Level of serum sodium in the blood (mEq/L);\n",
        "\n",
        "- **SMOKING**: If the patient smokes or not (boolean);\n",
        "\n",
        "- **TIME**: Follow-up period (days);\n",
        "\n",
        "- **DEATH EVENT**: If the patient deceased during the follow-up period (boolean);\n",
        "\n",
        "More information about the dataset: *Chicco, D., Jurman, G. Machine learning can predict survival of patients with heart failure from serum creatinine and ejection fraction alone. BMC Med Inform Decis Mak 20, 16 (2020). https://doi.org/10.1186/s12911-020-1023-5*"
      ]
    },
    {
      "cell_type": "code",
      "execution_count": 2,
      "metadata": {
        "colab": {
          "base_uri": "https://localhost:8080/",
          "height": 206
        },
        "id": "anh4gw-zV2ed",
        "outputId": "e3656853-12bb-49b1-c7b8-45843df6b51d"
      },
      "outputs": [
        {
          "data": {
            "text/html": [
              "<div>\n",
              "<style scoped>\n",
              "    .dataframe tbody tr th:only-of-type {\n",
              "        vertical-align: middle;\n",
              "    }\n",
              "\n",
              "    .dataframe tbody tr th {\n",
              "        vertical-align: top;\n",
              "    }\n",
              "\n",
              "    .dataframe thead th {\n",
              "        text-align: right;\n",
              "    }\n",
              "</style>\n",
              "<table border=\"1\" class=\"dataframe\">\n",
              "  <thead>\n",
              "    <tr style=\"text-align: right;\">\n",
              "      <th></th>\n",
              "      <th>age</th>\n",
              "      <th>anaemia</th>\n",
              "      <th>creatinine_phosphokinase</th>\n",
              "      <th>diabetes</th>\n",
              "      <th>ejection_fraction</th>\n",
              "      <th>high_blood_pressure</th>\n",
              "      <th>platelets</th>\n",
              "      <th>serum_creatinine</th>\n",
              "      <th>serum_sodium</th>\n",
              "      <th>sex</th>\n",
              "      <th>smoking</th>\n",
              "      <th>DEATH_EVENT</th>\n",
              "    </tr>\n",
              "  </thead>\n",
              "  <tbody>\n",
              "    <tr>\n",
              "      <th>0</th>\n",
              "      <td>75.0</td>\n",
              "      <td>No</td>\n",
              "      <td>582.0</td>\n",
              "      <td>No</td>\n",
              "      <td>20.0</td>\n",
              "      <td>1.0</td>\n",
              "      <td>265000.00</td>\n",
              "      <td>1.9</td>\n",
              "      <td>130.0</td>\n",
              "      <td>Female</td>\n",
              "      <td>No</td>\n",
              "      <td>1</td>\n",
              "    </tr>\n",
              "    <tr>\n",
              "      <th>1</th>\n",
              "      <td>55.0</td>\n",
              "      <td>No</td>\n",
              "      <td>7861.0</td>\n",
              "      <td>No</td>\n",
              "      <td>38.0</td>\n",
              "      <td>0.0</td>\n",
              "      <td>263358.03</td>\n",
              "      <td>1.1</td>\n",
              "      <td>136.0</td>\n",
              "      <td>Female</td>\n",
              "      <td>No</td>\n",
              "      <td>1</td>\n",
              "    </tr>\n",
              "    <tr>\n",
              "      <th>2</th>\n",
              "      <td>65.0</td>\n",
              "      <td>No</td>\n",
              "      <td>146.0</td>\n",
              "      <td>No</td>\n",
              "      <td>20.0</td>\n",
              "      <td>0.0</td>\n",
              "      <td>162000.00</td>\n",
              "      <td>1.3</td>\n",
              "      <td>129.0</td>\n",
              "      <td>Female</td>\n",
              "      <td>Yes</td>\n",
              "      <td>1</td>\n",
              "    </tr>\n",
              "    <tr>\n",
              "      <th>3</th>\n",
              "      <td>50.0</td>\n",
              "      <td>Yes</td>\n",
              "      <td>111.0</td>\n",
              "      <td>No</td>\n",
              "      <td>20.0</td>\n",
              "      <td>0.0</td>\n",
              "      <td>210000.00</td>\n",
              "      <td>1.9</td>\n",
              "      <td>137.0</td>\n",
              "      <td>Female</td>\n",
              "      <td>No</td>\n",
              "      <td>1</td>\n",
              "    </tr>\n",
              "    <tr>\n",
              "      <th>4</th>\n",
              "      <td>NaN</td>\n",
              "      <td>Yes</td>\n",
              "      <td>160.0</td>\n",
              "      <td>Yes</td>\n",
              "      <td>20.0</td>\n",
              "      <td>0.0</td>\n",
              "      <td>327000.00</td>\n",
              "      <td>2.7</td>\n",
              "      <td>116.0</td>\n",
              "      <td>Male</td>\n",
              "      <td>No</td>\n",
              "      <td>1</td>\n",
              "    </tr>\n",
              "  </tbody>\n",
              "</table>\n",
              "</div>"
            ],
            "text/plain": [
              "    age anaemia  creatinine_phosphokinase diabetes  ejection_fraction  \\\n",
              "0  75.0      No                     582.0       No               20.0   \n",
              "1  55.0      No                    7861.0       No               38.0   \n",
              "2  65.0      No                     146.0       No               20.0   \n",
              "3  50.0     Yes                     111.0       No               20.0   \n",
              "4   NaN     Yes                     160.0      Yes               20.0   \n",
              "\n",
              "   high_blood_pressure  platelets  serum_creatinine  serum_sodium     sex  \\\n",
              "0                  1.0  265000.00               1.9         130.0  Female   \n",
              "1                  0.0  263358.03               1.1         136.0  Female   \n",
              "2                  0.0  162000.00               1.3         129.0  Female   \n",
              "3                  0.0  210000.00               1.9         137.0  Female   \n",
              "4                  0.0  327000.00               2.7         116.0    Male   \n",
              "\n",
              "  smoking  DEATH_EVENT  \n",
              "0      No            1  \n",
              "1      No            1  \n",
              "2     Yes            1  \n",
              "3      No            1  \n",
              "4      No            1  "
            ]
          },
          "execution_count": 2,
          "metadata": {},
          "output_type": "execute_result"
        }
      ],
      "source": [
        "import numpy as np\n",
        "import pandas as pd\n",
        "import seaborn as sns\n",
        "import plotly.express as px\n",
        "import matplotlib.pyplot as plt\n",
        "import random\n",
        "\n",
        "# Determinando seeds\n",
        "np.random.seed(42)\n",
        "random.seed(42)\n",
        "\n",
        "df = pd.read_csv('heart_dataset.csv')\n",
        "\n",
        "df.head(5)"
      ]
    },
    {
      "cell_type": "markdown",
      "metadata": {
        "id": "NQmaNgdX7L8O"
      },
      "source": [
        "### Analysis\n"
      ]
    },
    {
      "cell_type": "markdown",
      "metadata": {
        "id": "TL0r1lFVO6Yd"
      },
      "source": [
        "(0.5 points) This part of the assignmente aims to analyze the dataset and preprocess the data for the models. To do so, a fews things to be considered: \n",
        "\n",
        "\n",
        "*   Are there any outliers?\n",
        "*   Are there missing values?\n",
        "*   How will you handle categorical variables?"
      ]
    },
    {
      "cell_type": "code",
      "execution_count": 3,
      "metadata": {},
      "outputs": [],
      "source": [
        "CATEG_LABELS = ['female', 'anaemia', 'diabetes', 'high_blood_pressure', 'smoking']\n",
        "NUM_LABELS = ['age', 'creatinine_phosphokinase', 'ejection_fraction', 'platelets', 'serum_creatinine', 'serum_sodium']"
      ]
    },
    {
      "cell_type": "code",
      "execution_count": 4,
      "metadata": {},
      "outputs": [
        {
          "data": {
            "text/plain": [
              "age                         4\n",
              "anaemia                     1\n",
              "creatinine_phosphokinase    2\n",
              "diabetes                    2\n",
              "ejection_fraction           2\n",
              "high_blood_pressure         2\n",
              "platelets                   3\n",
              "serum_creatinine            2\n",
              "serum_sodium                1\n",
              "sex                         5\n",
              "smoking                     0\n",
              "DEATH_EVENT                 0\n",
              "dtype: int64"
            ]
          },
          "execution_count": 4,
          "metadata": {},
          "output_type": "execute_result"
        }
      ],
      "source": [
        "df.isna().sum(axis=0)"
      ]
    },
    {
      "attachments": {},
      "cell_type": "markdown",
      "metadata": {},
      "source": [
        "Sim, existem valores faltantes no dataset, distrubuídos de acordo com a tabela acima. Para minimizar o impacto da ausência desses valores no nosso modelo, substituímos os valores faltantes pela mediana e pela moda."
      ]
    },
    {
      "cell_type": "code",
      "execution_count": 5,
      "metadata": {},
      "outputs": [],
      "source": [
        "df.fillna({\n",
        "    'age': df['age'].median(),\n",
        "    'anaemia': df['anaemia'].value_counts().idxmax(),\n",
        "    'creatinine_phosphokinase': df['creatinine_phosphokinase'].median(),\n",
        "    'diabetes': df['diabetes'].value_counts().idxmax(),\n",
        "    'ejection_fraction': df['ejection_fraction'].median(),\n",
        "    'high_blood_pressure': df['high_blood_pressure'].value_counts().idxmax(),\n",
        "    'platelets': df['platelets'].median(),\n",
        "    'serum_creatinine': df['serum_creatinine'].median(),\n",
        "    'serum_sodium': df['serum_sodium'].median(),\n",
        "    'sex': df['sex'].value_counts().idxmax(),\n",
        "}, inplace=True)"
      ]
    },
    {
      "attachments": {},
      "cell_type": "markdown",
      "metadata": {},
      "source": [
        "Para lidar com as variáveis categóricas, utilizaremos a técnica One Hot Encoding. Nessa técnica, representamos variáveis categóricas como valores numéricos, como segue:"
      ]
    },
    {
      "cell_type": "code",
      "execution_count": 6,
      "metadata": {},
      "outputs": [],
      "source": [
        "\n",
        "df[\"female\"]   =(df[\"sex\"] == \"Female\").astype(int)\n",
        "df = df.drop(columns=['sex'])\n",
        "df[\"anaemia\"]  = (df[\"anaemia\"] == \"Yes\").astype(int)\n",
        "df[\"diabetes\"] = (df[\"diabetes\"] == \"Yes\").astype(int)\n",
        "df[\"smoking\"] = (df[\"smoking\"] == \"Yes\").astype(int)\n",
        "df[\"high_blood_pressure\"] = df[\"high_blood_pressure\"].apply(int)\n"
      ]
    },
    {
      "cell_type": "code",
      "execution_count": 7,
      "metadata": {},
      "outputs": [
        {
          "data": {
            "application/vnd.plotly.v1+json": {
              "config": {
                "plotlyServerURL": "https://plot.ly"
              },
              "data": [
                {
                  "boxpoints": "all",
                  "jitter": 0.3,
                  "name": "age",
                  "type": "box",
                  "xaxis": "x",
                  "y": [
                    75,
                    55,
                    65,
                    50,
                    60,
                    90,
                    75,
                    60,
                    65,
                    80,
                    75,
                    62,
                    45,
                    50,
                    49,
                    82,
                    87,
                    60,
                    70,
                    48,
                    65,
                    65,
                    68,
                    53,
                    75,
                    80,
                    95,
                    70,
                    58,
                    82,
                    94,
                    85,
                    50,
                    50,
                    65,
                    69,
                    90,
                    82,
                    60,
                    60,
                    70,
                    50,
                    70,
                    72,
                    60,
                    50,
                    51,
                    60,
                    80,
                    57,
                    68,
                    53,
                    60,
                    70,
                    60,
                    95,
                    70,
                    60,
                    49,
                    72,
                    45,
                    50,
                    55,
                    45,
                    45,
                    60,
                    42,
                    72,
                    70,
                    65,
                    41,
                    58,
                    85,
                    65,
                    69,
                    60,
                    70,
                    42,
                    75,
                    55,
                    70,
                    67,
                    60,
                    79,
                    59,
                    51,
                    55,
                    65,
                    44,
                    57,
                    70,
                    60,
                    42,
                    60,
                    58,
                    58,
                    63,
                    70,
                    60,
                    63,
                    65,
                    75,
                    80,
                    42,
                    60,
                    72,
                    55,
                    45,
                    63,
                    45,
                    85,
                    55,
                    50,
                    70,
                    60,
                    58,
                    60,
                    85,
                    65,
                    86,
                    60,
                    66,
                    60,
                    60,
                    60,
                    43,
                    46,
                    58,
                    61,
                    53,
                    53,
                    60,
                    46,
                    63,
                    81,
                    75,
                    65,
                    68,
                    62,
                    50,
                    80,
                    46,
                    50,
                    61,
                    72,
                    50,
                    52,
                    64,
                    75,
                    60,
                    72,
                    62,
                    50,
                    50,
                    65,
                    60,
                    52,
                    50,
                    85,
                    59,
                    66,
                    45,
                    63,
                    50,
                    45,
                    80,
                    53,
                    59,
                    65,
                    70,
                    51,
                    52,
                    70,
                    50,
                    65,
                    60,
                    69,
                    49,
                    63,
                    55,
                    40,
                    59,
                    65,
                    75,
                    58,
                    60.667,
                    50,
                    60,
                    60.667,
                    40,
                    80,
                    64,
                    50,
                    73,
                    45,
                    77,
                    45,
                    65,
                    50,
                    60,
                    63,
                    45,
                    70,
                    60,
                    78,
                    50,
                    40,
                    85,
                    60,
                    49,
                    70,
                    50,
                    78,
                    48,
                    65,
                    73,
                    70,
                    54,
                    68,
                    55,
                    73,
                    65,
                    42,
                    47,
                    58,
                    75,
                    58,
                    55,
                    65,
                    72,
                    60,
                    70,
                    40,
                    53,
                    53,
                    77,
                    75,
                    70,
                    65,
                    55,
                    70,
                    65,
                    40,
                    73,
                    54,
                    61,
                    55,
                    64,
                    40,
                    53,
                    50,
                    55,
                    50,
                    70,
                    53,
                    52,
                    65,
                    58,
                    45,
                    53,
                    55,
                    62,
                    65,
                    68,
                    61,
                    50,
                    55,
                    56,
                    45,
                    40,
                    44,
                    51,
                    67,
                    42,
                    60,
                    45,
                    70,
                    70,
                    50,
                    55,
                    70,
                    70,
                    42,
                    65,
                    50,
                    55,
                    60,
                    45,
                    65,
                    90,
                    45,
                    60,
                    52,
                    63,
                    62,
                    60,
                    60,
                    45,
                    50
                  ],
                  "yaxis": "y"
                },
                {
                  "boxpoints": "all",
                  "jitter": 0.3,
                  "name": "creatinine_phosphokinase",
                  "type": "box",
                  "xaxis": "x2",
                  "y": [
                    582,
                    7861,
                    146,
                    111,
                    160,
                    47,
                    246,
                    315,
                    157,
                    123,
                    81,
                    231,
                    981,
                    168,
                    80,
                    379,
                    149,
                    582,
                    125,
                    582,
                    52,
                    128,
                    220,
                    63,
                    582,
                    148,
                    112,
                    122,
                    60,
                    70,
                    582,
                    23,
                    249,
                    159,
                    94,
                    582,
                    60,
                    855,
                    2656,
                    235,
                    582,
                    124,
                    571,
                    127,
                    588,
                    582,
                    1380,
                    582,
                    553,
                    129,
                    577,
                    91,
                    3964,
                    69,
                    260,
                    371,
                    75,
                    607,
                    789,
                    364,
                    7702,
                    318,
                    109,
                    582,
                    582,
                    68,
                    250,
                    110,
                    161,
                    113,
                    148,
                    582,
                    5882,
                    224,
                    582,
                    47,
                    92,
                    102,
                    203,
                    336,
                    69,
                    582,
                    76,
                    55,
                    280,
                    78,
                    47,
                    68,
                    84,
                    115,
                    66,
                    897,
                    582,
                    154,
                    144,
                    133,
                    514,
                    59,
                    156,
                    61,
                    305,
                    582,
                    898,
                    5209,
                    53,
                    328,
                    748,
                    1876,
                    936,
                    292,
                    129,
                    60,
                    369,
                    143,
                    754,
                    400,
                    96,
                    102,
                    113,
                    582,
                    737,
                    68,
                    96,
                    582,
                    582,
                    358,
                    168,
                    200,
                    248,
                    270,
                    1808,
                    1082,
                    719,
                    193,
                    4540,
                    582,
                    59,
                    646,
                    281,
                    1548,
                    805,
                    291,
                    482,
                    84,
                    943,
                    185,
                    132,
                    1610,
                    582,
                    2261,
                    233,
                    30,
                    115,
                    1846,
                    335,
                    231,
                    58,
                    250,
                    910,
                    129,
                    72,
                    130,
                    582,
                    2334,
                    2442,
                    776,
                    196,
                    66,
                    582,
                    835,
                    582,
                    3966,
                    171,
                    115,
                    198,
                    95,
                    1419,
                    69,
                    122,
                    835,
                    478,
                    176,
                    395,
                    99,
                    145,
                    104,
                    582,
                    1896,
                    151,
                    244,
                    582,
                    62,
                    121,
                    231,
                    582,
                    418,
                    582,
                    167,
                    582,
                    1211,
                    1767,
                    308,
                    97,
                    59,
                    64,
                    167,
                    101,
                    212,
                    2281,
                    972,
                    212,
                    582,
                    224,
                    131,
                    135,
                    582,
                    1202,
                    427,
                    1021,
                    582,
                    582,
                    118,
                    86,
                    582,
                    582,
                    675,
                    57,
                    2794,
                    56,
                    211,
                    166,
                    93,
                    129,
                    707,
                    582,
                    109,
                    119,
                    232,
                    720,
                    180,
                    81,
                    582,
                    90,
                    1185,
                    582,
                    80,
                    2017,
                    143,
                    624,
                    207,
                    2522,
                    572,
                    245,
                    250,
                    446,
                    191,
                    326,
                    132,
                    66,
                    56,
                    66,
                    655,
                    258,
                    157,
                    582,
                    298,
                    1199,
                    135,
                    582,
                    582,
                    582,
                    582,
                    213,
                    64,
                    257,
                    582,
                    618,
                    582,
                    1051,
                    84,
                    2695,
                    582,
                    64,
                    1688,
                    54,
                    170,
                    253,
                    582,
                    892,
                    337,
                    615,
                    320,
                    190,
                    103,
                    61,
                    1820,
                    2060,
                    2413,
                    250
                  ],
                  "yaxis": "y2"
                },
                {
                  "boxpoints": "all",
                  "jitter": 0.3,
                  "name": "ejection_fraction",
                  "type": "box",
                  "xaxis": "x3",
                  "y": [
                    20,
                    38,
                    20,
                    20,
                    20,
                    40,
                    15,
                    60,
                    65,
                    35,
                    38,
                    25,
                    30,
                    38,
                    30,
                    50,
                    38,
                    14,
                    25,
                    55,
                    25,
                    30,
                    35,
                    60,
                    30,
                    38,
                    40,
                    45,
                    38,
                    30,
                    38,
                    45,
                    35,
                    30,
                    50,
                    35,
                    50,
                    50,
                    30,
                    38,
                    20,
                    30,
                    45,
                    50,
                    60,
                    38,
                    25,
                    38,
                    20,
                    30,
                    25,
                    20,
                    62,
                    50,
                    38,
                    30,
                    35,
                    40,
                    20,
                    20,
                    25,
                    40,
                    35,
                    35,
                    80,
                    20,
                    15,
                    25,
                    25,
                    25,
                    40,
                    35,
                    35,
                    50,
                    20,
                    20,
                    60,
                    40,
                    38,
                    45,
                    40,
                    50,
                    25,
                    50,
                    25,
                    50,
                    35,
                    60,
                    40,
                    25,
                    45,
                    45,
                    60,
                    25,
                    38,
                    60,
                    25,
                    60,
                    25,
                    40,
                    25,
                    45,
                    25,
                    30,
                    50,
                    30,
                    45,
                    35,
                    38,
                    35,
                    60,
                    35,
                    25,
                    60,
                    40,
                    40,
                    60,
                    60,
                    60,
                    38,
                    60,
                    38,
                    38,
                    30,
                    40,
                    50,
                    17,
                    60,
                    30,
                    35,
                    60,
                    45,
                    40,
                    60,
                    35,
                    40,
                    60,
                    25,
                    35,
                    30,
                    38,
                    35,
                    30,
                    40,
                    25,
                    30,
                    30,
                    60,
                    30,
                    35,
                    45,
                    60,
                    45,
                    35,
                    35,
                    25,
                    35,
                    25,
                    50,
                    45,
                    40,
                    35,
                    40,
                    35,
                    30,
                    38,
                    60,
                    20,
                    40,
                    35,
                    35,
                    40,
                    60,
                    20,
                    35,
                    60,
                    40,
                    50,
                    60,
                    40,
                    30,
                    25,
                    25,
                    38,
                    25,
                    30,
                    50,
                    25,
                    40,
                    45,
                    35,
                    60,
                    40,
                    30,
                    20,
                    45,
                    38,
                    30,
                    20,
                    35,
                    45,
                    60,
                    60,
                    25,
                    40,
                    45,
                    40,
                    38,
                    40,
                    35,
                    17,
                    62,
                    50,
                    30,
                    35,
                    35,
                    50,
                    70,
                    35,
                    35,
                    20,
                    50,
                    35,
                    25,
                    25,
                    60,
                    25,
                    35,
                    25,
                    25,
                    30,
                    35,
                    35,
                    38,
                    45,
                    50,
                    50,
                    30,
                    40,
                    45,
                    35,
                    30,
                    35,
                    40,
                    38,
                    38,
                    25,
                    25,
                    35,
                    40,
                    30,
                    35,
                    45,
                    35,
                    38,
                    30,
                    38,
                    38,
                    25,
                    50,
                    40,
                    40,
                    25,
                    60,
                    38,
                    35,
                    20,
                    38,
                    38,
                    35,
                    30,
                    40,
                    38,
                    40,
                    30,
                    38,
                    35,
                    38,
                    30,
                    38,
                    40,
                    38,
                    30,
                    38,
                    40,
                    40,
                    35,
                    55,
                    35,
                    38,
                    55,
                    35,
                    38,
                    35,
                    38,
                    38,
                    60,
                    38,
                    45
                  ],
                  "yaxis": "y3"
                },
                {
                  "boxpoints": "all",
                  "jitter": 0.3,
                  "name": "platelets",
                  "type": "box",
                  "xaxis": "x4",
                  "y": [
                    265000,
                    263358.03,
                    162000,
                    210000,
                    327000,
                    204000,
                    127000,
                    454000,
                    263358.03,
                    388000,
                    368000,
                    253000,
                    136000,
                    276000,
                    427000,
                    47000,
                    262000,
                    166000,
                    237000,
                    87000,
                    276000,
                    297000,
                    289000,
                    368000,
                    263358.03,
                    149000,
                    196000,
                    284000,
                    153000,
                    200000,
                    263358.03,
                    360000,
                    319000,
                    302000,
                    188000,
                    228000,
                    226000,
                    321000,
                    305000,
                    329000,
                    263358.03,
                    153000,
                    185000,
                    218000,
                    194000,
                    310000,
                    271000,
                    451000,
                    140000,
                    395000,
                    166000,
                    418000,
                    263358.03,
                    351000,
                    255000,
                    461000,
                    223000,
                    216000,
                    319000,
                    254000,
                    390000,
                    216000,
                    254000,
                    385000,
                    263358.03,
                    119000,
                    213000,
                    274000,
                    244000,
                    497000,
                    374000,
                    122000,
                    243000,
                    149000,
                    266000,
                    204000,
                    317000,
                    237000,
                    283000,
                    324000,
                    293000,
                    263358.03,
                    196000,
                    172000,
                    302000,
                    406000,
                    173000,
                    304000,
                    235000,
                    181000,
                    249000,
                    297000,
                    263358.03,
                    210000,
                    327000,
                    219000,
                    254000,
                    255000,
                    318000,
                    221000,
                    298000,
                    263358.03,
                    149000,
                    226000,
                    286000,
                    621000,
                    263000,
                    226000,
                    304000,
                    850000,
                    306000,
                    228000,
                    252000,
                    351000,
                    328000,
                    164000,
                    271000,
                    507000,
                    203000,
                    263358.03,
                    210000,
                    162000,
                    228000,
                    127000,
                    217000,
                    237000,
                    271000,
                    300000,
                    267000,
                    227000,
                    249000,
                    250000,
                    263358.03,
                    295000,
                    231000,
                    263358.03,
                    172000,
                    305000,
                    221000,
                    211000,
                    263358.03,
                    348000,
                    329000,
                    229000,
                    338000,
                    266000,
                    218000,
                    242000,
                    225000,
                    228000,
                    235000,
                    244000,
                    184000,
                    263358.03,
                    235000,
                    194000,
                    277000,
                    262000,
                    235000,
                    362000,
                    242000,
                    174000,
                    448000,
                    75000,
                    334000,
                    192000,
                    220000,
                    70000,
                    270000,
                    305000,
                    263358.03,
                    325000,
                    176000,
                    189000,
                    281000,
                    337000,
                    105000,
                    132000,
                    267000,
                    279000,
                    303000,
                    221000,
                    265000,
                    224000,
                    219000,
                    389000,
                    153000,
                    365000,
                    201000,
                    275000,
                    350000,
                    309000,
                    260000,
                    160000,
                    126000,
                    223000,
                    263358.03,
                    259000,
                    279000,
                    263358.03,
                    73000,
                    377000,
                    220000,
                    212000,
                    277000,
                    362000,
                    226000,
                    186000,
                    283000,
                    268000,
                    389000,
                    147000,
                    481000,
                    244000,
                    290000,
                    203000,
                    358000,
                    151000,
                    271000,
                    371000,
                    263358.03,
                    194000,
                    365000,
                    130000,
                    504000,
                    265000,
                    189000,
                    141000,
                    237000,
                    274000,
                    62000,
                    185000,
                    255000,
                    330000,
                    305000,
                    406000,
                    262000,
                    173000,
                    257000,
                    263358.03,
                    533000,
                    249000,
                    255000,
                    220000,
                    264000,
                    282000,
                    314000,
                    246000,
                    301000,
                    223000,
                    404000,
                    231000,
                    274000,
                    236000,
                    263358.03,
                    334000,
                    294000,
                    253000,
                    233000,
                    308000,
                    203000,
                    283000,
                    198000,
                    208000,
                    147000,
                    362000,
                    263358.03,
                    133000,
                    302000,
                    222000,
                    263358.03,
                    221000,
                    215000,
                    189000,
                    150000,
                    422000,
                    327000,
                    25100,
                    232000,
                    451000,
                    241000,
                    51000,
                    215000,
                    263358.03,
                    279000,
                    336000,
                    279000,
                    543000,
                    262000,
                    390000,
                    222000,
                    133000,
                    382000,
                    179000,
                    155000,
                    262000,
                    742000,
                    140000,
                    395000
                  ],
                  "yaxis": "y4"
                },
                {
                  "boxpoints": "all",
                  "jitter": 0.3,
                  "name": "serum_creatinine",
                  "type": "box",
                  "xaxis": "x5",
                  "y": [
                    1.9,
                    1.1,
                    1.3,
                    1.9,
                    2.7,
                    2.1,
                    1.2,
                    1.1,
                    1.5,
                    9.4,
                    4,
                    0.9,
                    1.1,
                    1.1,
                    1,
                    1.3,
                    0.9,
                    0.8,
                    1,
                    1.9,
                    1.3,
                    1.6,
                    0.9,
                    0.8,
                    1.83,
                    1.9,
                    1,
                    1.3,
                    5.8,
                    1.2,
                    1.83,
                    3,
                    1,
                    1.2,
                    1,
                    3.5,
                    1,
                    1,
                    2.3,
                    3,
                    1.83,
                    1.2,
                    1.2,
                    1,
                    1.1,
                    1.9,
                    0.9,
                    0.6,
                    4.4,
                    1,
                    1,
                    1.4,
                    6.8,
                    1,
                    2.2,
                    2,
                    2.7,
                    0.6,
                    1.1,
                    1.3,
                    1,
                    2.3,
                    1.1,
                    1,
                    1.18,
                    2.9,
                    1.3,
                    1,
                    1.2,
                    1.83,
                    0.8,
                    0.9,
                    1,
                    1.3,
                    1.2,
                    0.7,
                    0.8,
                    1.2,
                    0.6,
                    0.9,
                    1.7,
                    1.18,
                    2.5,
                    1.8,
                    1,
                    0.7,
                    1.1,
                    0.8,
                    0.7,
                    1.1,
                    0.8,
                    1,
                    1.18,
                    1.7,
                    0.7,
                    1,
                    1.3,
                    1.1,
                    1.2,
                    1.1,
                    1.1,
                    1.18,
                    1.1,
                    1,
                    2.3,
                    1.7,
                    1.3,
                    0.9,
                    1.1,
                    1.3,
                    1.2,
                    1.2,
                    1.6,
                    1.3,
                    1.2,
                    1,
                    0.7,
                    3.2,
                    0.9,
                    1.83,
                    1.5,
                    1,
                    0.75,
                    0.9,
                    3.7,
                    1.3,
                    2.1,
                    0.8,
                    0.7,
                    3.4,
                    0.7,
                    6.1,
                    1.18,
                    1.3,
                    1.18,
                    1.18,
                    0.9,
                    2.1,
                    1,
                    0.8,
                    1.1,
                    0.9,
                    0.9,
                    0.9,
                    1.7,
                    0.7,
                    0.7,
                    1,
                    1.83,
                    0.9,
                    2.5,
                    0.9,
                    0.9,
                    1.18,
                    0.8,
                    1.7,
                    1.4,
                    1,
                    1.3,
                    1.1,
                    1.2,
                    0.8,
                    0.9,
                    0.9,
                    1.1,
                    1.3,
                    0.7,
                    2.4,
                    1,
                    0.8,
                    1.5,
                    0.9,
                    1.1,
                    0.8,
                    0.9,
                    1,
                    1,
                    1,
                    1.2,
                    0.7,
                    0.9,
                    1,
                    1.2,
                    2.5,
                    1.2,
                    1.5,
                    0.6,
                    2.1,
                    1,
                    0.9,
                    2.1,
                    1.5,
                    0.7,
                    1.18,
                    1.6,
                    1.8,
                    1.18,
                    0.8,
                    1,
                    1.8,
                    0.7,
                    1,
                    0.9,
                    3.5,
                    0.7,
                    1,
                    0.8,
                    0.9,
                    1,
                    0.8,
                    1,
                    0.8,
                    1.4,
                    1.6,
                    0.8,
                    1.3,
                    0.9,
                    9,
                    1.1,
                    0.7,
                    1.83,
                    1.1,
                    1.1,
                    0.8,
                    1,
                    1.4,
                    1.3,
                    1,
                    5,
                    1.2,
                    1.7,
                    1.1,
                    0.9,
                    1.4,
                    1.1,
                    1.1,
                    1.1,
                    1.2,
                    1,
                    1.18,
                    1.3,
                    1.3,
                    1.1,
                    0.9,
                    1.8,
                    1.4,
                    1.1,
                    2.4,
                    1,
                    1.2,
                    0.5,
                    0.8,
                    1,
                    1.2,
                    1,
                    1,
                    1.7,
                    1,
                    0.8,
                    1.1,
                    1,
                    0.7,
                    1.4,
                    1,
                    1.2,
                    0.9,
                    1.83,
                    1.7,
                    0.9,
                    1,
                    1.6,
                    0.9,
                    1.2,
                    0.7,
                    1,
                    0.8,
                    1.1,
                    1.1,
                    0.7,
                    1.3,
                    1.1,
                    2.7,
                    3.8,
                    1.1,
                    0.8,
                    1.2,
                    1.7,
                    1,
                    1.1,
                    0.9,
                    0.8,
                    1.4,
                    1,
                    0.9,
                    1.1,
                    1.2,
                    0.8,
                    1.4,
                    1.6
                  ],
                  "yaxis": "y5"
                },
                {
                  "boxpoints": "all",
                  "jitter": 0.3,
                  "name": "serum_sodium",
                  "type": "box",
                  "xaxis": "x6",
                  "y": [
                    130,
                    136,
                    129,
                    137,
                    116,
                    132,
                    137,
                    131,
                    138,
                    133,
                    131,
                    140,
                    137,
                    137,
                    138,
                    136,
                    140,
                    127,
                    140,
                    121,
                    137,
                    136,
                    140,
                    135,
                    134,
                    144,
                    138,
                    136,
                    134,
                    132,
                    134,
                    132,
                    128,
                    138,
                    140,
                    134,
                    134,
                    145,
                    137,
                    142,
                    134,
                    136,
                    139,
                    134,
                    142,
                    135,
                    130,
                    138,
                    133,
                    140,
                    138,
                    139,
                    146,
                    134,
                    132,
                    132,
                    138,
                    138,
                    136,
                    136,
                    139,
                    131,
                    139,
                    145,
                    137,
                    127,
                    136,
                    140,
                    142,
                    135,
                    140,
                    139,
                    132,
                    137,
                    134,
                    139,
                    140,
                    140,
                    131,
                    140,
                    136,
                    137,
                    132,
                    133,
                    141,
                    140,
                    137,
                    140,
                    139,
                    144,
                    136,
                    133,
                    137,
                    135,
                    142,
                    141,
                    134,
                    136,
                    137,
                    140,
                    141,
                    137,
                    144,
                    140,
                    143,
                    138,
                    137,
                    138,
                    133,
                    142,
                    132,
                    135,
                    136,
                    137,
                    126,
                    139,
                    136,
                    138,
                    140,
                    134,
                    135,
                    136,
                    140,
                    145,
                    134,
                    135,
                    124,
                    137,
                    136,
                    145,
                    138,
                    131,
                    137,
                    145,
                    137,
                    137,
                    137,
                    130,
                    136,
                    138,
                    134,
                    140,
                    132,
                    141,
                    139,
                    141,
                    136,
                    137,
                    134,
                    136,
                    135,
                    139,
                    134,
                    137,
                    136,
                    140,
                    136,
                    136,
                    134,
                    139,
                    134,
                    139,
                    137,
                    142,
                    139,
                    135,
                    133,
                    134,
                    138,
                    133,
                    136,
                    140,
                    145,
                    139,
                    137,
                    138,
                    135,
                    140,
                    145,
                    140,
                    136,
                    136,
                    136,
                    134,
                    137,
                    136,
                    134,
                    144,
                    136,
                    140,
                    134,
                    135,
                    130,
                    142,
                    135,
                    145,
                    137,
                    138,
                    134,
                    113,
                    137,
                    136,
                    138,
                    136,
                    137,
                    136,
                    141,
                    136,
                    141,
                    130,
                    136,
                    140,
                    138,
                    130,
                    134,
                    134,
                    141,
                    137,
                    134,
                    140,
                    134,
                    145,
                    139,
                    134,
                    138,
                    125,
                    132,
                    140,
                    130,
                    134,
                    127,
                    134,
                    137,
                    137,
                    137,
                    137,
                    148,
                    132,
                    136,
                    137,
                    139,
                    136,
                    136,
                    141,
                    134,
                    137,
                    138,
                    135,
                    142,
                    130,
                    139,
                    143,
                    133,
                    132,
                    139,
                    142,
                    139,
                    139,
                    135,
                    135,
                    137,
                    133,
                    129,
                    140,
                    141,
                    140,
                    134,
                    140,
                    140,
                    132,
                    130,
                    134,
                    133,
                    140,
                    137,
                    137,
                    142,
                    140,
                    136,
                    136,
                    137,
                    136,
                    128,
                    138,
                    141,
                    135,
                    140,
                    132,
                    142,
                    144,
                    141,
                    139,
                    140,
                    136,
                    143,
                    139,
                    138,
                    140,
                    136
                  ],
                  "yaxis": "y6"
                }
              ],
              "layout": {
                "template": {
                  "data": {
                    "bar": [
                      {
                        "error_x": {
                          "color": "#2a3f5f"
                        },
                        "error_y": {
                          "color": "#2a3f5f"
                        },
                        "marker": {
                          "line": {
                            "color": "#E5ECF6",
                            "width": 0.5
                          },
                          "pattern": {
                            "fillmode": "overlay",
                            "size": 10,
                            "solidity": 0.2
                          }
                        },
                        "type": "bar"
                      }
                    ],
                    "barpolar": [
                      {
                        "marker": {
                          "line": {
                            "color": "#E5ECF6",
                            "width": 0.5
                          },
                          "pattern": {
                            "fillmode": "overlay",
                            "size": 10,
                            "solidity": 0.2
                          }
                        },
                        "type": "barpolar"
                      }
                    ],
                    "carpet": [
                      {
                        "aaxis": {
                          "endlinecolor": "#2a3f5f",
                          "gridcolor": "white",
                          "linecolor": "white",
                          "minorgridcolor": "white",
                          "startlinecolor": "#2a3f5f"
                        },
                        "baxis": {
                          "endlinecolor": "#2a3f5f",
                          "gridcolor": "white",
                          "linecolor": "white",
                          "minorgridcolor": "white",
                          "startlinecolor": "#2a3f5f"
                        },
                        "type": "carpet"
                      }
                    ],
                    "choropleth": [
                      {
                        "colorbar": {
                          "outlinewidth": 0,
                          "ticks": ""
                        },
                        "type": "choropleth"
                      }
                    ],
                    "contour": [
                      {
                        "colorbar": {
                          "outlinewidth": 0,
                          "ticks": ""
                        },
                        "colorscale": [
                          [
                            0,
                            "#0d0887"
                          ],
                          [
                            0.1111111111111111,
                            "#46039f"
                          ],
                          [
                            0.2222222222222222,
                            "#7201a8"
                          ],
                          [
                            0.3333333333333333,
                            "#9c179e"
                          ],
                          [
                            0.4444444444444444,
                            "#bd3786"
                          ],
                          [
                            0.5555555555555556,
                            "#d8576b"
                          ],
                          [
                            0.6666666666666666,
                            "#ed7953"
                          ],
                          [
                            0.7777777777777778,
                            "#fb9f3a"
                          ],
                          [
                            0.8888888888888888,
                            "#fdca26"
                          ],
                          [
                            1,
                            "#f0f921"
                          ]
                        ],
                        "type": "contour"
                      }
                    ],
                    "contourcarpet": [
                      {
                        "colorbar": {
                          "outlinewidth": 0,
                          "ticks": ""
                        },
                        "type": "contourcarpet"
                      }
                    ],
                    "heatmap": [
                      {
                        "colorbar": {
                          "outlinewidth": 0,
                          "ticks": ""
                        },
                        "colorscale": [
                          [
                            0,
                            "#0d0887"
                          ],
                          [
                            0.1111111111111111,
                            "#46039f"
                          ],
                          [
                            0.2222222222222222,
                            "#7201a8"
                          ],
                          [
                            0.3333333333333333,
                            "#9c179e"
                          ],
                          [
                            0.4444444444444444,
                            "#bd3786"
                          ],
                          [
                            0.5555555555555556,
                            "#d8576b"
                          ],
                          [
                            0.6666666666666666,
                            "#ed7953"
                          ],
                          [
                            0.7777777777777778,
                            "#fb9f3a"
                          ],
                          [
                            0.8888888888888888,
                            "#fdca26"
                          ],
                          [
                            1,
                            "#f0f921"
                          ]
                        ],
                        "type": "heatmap"
                      }
                    ],
                    "heatmapgl": [
                      {
                        "colorbar": {
                          "outlinewidth": 0,
                          "ticks": ""
                        },
                        "colorscale": [
                          [
                            0,
                            "#0d0887"
                          ],
                          [
                            0.1111111111111111,
                            "#46039f"
                          ],
                          [
                            0.2222222222222222,
                            "#7201a8"
                          ],
                          [
                            0.3333333333333333,
                            "#9c179e"
                          ],
                          [
                            0.4444444444444444,
                            "#bd3786"
                          ],
                          [
                            0.5555555555555556,
                            "#d8576b"
                          ],
                          [
                            0.6666666666666666,
                            "#ed7953"
                          ],
                          [
                            0.7777777777777778,
                            "#fb9f3a"
                          ],
                          [
                            0.8888888888888888,
                            "#fdca26"
                          ],
                          [
                            1,
                            "#f0f921"
                          ]
                        ],
                        "type": "heatmapgl"
                      }
                    ],
                    "histogram": [
                      {
                        "marker": {
                          "pattern": {
                            "fillmode": "overlay",
                            "size": 10,
                            "solidity": 0.2
                          }
                        },
                        "type": "histogram"
                      }
                    ],
                    "histogram2d": [
                      {
                        "colorbar": {
                          "outlinewidth": 0,
                          "ticks": ""
                        },
                        "colorscale": [
                          [
                            0,
                            "#0d0887"
                          ],
                          [
                            0.1111111111111111,
                            "#46039f"
                          ],
                          [
                            0.2222222222222222,
                            "#7201a8"
                          ],
                          [
                            0.3333333333333333,
                            "#9c179e"
                          ],
                          [
                            0.4444444444444444,
                            "#bd3786"
                          ],
                          [
                            0.5555555555555556,
                            "#d8576b"
                          ],
                          [
                            0.6666666666666666,
                            "#ed7953"
                          ],
                          [
                            0.7777777777777778,
                            "#fb9f3a"
                          ],
                          [
                            0.8888888888888888,
                            "#fdca26"
                          ],
                          [
                            1,
                            "#f0f921"
                          ]
                        ],
                        "type": "histogram2d"
                      }
                    ],
                    "histogram2dcontour": [
                      {
                        "colorbar": {
                          "outlinewidth": 0,
                          "ticks": ""
                        },
                        "colorscale": [
                          [
                            0,
                            "#0d0887"
                          ],
                          [
                            0.1111111111111111,
                            "#46039f"
                          ],
                          [
                            0.2222222222222222,
                            "#7201a8"
                          ],
                          [
                            0.3333333333333333,
                            "#9c179e"
                          ],
                          [
                            0.4444444444444444,
                            "#bd3786"
                          ],
                          [
                            0.5555555555555556,
                            "#d8576b"
                          ],
                          [
                            0.6666666666666666,
                            "#ed7953"
                          ],
                          [
                            0.7777777777777778,
                            "#fb9f3a"
                          ],
                          [
                            0.8888888888888888,
                            "#fdca26"
                          ],
                          [
                            1,
                            "#f0f921"
                          ]
                        ],
                        "type": "histogram2dcontour"
                      }
                    ],
                    "mesh3d": [
                      {
                        "colorbar": {
                          "outlinewidth": 0,
                          "ticks": ""
                        },
                        "type": "mesh3d"
                      }
                    ],
                    "parcoords": [
                      {
                        "line": {
                          "colorbar": {
                            "outlinewidth": 0,
                            "ticks": ""
                          }
                        },
                        "type": "parcoords"
                      }
                    ],
                    "pie": [
                      {
                        "automargin": true,
                        "type": "pie"
                      }
                    ],
                    "scatter": [
                      {
                        "fillpattern": {
                          "fillmode": "overlay",
                          "size": 10,
                          "solidity": 0.2
                        },
                        "type": "scatter"
                      }
                    ],
                    "scatter3d": [
                      {
                        "line": {
                          "colorbar": {
                            "outlinewidth": 0,
                            "ticks": ""
                          }
                        },
                        "marker": {
                          "colorbar": {
                            "outlinewidth": 0,
                            "ticks": ""
                          }
                        },
                        "type": "scatter3d"
                      }
                    ],
                    "scattercarpet": [
                      {
                        "marker": {
                          "colorbar": {
                            "outlinewidth": 0,
                            "ticks": ""
                          }
                        },
                        "type": "scattercarpet"
                      }
                    ],
                    "scattergeo": [
                      {
                        "marker": {
                          "colorbar": {
                            "outlinewidth": 0,
                            "ticks": ""
                          }
                        },
                        "type": "scattergeo"
                      }
                    ],
                    "scattergl": [
                      {
                        "marker": {
                          "colorbar": {
                            "outlinewidth": 0,
                            "ticks": ""
                          }
                        },
                        "type": "scattergl"
                      }
                    ],
                    "scattermapbox": [
                      {
                        "marker": {
                          "colorbar": {
                            "outlinewidth": 0,
                            "ticks": ""
                          }
                        },
                        "type": "scattermapbox"
                      }
                    ],
                    "scatterpolar": [
                      {
                        "marker": {
                          "colorbar": {
                            "outlinewidth": 0,
                            "ticks": ""
                          }
                        },
                        "type": "scatterpolar"
                      }
                    ],
                    "scatterpolargl": [
                      {
                        "marker": {
                          "colorbar": {
                            "outlinewidth": 0,
                            "ticks": ""
                          }
                        },
                        "type": "scatterpolargl"
                      }
                    ],
                    "scatterternary": [
                      {
                        "marker": {
                          "colorbar": {
                            "outlinewidth": 0,
                            "ticks": ""
                          }
                        },
                        "type": "scatterternary"
                      }
                    ],
                    "surface": [
                      {
                        "colorbar": {
                          "outlinewidth": 0,
                          "ticks": ""
                        },
                        "colorscale": [
                          [
                            0,
                            "#0d0887"
                          ],
                          [
                            0.1111111111111111,
                            "#46039f"
                          ],
                          [
                            0.2222222222222222,
                            "#7201a8"
                          ],
                          [
                            0.3333333333333333,
                            "#9c179e"
                          ],
                          [
                            0.4444444444444444,
                            "#bd3786"
                          ],
                          [
                            0.5555555555555556,
                            "#d8576b"
                          ],
                          [
                            0.6666666666666666,
                            "#ed7953"
                          ],
                          [
                            0.7777777777777778,
                            "#fb9f3a"
                          ],
                          [
                            0.8888888888888888,
                            "#fdca26"
                          ],
                          [
                            1,
                            "#f0f921"
                          ]
                        ],
                        "type": "surface"
                      }
                    ],
                    "table": [
                      {
                        "cells": {
                          "fill": {
                            "color": "#EBF0F8"
                          },
                          "line": {
                            "color": "white"
                          }
                        },
                        "header": {
                          "fill": {
                            "color": "#C8D4E3"
                          },
                          "line": {
                            "color": "white"
                          }
                        },
                        "type": "table"
                      }
                    ]
                  },
                  "layout": {
                    "annotationdefaults": {
                      "arrowcolor": "#2a3f5f",
                      "arrowhead": 0,
                      "arrowwidth": 1
                    },
                    "autotypenumbers": "strict",
                    "coloraxis": {
                      "colorbar": {
                        "outlinewidth": 0,
                        "ticks": ""
                      }
                    },
                    "colorscale": {
                      "diverging": [
                        [
                          0,
                          "#8e0152"
                        ],
                        [
                          0.1,
                          "#c51b7d"
                        ],
                        [
                          0.2,
                          "#de77ae"
                        ],
                        [
                          0.3,
                          "#f1b6da"
                        ],
                        [
                          0.4,
                          "#fde0ef"
                        ],
                        [
                          0.5,
                          "#f7f7f7"
                        ],
                        [
                          0.6,
                          "#e6f5d0"
                        ],
                        [
                          0.7,
                          "#b8e186"
                        ],
                        [
                          0.8,
                          "#7fbc41"
                        ],
                        [
                          0.9,
                          "#4d9221"
                        ],
                        [
                          1,
                          "#276419"
                        ]
                      ],
                      "sequential": [
                        [
                          0,
                          "#0d0887"
                        ],
                        [
                          0.1111111111111111,
                          "#46039f"
                        ],
                        [
                          0.2222222222222222,
                          "#7201a8"
                        ],
                        [
                          0.3333333333333333,
                          "#9c179e"
                        ],
                        [
                          0.4444444444444444,
                          "#bd3786"
                        ],
                        [
                          0.5555555555555556,
                          "#d8576b"
                        ],
                        [
                          0.6666666666666666,
                          "#ed7953"
                        ],
                        [
                          0.7777777777777778,
                          "#fb9f3a"
                        ],
                        [
                          0.8888888888888888,
                          "#fdca26"
                        ],
                        [
                          1,
                          "#f0f921"
                        ]
                      ],
                      "sequentialminus": [
                        [
                          0,
                          "#0d0887"
                        ],
                        [
                          0.1111111111111111,
                          "#46039f"
                        ],
                        [
                          0.2222222222222222,
                          "#7201a8"
                        ],
                        [
                          0.3333333333333333,
                          "#9c179e"
                        ],
                        [
                          0.4444444444444444,
                          "#bd3786"
                        ],
                        [
                          0.5555555555555556,
                          "#d8576b"
                        ],
                        [
                          0.6666666666666666,
                          "#ed7953"
                        ],
                        [
                          0.7777777777777778,
                          "#fb9f3a"
                        ],
                        [
                          0.8888888888888888,
                          "#fdca26"
                        ],
                        [
                          1,
                          "#f0f921"
                        ]
                      ]
                    },
                    "colorway": [
                      "#636efa",
                      "#EF553B",
                      "#00cc96",
                      "#ab63fa",
                      "#FFA15A",
                      "#19d3f3",
                      "#FF6692",
                      "#B6E880",
                      "#FF97FF",
                      "#FECB52"
                    ],
                    "font": {
                      "color": "#2a3f5f"
                    },
                    "geo": {
                      "bgcolor": "white",
                      "lakecolor": "white",
                      "landcolor": "#E5ECF6",
                      "showlakes": true,
                      "showland": true,
                      "subunitcolor": "white"
                    },
                    "hoverlabel": {
                      "align": "left"
                    },
                    "hovermode": "closest",
                    "mapbox": {
                      "style": "light"
                    },
                    "paper_bgcolor": "white",
                    "plot_bgcolor": "#E5ECF6",
                    "polar": {
                      "angularaxis": {
                        "gridcolor": "white",
                        "linecolor": "white",
                        "ticks": ""
                      },
                      "bgcolor": "#E5ECF6",
                      "radialaxis": {
                        "gridcolor": "white",
                        "linecolor": "white",
                        "ticks": ""
                      }
                    },
                    "scene": {
                      "xaxis": {
                        "backgroundcolor": "#E5ECF6",
                        "gridcolor": "white",
                        "gridwidth": 2,
                        "linecolor": "white",
                        "showbackground": true,
                        "ticks": "",
                        "zerolinecolor": "white"
                      },
                      "yaxis": {
                        "backgroundcolor": "#E5ECF6",
                        "gridcolor": "white",
                        "gridwidth": 2,
                        "linecolor": "white",
                        "showbackground": true,
                        "ticks": "",
                        "zerolinecolor": "white"
                      },
                      "zaxis": {
                        "backgroundcolor": "#E5ECF6",
                        "gridcolor": "white",
                        "gridwidth": 2,
                        "linecolor": "white",
                        "showbackground": true,
                        "ticks": "",
                        "zerolinecolor": "white"
                      }
                    },
                    "shapedefaults": {
                      "line": {
                        "color": "#2a3f5f"
                      }
                    },
                    "ternary": {
                      "aaxis": {
                        "gridcolor": "white",
                        "linecolor": "white",
                        "ticks": ""
                      },
                      "baxis": {
                        "gridcolor": "white",
                        "linecolor": "white",
                        "ticks": ""
                      },
                      "bgcolor": "#E5ECF6",
                      "caxis": {
                        "gridcolor": "white",
                        "linecolor": "white",
                        "ticks": ""
                      }
                    },
                    "title": {
                      "x": 0.05
                    },
                    "xaxis": {
                      "automargin": true,
                      "gridcolor": "white",
                      "linecolor": "white",
                      "ticks": "",
                      "title": {
                        "standoff": 15
                      },
                      "zerolinecolor": "white",
                      "zerolinewidth": 2
                    },
                    "yaxis": {
                      "automargin": true,
                      "gridcolor": "white",
                      "linecolor": "white",
                      "ticks": "",
                      "title": {
                        "standoff": 15
                      },
                      "zerolinecolor": "white",
                      "zerolinewidth": 2
                    }
                  }
                },
                "xaxis": {
                  "anchor": "y",
                  "domain": [
                    0,
                    0.1388888888888889
                  ]
                },
                "xaxis2": {
                  "anchor": "y2",
                  "domain": [
                    0.17222222222222222,
                    0.3111111111111111
                  ]
                },
                "xaxis3": {
                  "anchor": "y3",
                  "domain": [
                    0.34444444444444444,
                    0.48333333333333334
                  ]
                },
                "xaxis4": {
                  "anchor": "y4",
                  "domain": [
                    0.5166666666666667,
                    0.6555555555555557
                  ]
                },
                "xaxis5": {
                  "anchor": "y5",
                  "domain": [
                    0.6888888888888889,
                    0.8277777777777777
                  ]
                },
                "xaxis6": {
                  "anchor": "y6",
                  "domain": [
                    0.861111111111111,
                    1
                  ]
                },
                "yaxis": {
                  "anchor": "x",
                  "domain": [
                    0,
                    1
                  ]
                },
                "yaxis2": {
                  "anchor": "x2",
                  "domain": [
                    0,
                    1
                  ]
                },
                "yaxis3": {
                  "anchor": "x3",
                  "domain": [
                    0,
                    1
                  ]
                },
                "yaxis4": {
                  "anchor": "x4",
                  "domain": [
                    0,
                    1
                  ]
                },
                "yaxis5": {
                  "anchor": "x5",
                  "domain": [
                    0,
                    1
                  ]
                },
                "yaxis6": {
                  "anchor": "x6",
                  "domain": [
                    0,
                    1
                  ]
                }
              }
            }
          },
          "metadata": {},
          "output_type": "display_data"
        }
      ],
      "source": [
        "from plotly.subplots import make_subplots\n",
        "import plotly.graph_objects as go\n",
        "\n",
        "fig = make_subplots(rows=1, cols=len(NUM_LABELS))\n",
        "for i, var in enumerate(NUM_LABELS):\n",
        "    fig.add_trace(\n",
        "        go.Box(y=df[var],\n",
        "        name=var),\n",
        "        row=1, col=i+1\n",
        "    )\n",
        "\n",
        "fig.update_traces(boxpoints='all', jitter=.3)"
      ]
    },
    {
      "attachments": {},
      "cell_type": "markdown",
      "metadata": {},
      "source": [
        "Ao fazer o boxplot das features do dataset, podemos observar que existem outliers, pois existem pontos muito distantes da média de cada feature."
      ]
    },
    {
      "cell_type": "markdown",
      "metadata": {
        "id": "_Z-o2l0xEom-"
      },
      "source": [
        "## Linear Regression"
      ]
    },
    {
      "cell_type": "markdown",
      "metadata": {
        "id": "FtWOiVbUW4T5"
      },
      "source": [
        "(0.75 points) This part of the assigment aims to predict the level of serum creatinine in the blod based on their medical records. \n",
        "\n",
        "*   Do we need to split the data into train, valid and test? How?\n",
        "*   Do we need to normalize the data? How? The normalization is equal to train, valid and test split?\n",
        "* **Target value: serum_creatinine**.\n",
        "\n",
        "Obs: drop the DEATH_EVENT column."
      ]
    },
    {
      "cell_type": "code",
      "execution_count": 8,
      "metadata": {
        "id": "3JQo-C4DXq22"
      },
      "outputs": [],
      "source": [
        "X = df.drop(columns=['DEATH_EVENT', 'serum_creatinine'])\n",
        "y = df['serum_creatinine']\n",
        "\n",
        "NUM_LABELS_REGRESSION = NUM_LABELS.copy()\n",
        "NUM_LABELS_REGRESSION.remove('serum_creatinine')"
      ]
    },
    {
      "attachments": {},
      "cell_type": "markdown",
      "metadata": {},
      "source": [
        "Sim, precisamos dividir os dados em treinamento, validação e teste. Utilizaremos a função train_test_split da biblioteca sklearn. Primeiramente, dividimos o dataset em conjunto de treinamento (X_train, y_train) e conjunto de teste (X_test, y_test), onde o conjunto de teste tem 20% dos dados do dataset. Depois, dividimos o conjunto de treinamento em conjunto de treinamento (X_train, y_train) e conjunto de validação (X_val, y_val), onde o conjunto de treinamento após a divisão tem 80% dos dados do conjunto de treinamento original."
      ]
    },
    {
      "cell_type": "code",
      "execution_count": 9,
      "metadata": {},
      "outputs": [],
      "source": [
        "from sklearn.model_selection import train_test_split\n",
        "\n",
        "X_train, X_test, y_train, y_test = train_test_split(X, y, test_size=0.2)\n",
        "X_train, X_val,  y_train, y_val  = train_test_split(X_train, y_train, test_size=0.2)"
      ]
    },
    {
      "attachments": {},
      "cell_type": "markdown",
      "metadata": {},
      "source": [
        "Precisamos normalizar os dados e para isso utilizaremos a normalização Z Score, como segue:"
      ]
    },
    {
      "cell_type": "code",
      "execution_count": 10,
      "metadata": {},
      "outputs": [],
      "source": [
        "class ZScore:\n",
        "    def __init__(self):\n",
        "        self.mean = 0\n",
        "        self.std  = 1\n",
        "\n",
        "    def fit(self, X, rows=None):\n",
        "        if rows is None:\n",
        "            self.mean = X.mean(axis=0)\n",
        "            self.std  = X.std(axis=0)\n",
        "        \n",
        "        else:\n",
        "            self.mean = X[rows].mean(axis=0)\n",
        "            self.std  = X[rows].std(axis=0)\n",
        "\n",
        "        return self\n",
        "    \n",
        "    def fit_transform(self, X, rows=None, epsilon=1e-8):\n",
        "        target = X.copy()\n",
        "        \n",
        "        if rows is None:\n",
        "            self.mean = X.mean(axis=0)\n",
        "            self.std  = X.std(axis=0)\n",
        "        \n",
        "            target = (target - self.mean + epsilon)/(self.std + epsilon)\n",
        "\n",
        "        else:\n",
        "            self.mean = target[rows].mean(axis=0)\n",
        "            self.std  = target[rows].std(axis=0)\n",
        "        \n",
        "            target[rows] = (target[rows] - self.mean + epsilon)/(self.std + epsilon)\n",
        "\n",
        "        return target\n",
        "\n",
        "    def transform(self, X, rows=None, epsilon=1e-8):\n",
        "        target = X.copy()\n",
        "        \n",
        "        if rows is None:\n",
        "            target = (target - self.mean)/(self.std + epsilon)\n",
        "\n",
        "        else:\n",
        "            target[rows] = (target[rows] - self.mean + epsilon)/(self.std + epsilon)\n",
        "\n",
        "        return target"
      ]
    },
    {
      "attachments": {},
      "cell_type": "markdown",
      "metadata": {},
      "source": [
        "Os parâmetros da normalização são calculados no conjunto de treinamento e a mesma normalização é utilizada no conjunto de treinamento, validação e teste."
      ]
    },
    {
      "cell_type": "code",
      "execution_count": 11,
      "metadata": {},
      "outputs": [],
      "source": [
        "standardization = ZScore()\n",
        "\n",
        "X_train = standardization.fit_transform(X_train, NUM_LABELS_REGRESSION)\n",
        "X_val   = standardization.transform(X_val, NUM_LABELS_REGRESSION)\n",
        "X_test  = standardization.transform(X_test, NUM_LABELS_REGRESSION)"
      ]
    },
    {
      "cell_type": "markdown",
      "metadata": {
        "id": "LvrGLGqVXv8q"
      },
      "source": [
        "### Activities"
      ]
    },
    {
      "cell_type": "markdown",
      "metadata": {
        "id": "os7TMYsiYaDv"
      },
      "source": [
        "1. (0.5 points) Verify if there is any feature that has low correlation with the target variables. You can use the function [mutual_info_regression](https://scikit-learn.org/stable/modules/generated/sklearn.feature_selection.mutual_info_regression.html) to check the importance of each feature. \n",
        "\n",
        "> *   Do we need all the features to predict the target value?\n",
        "> *   What happens if we drop the low correlation features?"
      ]
    },
    {
      "cell_type": "code",
      "execution_count": 12,
      "metadata": {},
      "outputs": [
        {
          "name": "stderr",
          "output_type": "stream",
          "text": [
            "/tmp/ipykernel_227249/3881673107.py:8: UserWarning:\n",
            "\n",
            "FixedFormatter should only be used together with FixedLocator\n",
            "\n"
          ]
        },
        {
          "data": {
            "image/png": "[encoded data removed]",
            "text/plain": [
              "<Figure size 960x720 with 1 Axes>"
            ]
          },
          "metadata": {},
          "output_type": "display_data"
        }
      ],
      "source": [
        "from sklearn.feature_selection import mutual_info_regression\n",
        "\n",
        "fig, ax = plt.subplots(dpi=150)\n",
        "\n",
        "correlation = mutual_info_regression(X_train, y_train, discrete_features=~np.isin(X_train.columns, NUM_LABELS_REGRESSION), random_state=42)\n",
        "\n",
        "ax.bar(X.columns.values, correlation)\n",
        "ax.set_xticklabels(X.columns.values, rotation=45, ha='right')\n",
        "\n",
        "plt.show()"
      ]
    },
    {
      "cell_type": "code",
      "execution_count": 13,
      "metadata": {},
      "outputs": [],
      "source": [
        "correlated_labels = X.columns.values[correlation > 0.05]\n",
        "\n",
        "X_train = X_train[correlated_labels].to_numpy()\n",
        "X_val   = X_val[correlated_labels].to_numpy()\n",
        "X_test  = X_test[correlated_labels].to_numpy()\n",
        "\n",
        "y_train = y_train.to_numpy()\n",
        "y_val   = y_val.to_numpy()\n",
        "y_test  = y_test.to_numpy()"
      ]
    },
    {
      "cell_type": "code",
      "execution_count": 14,
      "metadata": {},
      "outputs": [
        {
          "data": {
            "application/vnd.plotly.v1+json": {
              "config": {
                "plotlyServerURL": "https://plot.ly"
              },
              "data": [
                {
                  "boxpoints": "all",
                  "jitter": 0.3,
                  "name": "ejection_fraction",
                  "type": "box",
                  "xaxis": "x",
                  "y": [
                    -0.03343169035193298,
                    0.13684705684367873,
                    1.839634528799796,
                    -0.2888498111453506,
                    -0.2888498111453506,
                    -1.5659404151124383,
                    1.839634528799796,
                    -0.7145466791343797,
                    -0.2888498111453506,
                    0.562543924832708,
                    -0.2888498111453506,
                    -0.03343169035193298,
                    -0.03343169035193298,
                    -1.140243547123409,
                    -0.2888498111453506,
                    0.9882407928217374,
                    1.839634528799796,
                    0.562543924832708,
                    -1.140243547123409,
                    -0.2888498111453506,
                    1.839634528799796,
                    -1.5659404151124383,
                    0.9882407928217374,
                    0.9882407928217374,
                    0.13684705684367873,
                    0.13684705684367873,
                    -0.2888498111453506,
                    -1.140243547123409,
                    -0.2888498111453506,
                    -1.140243547123409,
                    1.4139376608107666,
                    0.13684705684367873,
                    -0.03343169035193298,
                    0.562543924832708,
                    -0.2888498111453506,
                    -1.5659404151124383,
                    -0.03343169035193298,
                    -0.03343169035193298,
                    0.562543924832708,
                    0.562543924832708,
                    -0.7145466791343797,
                    -0.7145466791343797,
                    0.9882407928217374,
                    -0.7145466791343797,
                    -1.140243547123409,
                    1.4139376608107666,
                    -1.5659404151124383,
                    -1.5659404151124383,
                    -1.140243547123409,
                    1.839634528799796,
                    0.13684705684367873,
                    -1.140243547123409,
                    0.13684705684367873,
                    1.839634528799796,
                    -1.5659404151124383,
                    0.9882407928217374,
                    0.13684705684367873,
                    -0.2888498111453506,
                    -1.9916372831014675,
                    -1.140243547123409,
                    -0.7145466791343797,
                    -0.2888498111453506,
                    -1.140243547123409,
                    -0.03343169035193298,
                    0.13684705684367873,
                    -0.2888498111453506,
                    0.13684705684367873,
                    0.13684705684367873,
                    0.9882407928217374,
                    -0.03343169035193298,
                    1.4139376608107666,
                    2.6910282647778545,
                    1.839634528799796,
                    0.13684705684367873,
                    -0.03343169035193298,
                    0.13684705684367873,
                    -0.2888498111453506,
                    1.839634528799796,
                    -0.2888498111453506,
                    0.562543924832708,
                    -0.2888498111453506,
                    0.562543924832708,
                    -1.140243547123409,
                    -0.03343169035193298,
                    1.839634528799796,
                    1.839634528799796,
                    -0.2888498111453506,
                    -0.03343169035193298,
                    -0.03343169035193298,
                    -1.5659404151124383,
                    -0.03343169035193298,
                    -1.140243547123409,
                    1.839634528799796,
                    -0.7145466791343797,
                    0.13684705684367873,
                    0.9882407928217374,
                    -1.140243547123409,
                    0.13684705684367873,
                    3.542422000755913,
                    -0.7145466791343797,
                    -0.2888498111453506,
                    -0.03343169035193298,
                    -0.2888498111453506,
                    -0.7145466791343797,
                    -0.2888498111453506,
                    -0.2888498111453506,
                    0.9882407928217374,
                    -0.7145466791343797,
                    0.9882407928217374,
                    -0.03343169035193298,
                    0.13684705684367873,
                    1.839634528799796,
                    1.839634528799796,
                    -1.140243547123409,
                    -0.2888498111453506,
                    -0.2888498111453506,
                    0.13684705684367873,
                    -0.03343169035193298,
                    -0.7145466791343797,
                    -0.03343169035193298,
                    -0.7145466791343797,
                    -0.03343169035193298,
                    0.13684705684367873,
                    1.839634528799796,
                    -0.03343169035193298,
                    -0.2888498111453506,
                    0.13684705684367873,
                    0.13684705684367873,
                    -1.140243547123409,
                    -0.03343169035193298,
                    1.839634528799796,
                    0.562543924832708,
                    -0.7145466791343797,
                    -0.7145466791343797,
                    -0.7145466791343797,
                    0.562543924832708,
                    1.839634528799796,
                    -1.140243547123409,
                    2.265331396788825,
                    -1.5659404151124383,
                    -0.03343169035193298,
                    -1.140243547123409,
                    -0.2888498111453506,
                    -0.2888498111453506,
                    -0.7145466791343797,
                    -0.7145466791343797,
                    2.0099132759954075,
                    0.562543924832708,
                    0.13684705684367873,
                    0.562543924832708,
                    -1.9916372831014675,
                    0.9882407928217374,
                    0.9882407928217374,
                    0.9882407928217374,
                    -0.7145466791343797,
                    1.839634528799796,
                    0.13684705684367873,
                    -1.5659404151124383,
                    -1.140243547123409,
                    -0.7145466791343797,
                    -0.2888498111453506,
                    -1.5659404151124383,
                    -0.7145466791343797,
                    0.562543924832708,
                    -0.03343169035193298,
                    -1.140243547123409,
                    2.0099132759954075,
                    -0.2888498111453506,
                    -0.03343169035193298,
                    0.13684705684367873,
                    -1.5659404151124383,
                    0.13684705684367873,
                    -0.03343169035193298,
                    -1.140243547123409,
                    -0.2888498111453506,
                    -0.03343169035193298,
                    -0.7145466791343797,
                    -0.2888498111453506,
                    0.13684705684367873,
                    -0.2888498111453506,
                    0.13684705684367873,
                    -0.03343169035193298,
                    -0.03343169035193298,
                    -0.2888498111453506,
                    0.9882407928217374,
                    -0.03343169035193298,
                    -1.140243547123409,
                    -1.140243547123409,
                    -0.2888498111453506,
                    -1.140243547123409,
                    -0.2888498111453506
                  ],
                  "yaxis": "y"
                },
                {
                  "boxpoints": "all",
                  "jitter": 0.3,
                  "name": "platelets",
                  "type": "box",
                  "xaxis": "x2",
                  "y": [
                    0.323864867919777,
                    -0.7940708702471269,
                    0.48356997337219176,
                    -0.002380402088204841,
                    -0.09136840625650158,
                    -0.002380402088204841,
                    0.4516289522817088,
                    -0.002380402088204841,
                    0.9200972616087922,
                    1.399212577966037,
                    -0.45336664528197523,
                    -0.42142562419149227,
                    0.13221874137687917,
                    0.13221874137687917,
                    0.6752160999150896,
                    0.4729229663420308,
                    0.4303349382213868,
                    1.0478613459707242,
                    0.36645289604042086,
                    0.8988032475484703,
                    2.5916773653440677,
                    -0.002380402088204841,
                    -0.4853076663724582,
                    -1.400950270966303,
                    0.7710391631865384,
                    -0.40013161013117027,
                    1.0798023670612071,
                    -0.698247806975678,
                    -0.3788375960708483,
                    -0.8792469264884147,
                    2.974969618429863,
                    0.2067477905880061,
                    -1.0815400600614735,
                    0.4409819452515478,
                    0.16415976246736214,
                    -1.0815400600614735,
                    1.11174338815169,
                    -0.8260118913376098,
                    -0.006192350015213678,
                    0.1109247273165572,
                    0.025748671075269288,
                    3.80543616678242,
                    -0.7408358350963219,
                    1.399212577966037,
                    -1.0389520319408296,
                    -1.8800655873235474,
                    -2.061064706836284,
                    0.16415976246736214,
                    0.4409819452515478,
                    -0.20848548358827246,
                    0.6539220858547676,
                    0.1109247273165572,
                    0.2067477905880061,
                    -0.15525044843746752,
                    -1.539361362358396,
                    0.6113340577341236,
                    0.06833669919591324,
                    2.8684995481282534,
                    -1.454185306117108,
                    -0.28301453279939937,
                    -0.9644229827297026,
                    -0.002380402088204841,
                    0.015101664045108298,
                    -1.3157742147250153,
                    -0.4640136523121362,
                    -0.40013161013117027,
                    -0.5066016804327802,
                    -0.002380402088204841,
                    1.5163296552978078,
                    -1.3903032639361421,
                    -0.44271963825181426,
                    -1.1986571373932444,
                    5.0937240174319,
                    -0.666306785885195,
                    1.9954449716550522,
                    -0.30430854685972136,
                    -1.3051272076948544,
                    0.015101664045108298,
                    -0.9644229827297026,
                    -0.002380402088204841,
                    -0.8366588983677709,
                    -0.14460344140730652,
                    -0.28301453279939937,
                    -1.1560691092726005,
                    -0.4640136523121362,
                    -0.4746606593422972,
                    0.4409819452515478,
                    -1.1773631233329225,
                    -0.002380402088204841,
                    1.6440937396597397,
                    0.6965101139754115,
                    0.5368050085229967,
                    1.11174338815169,
                    -1.3583622428456592,
                    -0.45336664528197523,
                    -0.30430854685972136,
                    -0.5491897085534241,
                    -0.22977949764859443,
                    -0.002380402088204841,
                    0.036395678105430276,
                    -2.0078296716854793,
                    1.3459775428152319,
                    -0.29366153982956034,
                    0.4196879311912258,
                    -1.3903032639361421,
                    -0.9005409405487368,
                    0.9307442686389533,
                    0.4409819452515478,
                    1.5163296552978078,
                    0.1961007835578451,
                    1.9635039505645693,
                    -0.9750699897598637,
                    -0.4640136523121362,
                    -0.7940708702471269,
                    -0.43207263122165324,
                    -0.3468965749803653,
                    -0.038133371105696645,
                    -0.002380402088204841,
                    -0.559836715583585,
                    -0.01683935704537467,
                    2.101915041956662,
                    -0.002380402088204841,
                    1.175625430332656,
                    -0.5917777366740681,
                    -0.7621298491566438,
                    -0.3468965749803653,
                    -0.002380402088204841,
                    -0.07007439219617961,
                    0.1109247273165572,
                    0.6752160999150896,
                    -0.9324819616392197,
                    0.2173947976181671,
                    -0.15525044843746752,
                    -0.40013161013117027,
                    0.3558058890102599,
                    -0.30430854685972136,
                    -0.7408358350963219,
                    0.5793930366436406,
                    -0.002380402088204841,
                    0.025748671075269288,
                    1.9954449716550522,
                    -0.20848548358827246,
                    -0.645012771824873,
                    0.18545377652768413,
                    1.7399168029311887,
                    0.6965101139754115,
                    -0.002380402088204841,
                    -0.8473059053979318,
                    -0.3681905890406873,
                    -0.15525044843746752,
                    -0.5385427015232631,
                    -0.40013161013117027,
                    -0.28301453279939937,
                    1.0052733178500801,
                    -1.2093041444234054,
                    0.33451187494993795,
                    -0.719541821036,
                    -0.5704837226137461,
                    1.0798023670612071,
                    -2.1462407630775724,
                    -0.9537759756995416,
                    -1.3157742147250153,
                    1.495035641237486,
                    0.6432750788246065,
                    0.40904092416106486,
                    -0.3256025609200433,
                    -1.2412451655138883,
                    0.270629832768972,
                    1.2608014865739439,
                    0.6858631069452505,
                    -0.002380402088204841,
                    0.16415976246736214,
                    0.2067477905880061,
                    -0.10201541328666257,
                    0.28127683979913304,
                    -0.01683935704537467,
                    -0.4853076663724582,
                    -0.10201541328666257,
                    0.16415976246736214,
                    -0.09136840625650158,
                    0.313217860889616,
                    -0.11266242031682355,
                    -0.002380402088204841,
                    0.07898370622607423,
                    -2.305945868529987,
                    -0.002380402088204841,
                    -0.01683935704537467,
                    -0.45336664528197523,
                    -0.3788375960708483,
                    -1.2199511514535664,
                    -0.21913249061843343
                  ],
                  "yaxis": "y2"
                },
                {
                  "boxpoints": "all",
                  "jitter": 0.3,
                  "name": "serum_sodium",
                  "type": "box",
                  "xaxis": "x3",
                  "y": [
                    0.5392427436590063,
                    0.7722639282603638,
                    -0.39284199474642423,
                    -5.519308055976292,
                    -0.15982081014506655,
                    -0.6258631793477818,
                    -1.0919055485504972,
                    -1.5579479177532123,
                    -0.6258631793477818,
                    -0.15982081014506655,
                    -0.15982081014506655,
                    -0.6258631793477818,
                    0.07320037445629103,
                    0.07320037445629103,
                    1.2383062974630792,
                    -0.39284199474642423,
                    0.7722639282603638,
                    0.5392427436590063,
                    1.0052851128617215,
                    0.7722639282603638,
                    0.30622155905764864,
                    -0.6258631793477818,
                    -0.6258631793477818,
                    0.7722639282603638,
                    -0.39284199474642423,
                    1.0052851128617215,
                    0.5392427436590063,
                    -1.79096910235457,
                    -0.6258631793477818,
                    1.7043486666657943,
                    -1.0919055485504972,
                    1.0052851128617215,
                    -0.15982081014506655,
                    0.07320037445629103,
                    0.7722639282603638,
                    -1.79096910235457,
                    -1.3249267331518546,
                    -0.15982081014506655,
                    0.07320037445629103,
                    -0.8588843639491395,
                    1.0052851128617215,
                    0.30622155905764864,
                    1.9373698512671522,
                    0.7722639282603638,
                    0.30622155905764864,
                    -3.6551385791654307,
                    -0.6258631793477818,
                    -0.6258631793477818,
                    -1.5579479177532123,
                    0.5392427436590063,
                    0.7722639282603638,
                    -0.6258631793477818,
                    -0.8588843639491395,
                    0.30622155905764864,
                    -2.257011471557285,
                    1.9373698512671522,
                    0.30622155905764864,
                    0.5392427436590063,
                    0.07320037445629103,
                    -1.5579479177532123,
                    -1.0919055485504972,
                    -0.15982081014506655,
                    -0.15982081014506655,
                    0.7722639282603638,
                    1.0052851128617215,
                    0.30622155905764864,
                    -1.3249267331518546,
                    0.07320037445629103,
                    0.07320037445629103,
                    0.7722639282603638,
                    1.0052851128617215,
                    0.07320037445629103,
                    0.30622155905764864,
                    -0.15982081014506655,
                    -0.15982081014506655,
                    0.5392427436590063,
                    0.7722639282603638,
                    -2.72305384076,
                    0.07320037445629103,
                    0.07320037445629103,
                    -0.6258631793477818,
                    -1.3249267331518546,
                    0.7722639282603638,
                    1.4713274820644366,
                    -0.8588843639491395,
                    1.0052851128617215,
                    -0.8588843639491395,
                    -0.6258631793477818,
                    -0.6258631793477818,
                    0.5392427436590063,
                    1.2383062974630792,
                    0.30622155905764864,
                    -0.39284199474642423,
                    0.07320037445629103,
                    0.7722639282603638,
                    -0.6258631793477818,
                    -0.15982081014506655,
                    -0.6258631793477818,
                    0.07320037445629103,
                    -0.15982081014506655,
                    1.2383062974630792,
                    1.7043486666657943,
                    -1.0919055485504972,
                    -0.15982081014506655,
                    0.5392427436590063,
                    -0.15982081014506655,
                    -0.6258631793477818,
                    0.07320037445629103,
                    0.7722639282603638,
                    0.07320037445629103,
                    0.07320037445629103,
                    0.07320037445629103,
                    0.30622155905764864,
                    -1.0919055485504972,
                    0.30622155905764864,
                    1.4713274820644366,
                    -1.5579479177532123,
                    -0.6258631793477818,
                    0.30622155905764864,
                    0.5392427436590063,
                    -1.0919055485504972,
                    0.30622155905764864,
                    0.7722639282603638,
                    0.7722639282603638,
                    -0.39284199474642423,
                    0.07320037445629103,
                    0.07320037445629103,
                    -0.15982081014506655,
                    0.7722639282603638,
                    1.2383062974630792,
                    1.9373698512671522,
                    -0.15982081014506655,
                    -0.15982081014506655,
                    0.7722639282603638,
                    -0.15982081014506655,
                    -0.39284199474642423,
                    1.2383062974630792,
                    0.07320037445629103,
                    0.30622155905764864,
                    -0.6258631793477818,
                    0.30622155905764864,
                    1.2383062974630792,
                    -0.6258631793477818,
                    0.07320037445629103,
                    0.30622155905764864,
                    -1.0919055485504972,
                    2.17039103586851,
                    -0.6258631793477818,
                    1.0052851128617215,
                    -0.15982081014506655,
                    -0.15982081014506655,
                    -0.6258631793477818,
                    -0.39284199474642423,
                    1.0052851128617215,
                    0.07320037445629103,
                    1.9373698512671522,
                    0.30622155905764864,
                    0.07320037445629103,
                    1.7043486666657943,
                    -2.257011471557285,
                    0.5392427436590063,
                    -0.8588843639491395,
                    0.5392427436590063,
                    0.7722639282603638,
                    0.7722639282603638,
                    -0.39284199474642423,
                    0.7722639282603638,
                    0.7722639282603638,
                    0.7722639282603638,
                    -2.4900326561586423,
                    -0.6258631793477818,
                    1.0052851128617215,
                    -1.3249267331518546,
                    -0.6258631793477818,
                    -0.6258631793477818,
                    0.7722639282603638,
                    -0.15982081014506655,
                    0.5392427436590063,
                    0.7722639282603638,
                    0.07320037445629103,
                    -0.15982081014506655,
                    0.5392427436590063,
                    -0.15982081014506655,
                    -0.6258631793477818,
                    -0.15982081014506655,
                    0.07320037445629103,
                    -0.15982081014506655,
                    -0.15982081014506655,
                    -0.15982081014506655,
                    1.7043486666657943,
                    -1.0919055485504972
                  ],
                  "yaxis": "y3"
                }
              ],
              "layout": {
                "template": {
                  "data": {
                    "bar": [
                      {
                        "error_x": {
                          "color": "#2a3f5f"
                        },
                        "error_y": {
                          "color": "#2a3f5f"
                        },
                        "marker": {
                          "line": {
                            "color": "#E5ECF6",
                            "width": 0.5
                          },
                          "pattern": {
                            "fillmode": "overlay",
                            "size": 10,
                            "solidity": 0.2
                          }
                        },
                        "type": "bar"
                      }
                    ],
                    "barpolar": [
                      {
                        "marker": {
                          "line": {
                            "color": "#E5ECF6",
                            "width": 0.5
                          },
                          "pattern": {
                            "fillmode": "overlay",
                            "size": 10,
                            "solidity": 0.2
                          }
                        },
                        "type": "barpolar"
                      }
                    ],
                    "carpet": [
                      {
                        "aaxis": {
                          "endlinecolor": "#2a3f5f",
                          "gridcolor": "white",
                          "linecolor": "white",
                          "minorgridcolor": "white",
                          "startlinecolor": "#2a3f5f"
                        },
                        "baxis": {
                          "endlinecolor": "#2a3f5f",
                          "gridcolor": "white",
                          "linecolor": "white",
                          "minorgridcolor": "white",
                          "startlinecolor": "#2a3f5f"
                        },
                        "type": "carpet"
                      }
                    ],
                    "choropleth": [
                      {
                        "colorbar": {
                          "outlinewidth": 0,
                          "ticks": ""
                        },
                        "type": "choropleth"
                      }
                    ],
                    "contour": [
                      {
                        "colorbar": {
                          "outlinewidth": 0,
                          "ticks": ""
                        },
                        "colorscale": [
                          [
                            0,
                            "#0d0887"
                          ],
                          [
                            0.1111111111111111,
                            "#46039f"
                          ],
                          [
                            0.2222222222222222,
                            "#7201a8"
                          ],
                          [
                            0.3333333333333333,
                            "#9c179e"
                          ],
                          [
                            0.4444444444444444,
                            "#bd3786"
                          ],
                          [
                            0.5555555555555556,
                            "#d8576b"
                          ],
                          [
                            0.6666666666666666,
                            "#ed7953"
                          ],
                          [
                            0.7777777777777778,
                            "#fb9f3a"
                          ],
                          [
                            0.8888888888888888,
                            "#fdca26"
                          ],
                          [
                            1,
                            "#f0f921"
                          ]
                        ],
                        "type": "contour"
                      }
                    ],
                    "contourcarpet": [
                      {
                        "colorbar": {
                          "outlinewidth": 0,
                          "ticks": ""
                        },
                        "type": "contourcarpet"
                      }
                    ],
                    "heatmap": [
                      {
                        "colorbar": {
                          "outlinewidth": 0,
                          "ticks": ""
                        },
                        "colorscale": [
                          [
                            0,
                            "#0d0887"
                          ],
                          [
                            0.1111111111111111,
                            "#46039f"
                          ],
                          [
                            0.2222222222222222,
                            "#7201a8"
                          ],
                          [
                            0.3333333333333333,
                            "#9c179e"
                          ],
                          [
                            0.4444444444444444,
                            "#bd3786"
                          ],
                          [
                            0.5555555555555556,
                            "#d8576b"
                          ],
                          [
                            0.6666666666666666,
                            "#ed7953"
                          ],
                          [
                            0.7777777777777778,
                            "#fb9f3a"
                          ],
                          [
                            0.8888888888888888,
                            "#fdca26"
                          ],
                          [
                            1,
                            "#f0f921"
                          ]
                        ],
                        "type": "heatmap"
                      }
                    ],
                    "heatmapgl": [
                      {
                        "colorbar": {
                          "outlinewidth": 0,
                          "ticks": ""
                        },
                        "colorscale": [
                          [
                            0,
                            "#0d0887"
                          ],
                          [
                            0.1111111111111111,
                            "#46039f"
                          ],
                          [
                            0.2222222222222222,
                            "#7201a8"
                          ],
                          [
                            0.3333333333333333,
                            "#9c179e"
                          ],
                          [
                            0.4444444444444444,
                            "#bd3786"
                          ],
                          [
                            0.5555555555555556,
                            "#d8576b"
                          ],
                          [
                            0.6666666666666666,
                            "#ed7953"
                          ],
                          [
                            0.7777777777777778,
                            "#fb9f3a"
                          ],
                          [
                            0.8888888888888888,
                            "#fdca26"
                          ],
                          [
                            1,
                            "#f0f921"
                          ]
                        ],
                        "type": "heatmapgl"
                      }
                    ],
                    "histogram": [
                      {
                        "marker": {
                          "pattern": {
                            "fillmode": "overlay",
                            "size": 10,
                            "solidity": 0.2
                          }
                        },
                        "type": "histogram"
                      }
                    ],
                    "histogram2d": [
                      {
                        "colorbar": {
                          "outlinewidth": 0,
                          "ticks": ""
                        },
                        "colorscale": [
                          [
                            0,
                            "#0d0887"
                          ],
                          [
                            0.1111111111111111,
                            "#46039f"
                          ],
                          [
                            0.2222222222222222,
                            "#7201a8"
                          ],
                          [
                            0.3333333333333333,
                            "#9c179e"
                          ],
                          [
                            0.4444444444444444,
                            "#bd3786"
                          ],
                          [
                            0.5555555555555556,
                            "#d8576b"
                          ],
                          [
                            0.6666666666666666,
                            "#ed7953"
                          ],
                          [
                            0.7777777777777778,
                            "#fb9f3a"
                          ],
                          [
                            0.8888888888888888,
                            "#fdca26"
                          ],
                          [
                            1,
                            "#f0f921"
                          ]
                        ],
                        "type": "histogram2d"
                      }
                    ],
                    "histogram2dcontour": [
                      {
                        "colorbar": {
                          "outlinewidth": 0,
                          "ticks": ""
                        },
                        "colorscale": [
                          [
                            0,
                            "#0d0887"
                          ],
                          [
                            0.1111111111111111,
                            "#46039f"
                          ],
                          [
                            0.2222222222222222,
                            "#7201a8"
                          ],
                          [
                            0.3333333333333333,
                            "#9c179e"
                          ],
                          [
                            0.4444444444444444,
                            "#bd3786"
                          ],
                          [
                            0.5555555555555556,
                            "#d8576b"
                          ],
                          [
                            0.6666666666666666,
                            "#ed7953"
                          ],
                          [
                            0.7777777777777778,
                            "#fb9f3a"
                          ],
                          [
                            0.8888888888888888,
                            "#fdca26"
                          ],
                          [
                            1,
                            "#f0f921"
                          ]
                        ],
                        "type": "histogram2dcontour"
                      }
                    ],
                    "mesh3d": [
                      {
                        "colorbar": {
                          "outlinewidth": 0,
                          "ticks": ""
                        },
                        "type": "mesh3d"
                      }
                    ],
                    "parcoords": [
                      {
                        "line": {
                          "colorbar": {
                            "outlinewidth": 0,
                            "ticks": ""
                          }
                        },
                        "type": "parcoords"
                      }
                    ],
                    "pie": [
                      {
                        "automargin": true,
                        "type": "pie"
                      }
                    ],
                    "scatter": [
                      {
                        "fillpattern": {
                          "fillmode": "overlay",
                          "size": 10,
                          "solidity": 0.2
                        },
                        "type": "scatter"
                      }
                    ],
                    "scatter3d": [
                      {
                        "line": {
                          "colorbar": {
                            "outlinewidth": 0,
                            "ticks": ""
                          }
                        },
                        "marker": {
                          "colorbar": {
                            "outlinewidth": 0,
                            "ticks": ""
                          }
                        },
                        "type": "scatter3d"
                      }
                    ],
                    "scattercarpet": [
                      {
                        "marker": {
                          "colorbar": {
                            "outlinewidth": 0,
                            "ticks": ""
                          }
                        },
                        "type": "scattercarpet"
                      }
                    ],
                    "scattergeo": [
                      {
                        "marker": {
                          "colorbar": {
                            "outlinewidth": 0,
                            "ticks": ""
                          }
                        },
                        "type": "scattergeo"
                      }
                    ],
                    "scattergl": [
                      {
                        "marker": {
                          "colorbar": {
                            "outlinewidth": 0,
                            "ticks": ""
                          }
                        },
                        "type": "scattergl"
                      }
                    ],
                    "scattermapbox": [
                      {
                        "marker": {
                          "colorbar": {
                            "outlinewidth": 0,
                            "ticks": ""
                          }
                        },
                        "type": "scattermapbox"
                      }
                    ],
                    "scatterpolar": [
                      {
                        "marker": {
                          "colorbar": {
                            "outlinewidth": 0,
                            "ticks": ""
                          }
                        },
                        "type": "scatterpolar"
                      }
                    ],
                    "scatterpolargl": [
                      {
                        "marker": {
                          "colorbar": {
                            "outlinewidth": 0,
                            "ticks": ""
                          }
                        },
                        "type": "scatterpolargl"
                      }
                    ],
                    "scatterternary": [
                      {
                        "marker": {
                          "colorbar": {
                            "outlinewidth": 0,
                            "ticks": ""
                          }
                        },
                        "type": "scatterternary"
                      }
                    ],
                    "surface": [
                      {
                        "colorbar": {
                          "outlinewidth": 0,
                          "ticks": ""
                        },
                        "colorscale": [
                          [
                            0,
                            "#0d0887"
                          ],
                          [
                            0.1111111111111111,
                            "#46039f"
                          ],
                          [
                            0.2222222222222222,
                            "#7201a8"
                          ],
                          [
                            0.3333333333333333,
                            "#9c179e"
                          ],
                          [
                            0.4444444444444444,
                            "#bd3786"
                          ],
                          [
                            0.5555555555555556,
                            "#d8576b"
                          ],
                          [
                            0.6666666666666666,
                            "#ed7953"
                          ],
                          [
                            0.7777777777777778,
                            "#fb9f3a"
                          ],
                          [
                            0.8888888888888888,
                            "#fdca26"
                          ],
                          [
                            1,
                            "#f0f921"
                          ]
                        ],
                        "type": "surface"
                      }
                    ],
                    "table": [
                      {
                        "cells": {
                          "fill": {
                            "color": "#EBF0F8"
                          },
                          "line": {
                            "color": "white"
                          }
                        },
                        "header": {
                          "fill": {
                            "color": "#C8D4E3"
                          },
                          "line": {
                            "color": "white"
                          }
                        },
                        "type": "table"
                      }
                    ]
                  },
                  "layout": {
                    "annotationdefaults": {
                      "arrowcolor": "#2a3f5f",
                      "arrowhead": 0,
                      "arrowwidth": 1
                    },
                    "autotypenumbers": "strict",
                    "coloraxis": {
                      "colorbar": {
                        "outlinewidth": 0,
                        "ticks": ""
                      }
                    },
                    "colorscale": {
                      "diverging": [
                        [
                          0,
                          "#8e0152"
                        ],
                        [
                          0.1,
                          "#c51b7d"
                        ],
                        [
                          0.2,
                          "#de77ae"
                        ],
                        [
                          0.3,
                          "#f1b6da"
                        ],
                        [
                          0.4,
                          "#fde0ef"
                        ],
                        [
                          0.5,
                          "#f7f7f7"
                        ],
                        [
                          0.6,
                          "#e6f5d0"
                        ],
                        [
                          0.7,
                          "#b8e186"
                        ],
                        [
                          0.8,
                          "#7fbc41"
                        ],
                        [
                          0.9,
                          "#4d9221"
                        ],
                        [
                          1,
                          "#276419"
                        ]
                      ],
                      "sequential": [
                        [
                          0,
                          "#0d0887"
                        ],
                        [
                          0.1111111111111111,
                          "#46039f"
                        ],
                        [
                          0.2222222222222222,
                          "#7201a8"
                        ],
                        [
                          0.3333333333333333,
                          "#9c179e"
                        ],
                        [
                          0.4444444444444444,
                          "#bd3786"
                        ],
                        [
                          0.5555555555555556,
                          "#d8576b"
                        ],
                        [
                          0.6666666666666666,
                          "#ed7953"
                        ],
                        [
                          0.7777777777777778,
                          "#fb9f3a"
                        ],
                        [
                          0.8888888888888888,
                          "#fdca26"
                        ],
                        [
                          1,
                          "#f0f921"
                        ]
                      ],
                      "sequentialminus": [
                        [
                          0,
                          "#0d0887"
                        ],
                        [
                          0.1111111111111111,
                          "#46039f"
                        ],
                        [
                          0.2222222222222222,
                          "#7201a8"
                        ],
                        [
                          0.3333333333333333,
                          "#9c179e"
                        ],
                        [
                          0.4444444444444444,
                          "#bd3786"
                        ],
                        [
                          0.5555555555555556,
                          "#d8576b"
                        ],
                        [
                          0.6666666666666666,
                          "#ed7953"
                        ],
                        [
                          0.7777777777777778,
                          "#fb9f3a"
                        ],
                        [
                          0.8888888888888888,
                          "#fdca26"
                        ],
                        [
                          1,
                          "#f0f921"
                        ]
                      ]
                    },
                    "colorway": [
                      "#636efa",
                      "#EF553B",
                      "#00cc96",
                      "#ab63fa",
                      "#FFA15A",
                      "#19d3f3",
                      "#FF6692",
                      "#B6E880",
                      "#FF97FF",
                      "#FECB52"
                    ],
                    "font": {
                      "color": "#2a3f5f"
                    },
                    "geo": {
                      "bgcolor": "white",
                      "lakecolor": "white",
                      "landcolor": "#E5ECF6",
                      "showlakes": true,
                      "showland": true,
                      "subunitcolor": "white"
                    },
                    "hoverlabel": {
                      "align": "left"
                    },
                    "hovermode": "closest",
                    "mapbox": {
                      "style": "light"
                    },
                    "paper_bgcolor": "white",
                    "plot_bgcolor": "#E5ECF6",
                    "polar": {
                      "angularaxis": {
                        "gridcolor": "white",
                        "linecolor": "white",
                        "ticks": ""
                      },
                      "bgcolor": "#E5ECF6",
                      "radialaxis": {
                        "gridcolor": "white",
                        "linecolor": "white",
                        "ticks": ""
                      }
                    },
                    "scene": {
                      "xaxis": {
                        "backgroundcolor": "#E5ECF6",
                        "gridcolor": "white",
                        "gridwidth": 2,
                        "linecolor": "white",
                        "showbackground": true,
                        "ticks": "",
                        "zerolinecolor": "white"
                      },
                      "yaxis": {
                        "backgroundcolor": "#E5ECF6",
                        "gridcolor": "white",
                        "gridwidth": 2,
                        "linecolor": "white",
                        "showbackground": true,
                        "ticks": "",
                        "zerolinecolor": "white"
                      },
                      "zaxis": {
                        "backgroundcolor": "#E5ECF6",
                        "gridcolor": "white",
                        "gridwidth": 2,
                        "linecolor": "white",
                        "showbackground": true,
                        "ticks": "",
                        "zerolinecolor": "white"
                      }
                    },
                    "shapedefaults": {
                      "line": {
                        "color": "#2a3f5f"
                      }
                    },
                    "ternary": {
                      "aaxis": {
                        "gridcolor": "white",
                        "linecolor": "white",
                        "ticks": ""
                      },
                      "baxis": {
                        "gridcolor": "white",
                        "linecolor": "white",
                        "ticks": ""
                      },
                      "bgcolor": "#E5ECF6",
                      "caxis": {
                        "gridcolor": "white",
                        "linecolor": "white",
                        "ticks": ""
                      }
                    },
                    "title": {
                      "x": 0.05
                    },
                    "xaxis": {
                      "automargin": true,
                      "gridcolor": "white",
                      "linecolor": "white",
                      "ticks": "",
                      "title": {
                        "standoff": 15
                      },
                      "zerolinecolor": "white",
                      "zerolinewidth": 2
                    },
                    "yaxis": {
                      "automargin": true,
                      "gridcolor": "white",
                      "linecolor": "white",
                      "ticks": "",
                      "title": {
                        "standoff": 15
                      },
                      "zerolinecolor": "white",
                      "zerolinewidth": 2
                    }
                  }
                },
                "xaxis": {
                  "anchor": "y",
                  "domain": [
                    0,
                    0.2888888888888889
                  ]
                },
                "xaxis2": {
                  "anchor": "y2",
                  "domain": [
                    0.35555555555555557,
                    0.6444444444444445
                  ]
                },
                "xaxis3": {
                  "anchor": "y3",
                  "domain": [
                    0.7111111111111111,
                    1
                  ]
                },
                "yaxis": {
                  "anchor": "x",
                  "domain": [
                    0,
                    1
                  ]
                },
                "yaxis2": {
                  "anchor": "x2",
                  "domain": [
                    0,
                    1
                  ]
                },
                "yaxis3": {
                  "anchor": "x3",
                  "domain": [
                    0,
                    1
                  ]
                }
              }
            }
          },
          "metadata": {},
          "output_type": "display_data"
        }
      ],
      "source": [
        "fig = make_subplots(rows=1, cols=len(correlated_labels))\n",
        "for i, var in enumerate(correlated_labels):\n",
        "    fig.add_trace(\n",
        "        go.Box(y=X_train[:, i],\n",
        "        name=var),\n",
        "        row=1, col=i+1\n",
        "    )\n",
        "\n",
        "fig.update_traces(boxpoints='all', jitter=.3)"
      ]
    },
    {
      "cell_type": "markdown",
      "metadata": {
        "id": "DX3PMBcOazAy"
      },
      "source": [
        "> What are the conclusions? (1-2 paragraphs)"
      ]
    },
    {
      "attachments": {},
      "cell_type": "markdown",
      "metadata": {},
      "source": [
        "Não precisamos de todas as features para prever o valor desejado. O procedimento de reduzir o número de features utilizadas no modelo é chamado de feature selection, e é utilizado para reduzir o custo computacional do algoritmo e melhorar sua performance. Com esse método, features redundantes ou que são irrelevantes para o valor alvo são ignoradas. Ocorre melhora de performance no modelo porque, do contrário, como não temos regularização, o modelo tentará aprender padrões a partir de features não correlacionadas, o que é computacionalmente caro e pode impactar negativamente nos resultados obtidos."
      ]
    },
    {
      "cell_type": "markdown",
      "metadata": {
        "id": "jVGywzmSZxr7"
      },
      "source": [
        "2. (2.0 points) Perform Linear Regression. You should implement your solution and compare it with ```sklearn.linear_model.SGDRegressor``` (linear model fitted by minimizing a regularized empirical loss with SGD, http://scikit-learn.org)."
      ]
    },
    {
      "cell_type": "code",
      "execution_count": 15,
      "metadata": {},
      "outputs": [],
      "source": [
        "def MSE(y, y_hat):\n",
        "    n_samples = len(y)\n",
        "    return np.sum((y - y_hat)**2)/(2*n_samples) "
      ]
    },
    {
      "cell_type": "code",
      "execution_count": 16,
      "metadata": {},
      "outputs": [],
      "source": [
        "class LinearRegression:\n",
        "    def __init__(self, learning_rate=1., max_iter=-1):\n",
        "        self.max_iter        = max_iter\n",
        "        self.learning_rate   = learning_rate\n",
        "        self.weights         = None\n",
        "    \n",
        "    def predict(self, X):\n",
        "        return X @ self.weights\n",
        "    \n",
        "    def fit(self, X, y, *validation_tuple, batch_size=None, summary=True):\n",
        "        n_iter = 0\n",
        "\n",
        "        n_samples, n_features = X.shape\n",
        "        n_output = y.shape[1] if len(y.shape) > 1 else 1\n",
        "\n",
        "        history  = []\n",
        "        val_hist = []\n",
        "\n",
        "        if self.weights is None:\n",
        "            self.weights = np.zeros((n_features, n_output)) if len(y.shape) > 1 else np.zeros(n_features)\n",
        "\n",
        "        if validation_tuple:\n",
        "            X_val, y_val = validation_tuple\n",
        "\n",
        "        if batch_size is None or batch_size > n_samples:\n",
        "            batch_size = n_samples\n",
        "\n",
        "        n_batches = n_samples // batch_size\n",
        "        while n_iter < self.max_iter:\n",
        "\n",
        "            loss = 0\n",
        "\n",
        "            shuffled_indices = np.random.permutation(n_samples)\n",
        "\n",
        "            for i in range(n_batches):\n",
        "                batch_indices = shuffled_indices[i*batch_size : min((i+1)*batch_size, n_samples)]\n",
        "\n",
        "                X_train = X[batch_indices]\n",
        "                y_train = y[batch_indices]\n",
        "\n",
        "                batch_current_size = len(batch_indices)\n",
        "\n",
        "                y_hat = X_train @ self.weights\n",
        "\n",
        "                error = y_hat - y_train\n",
        "\n",
        "                weights_grad = (X_train.T @ error)/batch_current_size\n",
        "\n",
        "                self.weights = self.weights - self.learning_rate * weights_grad\n",
        "\n",
        "                loss += np.sum(error**2)/(2*batch_current_size)\n",
        "\n",
        "            history.append(loss/n_batches)\n",
        "\n",
        "            n_iter += 1\n",
        "\n",
        "            if summary:\n",
        "                print(f\"Epoch {n_iter : <3d}: Training loss    {loss/n_batches :.5f}\")\n",
        "\n",
        "            if validation_tuple:\n",
        "                error = (X_val @ self.weights) - y_val\n",
        "\n",
        "                loss = np.sum(error**2)/(2*y_val.shape[0])\n",
        "\n",
        "                val_hist.append(loss)\n",
        "\n",
        "                if summary:\n",
        "                    print(\" \"*10, f\"Validation loss {loss : .5f}\")\n",
        "    \n",
        "            if summary: print()\n",
        "\n",
        "        return history, val_hist if validation_tuple else history\n",
        "\n",
        "\n",
        "    def loss(self, X, y):\n",
        "        y_hat = (X @ self.weights)\n",
        "\n",
        "        return MSE(y, y_hat)\n",
        "\n",
        "\n",
        "    def score(self, X, y):\n",
        "        n_samples = len(y)\n",
        "\n",
        "        y_mean = y.mean(axis=0)\n",
        "\n",
        "        mean_loss = np.sum((y - y_mean)**2)/(2*n_samples)\n",
        "\n",
        "        return 1 - self.loss(X, y)/mean_loss"
      ]
    },
    {
      "cell_type": "code",
      "execution_count": 17,
      "metadata": {},
      "outputs": [],
      "source": [
        "from sklearn.preprocessing import PolynomialFeatures\n",
        "\n",
        "def train_model(learning_rate, polynomial_degree=1, verbose=True, max_iter=200):\n",
        "    global X_train, X_val, y_train, y_val\n",
        "\n",
        "    zscore = ZScore()\n",
        "\n",
        "    if polynomial_degree > 1:\n",
        "        poly = PolynomialFeatures(polynomial_degree)\n",
        "\n",
        "        Xt = poly.fit_transform(X_train[:, 1:])\n",
        "        Xv = poly.transform(X_val[:, 1:])\n",
        "\n",
        "        n = poly.n_output_features_\n",
        "\n",
        "        Xt = zscore.fit_transform(Xt, rows=range(1, n))\n",
        "        Xv = zscore.transform(Xv, rows=range(1, n))\n",
        "\n",
        "    else:\n",
        "        Xt = np.hstack([np.ones((X_train.shape[0], 1)), X_train])\n",
        "        Xv = np.hstack([np.ones((X_val.shape[0], 1)), X_val])\n",
        "    \n",
        "    lin = LinearRegression(learning_rate, max_iter=max_iter)\n",
        "    history, val_history = lin.fit(Xt, y_train, Xv, y_val, summary=verbose)\n",
        "\n",
        "    return history, val_history, lin"
      ]
    },
    {
      "cell_type": "code",
      "execution_count": 18,
      "metadata": {},
      "outputs": [
        {
          "name": "stdout",
          "output_type": "stream",
          "text": [
            "Epoch 1  : Training loss    1.52811\n",
            "           Validation loss  1.15275\n",
            "\n",
            "Epoch 2  : Training loss    1.50830\n",
            "           Validation loss  1.13282\n",
            "\n",
            "Epoch 3  : Training loss    1.48888\n",
            "           Validation loss  1.11329\n",
            "\n",
            "Epoch 4  : Training loss    1.46985\n",
            "           Validation loss  1.09417\n",
            "\n",
            "Epoch 5  : Training loss    1.45119\n",
            "           Validation loss  1.07544\n",
            "\n",
            "Epoch 6  : Training loss    1.43291\n",
            "           Validation loss  1.05709\n",
            "\n",
            "Epoch 7  : Training loss    1.41499\n",
            "           Validation loss  1.03912\n",
            "\n",
            "Epoch 8  : Training loss    1.39743\n",
            "           Validation loss  1.02152\n",
            "\n",
            "Epoch 9  : Training loss    1.38022\n",
            "           Validation loss  1.00428\n",
            "\n",
            "Epoch 10 : Training loss    1.36335\n",
            "           Validation loss  0.98739\n",
            "\n",
            "Epoch 11 : Training loss    1.34681\n",
            "           Validation loss  0.97085\n",
            "\n",
            "Epoch 12 : Training loss    1.33061\n",
            "           Validation loss  0.95465\n",
            "\n",
            "Epoch 13 : Training loss    1.31472\n",
            "           Validation loss  0.93879\n",
            "\n",
            "Epoch 14 : Training loss    1.29916\n",
            "           Validation loss  0.92325\n",
            "\n",
            "Epoch 15 : Training loss    1.28390\n",
            "           Validation loss  0.90803\n",
            "\n",
            "Epoch 16 : Training loss    1.26894\n",
            "           Validation loss  0.89312\n",
            "\n",
            "Epoch 17 : Training loss    1.25429\n",
            "           Validation loss  0.87852\n",
            "\n",
            "Epoch 18 : Training loss    1.23992\n",
            "           Validation loss  0.86422\n",
            "\n",
            "Epoch 19 : Training loss    1.22584\n",
            "           Validation loss  0.85021\n",
            "\n",
            "Epoch 20 : Training loss    1.21205\n",
            "           Validation loss  0.83650\n",
            "\n",
            "Epoch 21 : Training loss    1.19852\n",
            "           Validation loss  0.82306\n",
            "\n",
            "Epoch 22 : Training loss    1.18527\n",
            "           Validation loss  0.80990\n",
            "\n",
            "Epoch 23 : Training loss    1.17227\n",
            "           Validation loss  0.79702\n",
            "\n",
            "Epoch 24 : Training loss    1.15954\n",
            "           Validation loss  0.78440\n",
            "\n",
            "Epoch 25 : Training loss    1.14706\n",
            "           Validation loss  0.77204\n",
            "\n",
            "Epoch 26 : Training loss    1.13483\n",
            "           Validation loss  0.75993\n",
            "\n",
            "Epoch 27 : Training loss    1.12284\n",
            "           Validation loss  0.74808\n",
            "\n",
            "Epoch 28 : Training loss    1.11109\n",
            "           Validation loss  0.73647\n",
            "\n",
            "Epoch 29 : Training loss    1.09958\n",
            "           Validation loss  0.72510\n",
            "\n",
            "Epoch 30 : Training loss    1.08829\n",
            "           Validation loss  0.71396\n",
            "\n",
            "Epoch 31 : Training loss    1.07723\n",
            "           Validation loss  0.70306\n",
            "\n",
            "Epoch 32 : Training loss    1.06638\n",
            "           Validation loss  0.69238\n",
            "\n",
            "Epoch 33 : Training loss    1.05576\n",
            "           Validation loss  0.68192\n",
            "\n",
            "Epoch 34 : Training loss    1.04534\n",
            "           Validation loss  0.67168\n",
            "\n",
            "Epoch 35 : Training loss    1.03513\n",
            "           Validation loss  0.66165\n",
            "\n",
            "Epoch 36 : Training loss    1.02513\n",
            "           Validation loss  0.65182\n",
            "\n",
            "Epoch 37 : Training loss    1.01532\n",
            "           Validation loss  0.64220\n",
            "\n",
            "Epoch 38 : Training loss    1.00571\n",
            "           Validation loss  0.63279\n",
            "\n",
            "Epoch 39 : Training loss    0.99629\n",
            "           Validation loss  0.62356\n",
            "\n",
            "Epoch 40 : Training loss    0.98706\n",
            "           Validation loss  0.61453\n",
            "\n",
            "Epoch 41 : Training loss    0.97801\n",
            "           Validation loss  0.60569\n",
            "\n",
            "Epoch 42 : Training loss    0.96914\n",
            "           Validation loss  0.59702\n",
            "\n",
            "Epoch 43 : Training loss    0.96045\n",
            "           Validation loss  0.58854\n",
            "\n",
            "Epoch 44 : Training loss    0.95193\n",
            "           Validation loss  0.58024\n",
            "\n",
            "Epoch 45 : Training loss    0.94358\n",
            "           Validation loss  0.57211\n",
            "\n",
            "Epoch 46 : Training loss    0.93540\n",
            "           Validation loss  0.56414\n",
            "\n",
            "Epoch 47 : Training loss    0.92738\n",
            "           Validation loss  0.55635\n",
            "\n",
            "Epoch 48 : Training loss    0.91951\n",
            "           Validation loss  0.54871\n",
            "\n",
            "Epoch 49 : Training loss    0.91181\n",
            "           Validation loss  0.54123\n",
            "\n",
            "Epoch 50 : Training loss    0.90426\n",
            "           Validation loss  0.53391\n",
            "\n",
            "Epoch 51 : Training loss    0.89685\n",
            "           Validation loss  0.52675\n",
            "\n",
            "Epoch 52 : Training loss    0.88960\n",
            "           Validation loss  0.51973\n",
            "\n",
            "Epoch 53 : Training loss    0.88249\n",
            "           Validation loss  0.51286\n",
            "\n",
            "Epoch 54 : Training loss    0.87552\n",
            "           Validation loss  0.50613\n",
            "\n",
            "Epoch 55 : Training loss    0.86869\n",
            "           Validation loss  0.49954\n",
            "\n",
            "Epoch 56 : Training loss    0.86199\n",
            "           Validation loss  0.49309\n",
            "\n",
            "Epoch 57 : Training loss    0.85543\n",
            "           Validation loss  0.48678\n",
            "\n",
            "Epoch 58 : Training loss    0.84900\n",
            "           Validation loss  0.48059\n",
            "\n",
            "Epoch 59 : Training loss    0.84270\n",
            "           Validation loss  0.47454\n",
            "\n",
            "Epoch 60 : Training loss    0.83652\n",
            "           Validation loss  0.46861\n",
            "\n",
            "Epoch 61 : Training loss    0.83047\n",
            "           Validation loss  0.46281\n",
            "\n",
            "Epoch 62 : Training loss    0.82453\n",
            "           Validation loss  0.45713\n",
            "\n",
            "Epoch 63 : Training loss    0.81871\n",
            "           Validation loss  0.45157\n",
            "\n",
            "Epoch 64 : Training loss    0.81301\n",
            "           Validation loss  0.44612\n",
            "\n",
            "Epoch 65 : Training loss    0.80743\n",
            "           Validation loss  0.44079\n",
            "\n",
            "Epoch 66 : Training loss    0.80195\n",
            "           Validation loss  0.43558\n",
            "\n",
            "Epoch 67 : Training loss    0.79658\n",
            "           Validation loss  0.43047\n",
            "\n",
            "Epoch 68 : Training loss    0.79132\n",
            "           Validation loss  0.42547\n",
            "\n",
            "Epoch 69 : Training loss    0.78617\n",
            "           Validation loss  0.42057\n",
            "\n",
            "Epoch 70 : Training loss    0.78111\n",
            "           Validation loss  0.41578\n",
            "\n",
            "Epoch 71 : Training loss    0.77616\n",
            "           Validation loss  0.41108\n",
            "\n",
            "Epoch 72 : Training loss    0.77130\n",
            "           Validation loss  0.40649\n",
            "\n",
            "Epoch 73 : Training loss    0.76654\n",
            "           Validation loss  0.40200\n",
            "\n",
            "Epoch 74 : Training loss    0.76188\n",
            "           Validation loss  0.39759\n",
            "\n",
            "Epoch 75 : Training loss    0.75731\n",
            "           Validation loss  0.39329\n",
            "\n",
            "Epoch 76 : Training loss    0.75283\n",
            "           Validation loss  0.38907\n",
            "\n",
            "Epoch 77 : Training loss    0.74844\n",
            "           Validation loss  0.38494\n",
            "\n",
            "Epoch 78 : Training loss    0.74414\n",
            "           Validation loss  0.38090\n",
            "\n",
            "Epoch 79 : Training loss    0.73992\n",
            "           Validation loss  0.37695\n",
            "\n",
            "Epoch 80 : Training loss    0.73578\n",
            "           Validation loss  0.37308\n",
            "\n",
            "Epoch 81 : Training loss    0.73173\n",
            "           Validation loss  0.36929\n",
            "\n",
            "Epoch 82 : Training loss    0.72776\n",
            "           Validation loss  0.36558\n",
            "\n",
            "Epoch 83 : Training loss    0.72387\n",
            "           Validation loss  0.36195\n",
            "\n",
            "Epoch 84 : Training loss    0.72005\n",
            "           Validation loss  0.35840\n",
            "\n",
            "Epoch 85 : Training loss    0.71631\n",
            "           Validation loss  0.35492\n",
            "\n",
            "Epoch 86 : Training loss    0.71265\n",
            "           Validation loss  0.35151\n",
            "\n",
            "Epoch 87 : Training loss    0.70906\n",
            "           Validation loss  0.34818\n",
            "\n",
            "Epoch 88 : Training loss    0.70553\n",
            "           Validation loss  0.34492\n",
            "\n",
            "Epoch 89 : Training loss    0.70208\n",
            "           Validation loss  0.34173\n",
            "\n",
            "Epoch 90 : Training loss    0.69870\n",
            "           Validation loss  0.33861\n",
            "\n",
            "Epoch 91 : Training loss    0.69539\n",
            "           Validation loss  0.33556\n",
            "\n",
            "Epoch 92 : Training loss    0.69214\n",
            "           Validation loss  0.33257\n",
            "\n",
            "Epoch 93 : Training loss    0.68895\n",
            "           Validation loss  0.32964\n",
            "\n",
            "Epoch 94 : Training loss    0.68583\n",
            "           Validation loss  0.32678\n",
            "\n",
            "Epoch 95 : Training loss    0.68277\n",
            "           Validation loss  0.32398\n",
            "\n",
            "Epoch 96 : Training loss    0.67977\n",
            "           Validation loss  0.32123\n",
            "\n",
            "Epoch 97 : Training loss    0.67684\n",
            "           Validation loss  0.31855\n",
            "\n",
            "Epoch 98 : Training loss    0.67395\n",
            "           Validation loss  0.31593\n",
            "\n",
            "Epoch 99 : Training loss    0.67113\n",
            "           Validation loss  0.31336\n",
            "\n",
            "Epoch 100: Training loss    0.66836\n",
            "           Validation loss  0.31084\n",
            "\n",
            "Epoch 101: Training loss    0.66565\n",
            "           Validation loss  0.30838\n",
            "\n",
            "Epoch 102: Training loss    0.66299\n",
            "           Validation loss  0.30598\n",
            "\n",
            "Epoch 103: Training loss    0.66039\n",
            "           Validation loss  0.30362\n",
            "\n",
            "Epoch 104: Training loss    0.65784\n",
            "           Validation loss  0.30132\n",
            "\n",
            "Epoch 105: Training loss    0.65533\n",
            "           Validation loss  0.29906\n",
            "\n",
            "Epoch 106: Training loss    0.65288\n",
            "           Validation loss  0.29686\n",
            "\n",
            "Epoch 107: Training loss    0.65048\n",
            "           Validation loss  0.29470\n",
            "\n",
            "Epoch 108: Training loss    0.64812\n",
            "           Validation loss  0.29259\n",
            "\n",
            "Epoch 109: Training loss    0.64581\n",
            "           Validation loss  0.29053\n",
            "\n",
            "Epoch 110: Training loss    0.64355\n",
            "           Validation loss  0.28851\n",
            "\n",
            "Epoch 111: Training loss    0.64133\n",
            "           Validation loss  0.28653\n",
            "\n",
            "Epoch 112: Training loss    0.63915\n",
            "           Validation loss  0.28460\n",
            "\n",
            "Epoch 113: Training loss    0.63702\n",
            "           Validation loss  0.28271\n",
            "\n",
            "Epoch 114: Training loss    0.63493\n",
            "           Validation loss  0.28086\n",
            "\n",
            "Epoch 115: Training loss    0.63288\n",
            "           Validation loss  0.27905\n",
            "\n",
            "Epoch 116: Training loss    0.63088\n",
            "           Validation loss  0.27728\n",
            "\n",
            "Epoch 117: Training loss    0.62891\n",
            "           Validation loss  0.27555\n",
            "\n",
            "Epoch 118: Training loss    0.62698\n",
            "           Validation loss  0.27385\n",
            "\n",
            "Epoch 119: Training loss    0.62509\n",
            "           Validation loss  0.27220\n",
            "\n",
            "Epoch 120: Training loss    0.62324\n",
            "           Validation loss  0.27058\n",
            "\n",
            "Epoch 121: Training loss    0.62142\n",
            "           Validation loss  0.26899\n",
            "\n",
            "Epoch 122: Training loss    0.61965\n",
            "           Validation loss  0.26745\n",
            "\n",
            "Epoch 123: Training loss    0.61790\n",
            "           Validation loss  0.26593\n",
            "\n",
            "Epoch 124: Training loss    0.61619\n",
            "           Validation loss  0.26445\n",
            "\n",
            "Epoch 125: Training loss    0.61452\n",
            "           Validation loss  0.26300\n",
            "\n",
            "Epoch 126: Training loss    0.61287\n",
            "           Validation loss  0.26158\n",
            "\n",
            "Epoch 127: Training loss    0.61127\n",
            "           Validation loss  0.26020\n",
            "\n",
            "Epoch 128: Training loss    0.60969\n",
            "           Validation loss  0.25884\n",
            "\n",
            "Epoch 129: Training loss    0.60814\n",
            "           Validation loss  0.25752\n",
            "\n",
            "Epoch 130: Training loss    0.60663\n",
            "           Validation loss  0.25622\n",
            "\n",
            "Epoch 131: Training loss    0.60514\n",
            "           Validation loss  0.25496\n",
            "\n",
            "Epoch 132: Training loss    0.60369\n",
            "           Validation loss  0.25372\n",
            "\n",
            "Epoch 133: Training loss    0.60226\n",
            "           Validation loss  0.25251\n",
            "\n",
            "Epoch 134: Training loss    0.60086\n",
            "           Validation loss  0.25132\n",
            "\n",
            "Epoch 135: Training loss    0.59949\n",
            "           Validation loss  0.25017\n",
            "\n",
            "Epoch 136: Training loss    0.59815\n",
            "           Validation loss  0.24904\n",
            "\n",
            "Epoch 137: Training loss    0.59683\n",
            "           Validation loss  0.24793\n",
            "\n",
            "Epoch 138: Training loss    0.59554\n",
            "           Validation loss  0.24685\n",
            "\n",
            "Epoch 139: Training loss    0.59427\n",
            "           Validation loss  0.24579\n",
            "\n",
            "Epoch 140: Training loss    0.59303\n",
            "           Validation loss  0.24476\n",
            "\n",
            "Epoch 141: Training loss    0.59182\n",
            "           Validation loss  0.24375\n",
            "\n",
            "Epoch 142: Training loss    0.59063\n",
            "           Validation loss  0.24276\n",
            "\n",
            "Epoch 143: Training loss    0.58946\n",
            "           Validation loss  0.24180\n",
            "\n",
            "Epoch 144: Training loss    0.58832\n",
            "           Validation loss  0.24086\n",
            "\n",
            "Epoch 145: Training loss    0.58719\n",
            "           Validation loss  0.23993\n",
            "\n",
            "Epoch 146: Training loss    0.58610\n",
            "           Validation loss  0.23903\n",
            "\n",
            "Epoch 147: Training loss    0.58502\n",
            "           Validation loss  0.23815\n",
            "\n",
            "Epoch 148: Training loss    0.58396\n",
            "           Validation loss  0.23729\n",
            "\n",
            "Epoch 149: Training loss    0.58293\n",
            "           Validation loss  0.23645\n",
            "\n",
            "Epoch 150: Training loss    0.58191\n",
            "           Validation loss  0.23563\n",
            "\n",
            "Epoch 151: Training loss    0.58092\n",
            "           Validation loss  0.23483\n",
            "\n",
            "Epoch 152: Training loss    0.57994\n",
            "           Validation loss  0.23405\n",
            "\n",
            "Epoch 153: Training loss    0.57899\n",
            "           Validation loss  0.23328\n",
            "\n",
            "Epoch 154: Training loss    0.57805\n",
            "           Validation loss  0.23254\n",
            "\n",
            "Epoch 155: Training loss    0.57713\n",
            "           Validation loss  0.23180\n",
            "\n",
            "Epoch 156: Training loss    0.57624\n",
            "           Validation loss  0.23109\n",
            "\n",
            "Epoch 157: Training loss    0.57535\n",
            "           Validation loss  0.23039\n",
            "\n",
            "Epoch 158: Training loss    0.57449\n",
            "           Validation loss  0.22971\n",
            "\n",
            "Epoch 159: Training loss    0.57364\n",
            "           Validation loss  0.22905\n",
            "\n",
            "Epoch 160: Training loss    0.57281\n",
            "           Validation loss  0.22840\n",
            "\n",
            "Epoch 161: Training loss    0.57200\n",
            "           Validation loss  0.22776\n",
            "\n",
            "Epoch 162: Training loss    0.57120\n",
            "           Validation loss  0.22714\n",
            "\n",
            "Epoch 163: Training loss    0.57042\n",
            "           Validation loss  0.22654\n",
            "\n",
            "Epoch 164: Training loss    0.56965\n",
            "           Validation loss  0.22595\n",
            "\n",
            "Epoch 165: Training loss    0.56890\n",
            "           Validation loss  0.22537\n",
            "\n",
            "Epoch 166: Training loss    0.56817\n",
            "           Validation loss  0.22481\n",
            "\n",
            "Epoch 167: Training loss    0.56745\n",
            "           Validation loss  0.22426\n",
            "\n",
            "Epoch 168: Training loss    0.56674\n",
            "           Validation loss  0.22372\n",
            "\n",
            "Epoch 169: Training loss    0.56605\n",
            "           Validation loss  0.22320\n",
            "\n",
            "Epoch 170: Training loss    0.56537\n",
            "           Validation loss  0.22269\n",
            "\n",
            "Epoch 171: Training loss    0.56470\n",
            "           Validation loss  0.22219\n",
            "\n",
            "Epoch 172: Training loss    0.56405\n",
            "           Validation loss  0.22170\n",
            "\n",
            "Epoch 173: Training loss    0.56341\n",
            "           Validation loss  0.22122\n",
            "\n",
            "Epoch 174: Training loss    0.56278\n",
            "           Validation loss  0.22076\n",
            "\n",
            "Epoch 175: Training loss    0.56217\n",
            "           Validation loss  0.22031\n",
            "\n",
            "Epoch 176: Training loss    0.56157\n",
            "           Validation loss  0.21986\n",
            "\n",
            "Epoch 177: Training loss    0.56098\n",
            "           Validation loss  0.21943\n",
            "\n",
            "Epoch 178: Training loss    0.56040\n",
            "           Validation loss  0.21901\n",
            "\n",
            "Epoch 179: Training loss    0.55983\n",
            "           Validation loss  0.21860\n",
            "\n",
            "Epoch 180: Training loss    0.55927\n",
            "           Validation loss  0.21820\n",
            "\n",
            "Epoch 181: Training loss    0.55873\n",
            "           Validation loss  0.21781\n",
            "\n",
            "Epoch 182: Training loss    0.55820\n",
            "           Validation loss  0.21743\n",
            "\n",
            "Epoch 183: Training loss    0.55767\n",
            "           Validation loss  0.21706\n",
            "\n",
            "Epoch 184: Training loss    0.55716\n",
            "           Validation loss  0.21669\n",
            "\n",
            "Epoch 185: Training loss    0.55666\n",
            "           Validation loss  0.21634\n",
            "\n",
            "Epoch 186: Training loss    0.55616\n",
            "           Validation loss  0.21599\n",
            "\n",
            "Epoch 187: Training loss    0.55568\n",
            "           Validation loss  0.21566\n",
            "\n",
            "Epoch 188: Training loss    0.55521\n",
            "           Validation loss  0.21533\n",
            "\n",
            "Epoch 189: Training loss    0.55474\n",
            "           Validation loss  0.21501\n",
            "\n",
            "Epoch 190: Training loss    0.55429\n",
            "           Validation loss  0.21470\n",
            "\n",
            "Epoch 191: Training loss    0.55384\n",
            "           Validation loss  0.21440\n",
            "\n",
            "Epoch 192: Training loss    0.55341\n",
            "           Validation loss  0.21410\n",
            "\n",
            "Epoch 193: Training loss    0.55298\n",
            "           Validation loss  0.21381\n",
            "\n",
            "Epoch 194: Training loss    0.55256\n",
            "           Validation loss  0.21353\n",
            "\n",
            "Epoch 195: Training loss    0.55215\n",
            "           Validation loss  0.21326\n",
            "\n",
            "Epoch 196: Training loss    0.55174\n",
            "           Validation loss  0.21299\n",
            "\n",
            "Epoch 197: Training loss    0.55135\n",
            "           Validation loss  0.21273\n",
            "\n",
            "Epoch 198: Training loss    0.55096\n",
            "           Validation loss  0.21248\n",
            "\n",
            "Epoch 199: Training loss    0.55058\n",
            "           Validation loss  0.21223\n",
            "\n",
            "Epoch 200: Training loss    0.55021\n",
            "           Validation loss  0.21199\n",
            "\n"
          ]
        }
      ],
      "source": [
        "history, val_history, model = train_model(learning_rate=0.01)"
      ]
    },
    {
      "cell_type": "code",
      "execution_count": 19,
      "metadata": {
        "id": "AzPTyI1EG9hY"
      },
      "outputs": [
        {
          "name": "stdout",
          "output_type": "stream",
          "text": [
            "-- Epoch 1\n",
            "Norm: 0.14, NNZs: 3, Bias: 1.171358, T: 191, Avg. loss: 0.840572\n",
            "Total training time: 0.00 seconds.\n",
            "-- Epoch 2\n",
            "Norm: 0.17, NNZs: 3, Bias: 1.302438, T: 382, Avg. loss: 0.567408\n",
            "Total training time: 0.00 seconds.\n",
            "-- Epoch 3\n",
            "Norm: 0.28, NNZs: 3, Bias: 1.435902, T: 573, Avg. loss: 0.557125\n",
            "Total training time: 0.00 seconds.\n",
            "-- Epoch 4\n",
            "Norm: 0.20, NNZs: 3, Bias: 1.337787, T: 764, Avg. loss: 0.551301\n",
            "Total training time: 0.00 seconds.\n",
            "-- Epoch 5\n",
            "Norm: 0.27, NNZs: 3, Bias: 1.408211, T: 955, Avg. loss: 0.561478\n",
            "Total training time: 0.00 seconds.\n",
            "-- Epoch 6\n",
            "Norm: 0.33, NNZs: 3, Bias: 1.455394, T: 1146, Avg. loss: 0.558774\n",
            "Total training time: 0.00 seconds.\n",
            "-- Epoch 7\n",
            "Norm: 0.27, NNZs: 3, Bias: 1.378718, T: 1337, Avg. loss: 0.561374\n",
            "Total training time: 0.00 seconds.\n",
            "-- Epoch 8\n",
            "Norm: 0.21, NNZs: 3, Bias: 1.322262, T: 1528, Avg. loss: 0.560232\n",
            "Total training time: 0.00 seconds.\n",
            "-- Epoch 9\n",
            "Norm: 0.20, NNZs: 3, Bias: 1.391537, T: 1719, Avg. loss: 0.563615\n",
            "Total training time: 0.00 seconds.\n",
            "Convergence after 9 epochs took 0.00 seconds\n",
            "\n",
            "MSE Sklearn: 0.21667639434425232\n",
            "MSE LinearRegression: 0.2119895620884673\n"
          ]
        }
      ],
      "source": [
        "# TODO: Linear Regression. You can use scikit-learn libraries.\n",
        "from sklearn.linear_model import SGDRegressor\n",
        "\n",
        "regressor = SGDRegressor(learning_rate='constant', eta0=0.01, verbose=1)\n",
        "\n",
        "regressor.fit(X_train, y_train)\n",
        "\n",
        "print(f'\\nMSE Sklearn: {MSE(regressor.predict(X_val), y_val)}')\n",
        "\n",
        "X_val_bias = np.hstack([np.ones((X_val.shape[0], 1)), X_val])\n",
        "\n",
        "print(f'MSE LinearRegression: {MSE(model.predict(X_val_bias), y_val)}')"
      ]
    },
    {
      "cell_type": "markdown",
      "metadata": {
        "id": "DXTk6P4MbbnH"
      },
      "source": [
        "> What are the conclusions? (1-2 paragraphs)"
      ]
    },
    {
      "attachments": {},
      "cell_type": "markdown",
      "metadata": {},
      "source": [
        "Ao implementar nosso modelo e comparar o MSE com o do modelo nativo ao Sklearn, podemos observar que o desempenho é bastante próximo. "
      ]
    },
    {
      "cell_type": "markdown",
      "metadata": {
        "id": "Dx-ZsOBzg70n"
      },
      "source": [
        "3. (0.5 points) Plot the cost function vs. number of epochs in the training/validation set and analyze the model. "
      ]
    },
    {
      "cell_type": "code",
      "execution_count": 20,
      "metadata": {},
      "outputs": [
        {
          "data": {
            "text/plain": [
              "[]"
            ]
          },
          "execution_count": 20,
          "metadata": {},
          "output_type": "execute_result"
        },
        {
          "data": {
            "image/png": "[encoded data removed]",
            "text/plain": [
              "<Figure size 960x720 with 1 Axes>"
            ]
          },
          "metadata": {},
          "output_type": "display_data"
        }
      ],
      "source": [
        "fig, ax = plt.subplots(dpi=150)\n",
        "\n",
        "ax.plot(history, label=\"Training loss\")\n",
        "ax.plot(val_history, label=\"Validation loss\")\n",
        "\n",
        "ax.legend()\n",
        "\n",
        "plt.plot()"
      ]
    },
    {
      "cell_type": "markdown",
      "metadata": {
        "id": "Vb1CVeLxhEyF"
      },
      "source": [
        "> What are the conclusions? (1-2 paragraphs)"
      ]
    },
    {
      "attachments": {},
      "cell_type": "markdown",
      "metadata": {},
      "source": [
        "No gráfico fica claro que, após a 600ª época a função de custo tanto no treinamento quanto na validação fica estável. Além disso, nesse caso, a função custo alcançou valores maiores no conjunto de treinamento que na validação, o que não é usual. "
      ]
    },
    {
      "cell_type": "markdown",
      "metadata": {
        "id": "XGvnz52Aa-7B"
      },
      "source": [
        "4. (0.75 points) Use different learning rates when optimizing the model. You can use the model that you implemented or the model from scikit-learn.\n",
        "\n",
        "> If you prefer to use the SGDRegressor from scikit-learn, use the parameter ```learning_rate='constant'``` and change the ```eta0```."
      ]
    },
    {
      "cell_type": "code",
      "execution_count": 21,
      "metadata": {
        "id": "dBaZ-WKPHCp1"
      },
      "outputs": [],
      "source": [
        "rates = [2**i for i in range(-10, 2)]\n",
        "\n",
        "train_error = []\n",
        "val_error = []\n",
        "\n",
        "for rate in rates:\n",
        "    history, val_history, _ = train_model(rate, verbose=False, max_iter=100)\n",
        "\n",
        "    train_error.append(np.min(history))\n",
        "    val_error.append(np.min(val_history))\n",
        "\n",
        "best = rates[np.argmin(val_error)]"
      ]
    },
    {
      "cell_type": "code",
      "execution_count": 22,
      "metadata": {},
      "outputs": [
        {
          "data": {
            "text/plain": [
              "[]"
            ]
          },
          "execution_count": 22,
          "metadata": {},
          "output_type": "execute_result"
        },
        {
          "data": {
            "image/png": "[encoded data removed]",
            "text/plain": [
              "<Figure size 960x720 with 1 Axes>"
            ]
          },
          "metadata": {},
          "output_type": "display_data"
        }
      ],
      "source": [
        "fig, ax = plt.subplots(dpi=150)\n",
        "\n",
        "ax.set_title(\"Minimum loss after 10 training epochs\")\n",
        "ax.plot(rates, train_error, label=\"Validation loss\")\n",
        "ax.plot(rates, val_error, label=\"Validation loss\")\n",
        "ax.set_xlabel('learning rate')\n",
        "ax.set_ylabel('loss')\n",
        "ax.set_xscale('log')\n",
        "ax.axvline(best, linestyle='--', linewidth=1, color='r')\n",
        "ax.legend()\n",
        "plt.plot()"
      ]
    },
    {
      "cell_type": "code",
      "execution_count": 23,
      "metadata": {},
      "outputs": [],
      "source": [
        "rates = np.linspace(best/2, best*2, num=10)\n",
        "\n",
        "train_error = []\n",
        "val_error = []\n",
        "\n",
        "for rate in rates:\n",
        "    history, val_history, _ = train_model(rate, verbose=False)\n",
        "\n",
        "    train_error.append(np.min(history))\n",
        "    val_error.append(np.min(val_history))\n",
        "\n",
        "best = rates[np.argmin(val_error)]"
      ]
    },
    {
      "cell_type": "code",
      "execution_count": 24,
      "metadata": {},
      "outputs": [
        {
          "data": {
            "text/plain": [
              "[]"
            ]
          },
          "execution_count": 24,
          "metadata": {},
          "output_type": "execute_result"
        },
        {
          "data": {
            "image/png": "[encoded data removed]",
            "text/plain": [
              "<Figure size 960x720 with 1 Axes>"
            ]
          },
          "metadata": {},
          "output_type": "display_data"
        }
      ],
      "source": [
        "fig, ax = plt.subplots(dpi=150)\n",
        "\n",
        "ax.set_title(\"Minimum loss after 10 training epochs\")\n",
        "ax.plot(rates, train_error, label=\"Training loss\")\n",
        "ax.plot(rates, val_error, label=\"Validation loss\")\n",
        "ax.set_xlabel('learning rate')\n",
        "ax.set_ylabel('loss')\n",
        "ax.axvline(best, linestyle='--', linewidth=1, color='r')\n",
        "ax.legend()\n",
        "plt.plot()"
      ]
    },
    {
      "cell_type": "code",
      "execution_count": 25,
      "metadata": {},
      "outputs": [
        {
          "name": "stdout",
          "output_type": "stream",
          "text": [
            "Epoch 1  : Training loss    1.52811\n",
            "           Validation loss  0.46194\n",
            "\n",
            "Epoch 2  : Training loss    0.82459\n",
            "           Validation loss  0.26694\n",
            "\n",
            "Epoch 3  : Training loss    0.61801\n",
            "           Validation loss  0.21679\n",
            "\n",
            "Epoch 4  : Training loss    0.55724\n",
            "           Validation loss  0.20589\n",
            "\n",
            "Epoch 5  : Training loss    0.53933\n",
            "           Validation loss  0.20478\n",
            "\n",
            "Epoch 6  : Training loss    0.53404\n",
            "           Validation loss  0.20559\n",
            "\n",
            "Epoch 7  : Training loss    0.53248\n",
            "           Validation loss  0.20646\n",
            "\n",
            "Epoch 8  : Training loss    0.53201\n",
            "           Validation loss  0.20706\n",
            "\n",
            "Epoch 9  : Training loss    0.53188\n",
            "           Validation loss  0.20742\n",
            "\n",
            "Epoch 10 : Training loss    0.53184\n",
            "           Validation loss  0.20763\n",
            "\n",
            "Epoch 11 : Training loss    0.53182\n",
            "           Validation loss  0.20774\n",
            "\n",
            "Epoch 12 : Training loss    0.53182\n",
            "           Validation loss  0.20781\n",
            "\n",
            "Epoch 13 : Training loss    0.53182\n",
            "           Validation loss  0.20784\n",
            "\n",
            "Epoch 14 : Training loss    0.53182\n",
            "           Validation loss  0.20786\n",
            "\n",
            "Epoch 15 : Training loss    0.53182\n",
            "           Validation loss  0.20787\n",
            "\n",
            "Epoch 16 : Training loss    0.53182\n",
            "           Validation loss  0.20788\n",
            "\n",
            "Epoch 17 : Training loss    0.53182\n",
            "           Validation loss  0.20788\n",
            "\n",
            "Epoch 18 : Training loss    0.53182\n",
            "           Validation loss  0.20788\n",
            "\n",
            "Epoch 19 : Training loss    0.53182\n",
            "           Validation loss  0.20788\n",
            "\n",
            "Epoch 20 : Training loss    0.53182\n",
            "           Validation loss  0.20788\n",
            "\n",
            "Epoch 21 : Training loss    0.53182\n",
            "           Validation loss  0.20788\n",
            "\n",
            "Epoch 22 : Training loss    0.53182\n",
            "           Validation loss  0.20788\n",
            "\n",
            "Epoch 23 : Training loss    0.53182\n",
            "           Validation loss  0.20788\n",
            "\n",
            "Epoch 24 : Training loss    0.53182\n",
            "           Validation loss  0.20788\n",
            "\n",
            "Epoch 25 : Training loss    0.53182\n",
            "           Validation loss  0.20788\n",
            "\n",
            "Epoch 26 : Training loss    0.53182\n",
            "           Validation loss  0.20788\n",
            "\n",
            "Epoch 27 : Training loss    0.53182\n",
            "           Validation loss  0.20788\n",
            "\n",
            "Epoch 28 : Training loss    0.53182\n",
            "           Validation loss  0.20788\n",
            "\n",
            "Epoch 29 : Training loss    0.53182\n",
            "           Validation loss  0.20788\n",
            "\n",
            "Epoch 30 : Training loss    0.53182\n",
            "           Validation loss  0.20788\n",
            "\n",
            "Epoch 31 : Training loss    0.53182\n",
            "           Validation loss  0.20788\n",
            "\n",
            "Epoch 32 : Training loss    0.53182\n",
            "           Validation loss  0.20788\n",
            "\n",
            "Epoch 33 : Training loss    0.53182\n",
            "           Validation loss  0.20788\n",
            "\n",
            "Epoch 34 : Training loss    0.53182\n",
            "           Validation loss  0.20788\n",
            "\n",
            "Epoch 35 : Training loss    0.53182\n",
            "           Validation loss  0.20788\n",
            "\n",
            "Epoch 36 : Training loss    0.53182\n",
            "           Validation loss  0.20788\n",
            "\n",
            "Epoch 37 : Training loss    0.53182\n",
            "           Validation loss  0.20788\n",
            "\n",
            "Epoch 38 : Training loss    0.53182\n",
            "           Validation loss  0.20788\n",
            "\n",
            "Epoch 39 : Training loss    0.53182\n",
            "           Validation loss  0.20788\n",
            "\n",
            "Epoch 40 : Training loss    0.53182\n",
            "           Validation loss  0.20788\n",
            "\n",
            "Epoch 41 : Training loss    0.53182\n",
            "           Validation loss  0.20788\n",
            "\n",
            "Epoch 42 : Training loss    0.53182\n",
            "           Validation loss  0.20788\n",
            "\n",
            "Epoch 43 : Training loss    0.53182\n",
            "           Validation loss  0.20788\n",
            "\n",
            "Epoch 44 : Training loss    0.53182\n",
            "           Validation loss  0.20788\n",
            "\n",
            "Epoch 45 : Training loss    0.53182\n",
            "           Validation loss  0.20788\n",
            "\n",
            "Epoch 46 : Training loss    0.53182\n",
            "           Validation loss  0.20788\n",
            "\n",
            "Epoch 47 : Training loss    0.53182\n",
            "           Validation loss  0.20788\n",
            "\n",
            "Epoch 48 : Training loss    0.53182\n",
            "           Validation loss  0.20788\n",
            "\n",
            "Epoch 49 : Training loss    0.53182\n",
            "           Validation loss  0.20788\n",
            "\n",
            "Epoch 50 : Training loss    0.53182\n",
            "           Validation loss  0.20788\n",
            "\n",
            "Epoch 51 : Training loss    0.53182\n",
            "           Validation loss  0.20788\n",
            "\n",
            "Epoch 52 : Training loss    0.53182\n",
            "           Validation loss  0.20788\n",
            "\n",
            "Epoch 53 : Training loss    0.53182\n",
            "           Validation loss  0.20788\n",
            "\n",
            "Epoch 54 : Training loss    0.53182\n",
            "           Validation loss  0.20788\n",
            "\n",
            "Epoch 55 : Training loss    0.53182\n",
            "           Validation loss  0.20788\n",
            "\n",
            "Epoch 56 : Training loss    0.53182\n",
            "           Validation loss  0.20788\n",
            "\n",
            "Epoch 57 : Training loss    0.53182\n",
            "           Validation loss  0.20788\n",
            "\n",
            "Epoch 58 : Training loss    0.53182\n",
            "           Validation loss  0.20788\n",
            "\n",
            "Epoch 59 : Training loss    0.53182\n",
            "           Validation loss  0.20788\n",
            "\n",
            "Epoch 60 : Training loss    0.53182\n",
            "           Validation loss  0.20788\n",
            "\n",
            "Epoch 61 : Training loss    0.53182\n",
            "           Validation loss  0.20788\n",
            "\n",
            "Epoch 62 : Training loss    0.53182\n",
            "           Validation loss  0.20788\n",
            "\n",
            "Epoch 63 : Training loss    0.53182\n",
            "           Validation loss  0.20788\n",
            "\n",
            "Epoch 64 : Training loss    0.53182\n",
            "           Validation loss  0.20788\n",
            "\n",
            "Epoch 65 : Training loss    0.53182\n",
            "           Validation loss  0.20788\n",
            "\n",
            "Epoch 66 : Training loss    0.53182\n",
            "           Validation loss  0.20788\n",
            "\n",
            "Epoch 67 : Training loss    0.53182\n",
            "           Validation loss  0.20788\n",
            "\n",
            "Epoch 68 : Training loss    0.53182\n",
            "           Validation loss  0.20788\n",
            "\n",
            "Epoch 69 : Training loss    0.53182\n",
            "           Validation loss  0.20788\n",
            "\n",
            "Epoch 70 : Training loss    0.53182\n",
            "           Validation loss  0.20788\n",
            "\n",
            "Epoch 71 : Training loss    0.53182\n",
            "           Validation loss  0.20788\n",
            "\n",
            "Epoch 72 : Training loss    0.53182\n",
            "           Validation loss  0.20788\n",
            "\n",
            "Epoch 73 : Training loss    0.53182\n",
            "           Validation loss  0.20788\n",
            "\n",
            "Epoch 74 : Training loss    0.53182\n",
            "           Validation loss  0.20788\n",
            "\n",
            "Epoch 75 : Training loss    0.53182\n",
            "           Validation loss  0.20788\n",
            "\n",
            "Epoch 76 : Training loss    0.53182\n",
            "           Validation loss  0.20788\n",
            "\n",
            "Epoch 77 : Training loss    0.53182\n",
            "           Validation loss  0.20788\n",
            "\n",
            "Epoch 78 : Training loss    0.53182\n",
            "           Validation loss  0.20788\n",
            "\n",
            "Epoch 79 : Training loss    0.53182\n",
            "           Validation loss  0.20788\n",
            "\n",
            "Epoch 80 : Training loss    0.53182\n",
            "           Validation loss  0.20788\n",
            "\n",
            "Epoch 81 : Training loss    0.53182\n",
            "           Validation loss  0.20788\n",
            "\n",
            "Epoch 82 : Training loss    0.53182\n",
            "           Validation loss  0.20788\n",
            "\n",
            "Epoch 83 : Training loss    0.53182\n",
            "           Validation loss  0.20788\n",
            "\n",
            "Epoch 84 : Training loss    0.53182\n",
            "           Validation loss  0.20788\n",
            "\n",
            "Epoch 85 : Training loss    0.53182\n",
            "           Validation loss  0.20788\n",
            "\n",
            "Epoch 86 : Training loss    0.53182\n",
            "           Validation loss  0.20788\n",
            "\n",
            "Epoch 87 : Training loss    0.53182\n",
            "           Validation loss  0.20788\n",
            "\n",
            "Epoch 88 : Training loss    0.53182\n",
            "           Validation loss  0.20788\n",
            "\n",
            "Epoch 89 : Training loss    0.53182\n",
            "           Validation loss  0.20788\n",
            "\n",
            "Epoch 90 : Training loss    0.53182\n",
            "           Validation loss  0.20788\n",
            "\n",
            "Epoch 91 : Training loss    0.53182\n",
            "           Validation loss  0.20788\n",
            "\n",
            "Epoch 92 : Training loss    0.53182\n",
            "           Validation loss  0.20788\n",
            "\n",
            "Epoch 93 : Training loss    0.53182\n",
            "           Validation loss  0.20788\n",
            "\n",
            "Epoch 94 : Training loss    0.53182\n",
            "           Validation loss  0.20788\n",
            "\n",
            "Epoch 95 : Training loss    0.53182\n",
            "           Validation loss  0.20788\n",
            "\n",
            "Epoch 96 : Training loss    0.53182\n",
            "           Validation loss  0.20788\n",
            "\n",
            "Epoch 97 : Training loss    0.53182\n",
            "           Validation loss  0.20788\n",
            "\n",
            "Epoch 98 : Training loss    0.53182\n",
            "           Validation loss  0.20788\n",
            "\n",
            "Epoch 99 : Training loss    0.53182\n",
            "           Validation loss  0.20788\n",
            "\n",
            "Epoch 100: Training loss    0.53182\n",
            "           Validation loss  0.20788\n",
            "\n",
            "Epoch 101: Training loss    0.53182\n",
            "           Validation loss  0.20788\n",
            "\n",
            "Epoch 102: Training loss    0.53182\n",
            "           Validation loss  0.20788\n",
            "\n",
            "Epoch 103: Training loss    0.53182\n",
            "           Validation loss  0.20788\n",
            "\n",
            "Epoch 104: Training loss    0.53182\n",
            "           Validation loss  0.20788\n",
            "\n",
            "Epoch 105: Training loss    0.53182\n",
            "           Validation loss  0.20788\n",
            "\n",
            "Epoch 106: Training loss    0.53182\n",
            "           Validation loss  0.20788\n",
            "\n",
            "Epoch 107: Training loss    0.53182\n",
            "           Validation loss  0.20788\n",
            "\n",
            "Epoch 108: Training loss    0.53182\n",
            "           Validation loss  0.20788\n",
            "\n",
            "Epoch 109: Training loss    0.53182\n",
            "           Validation loss  0.20788\n",
            "\n",
            "Epoch 110: Training loss    0.53182\n",
            "           Validation loss  0.20788\n",
            "\n",
            "Epoch 111: Training loss    0.53182\n",
            "           Validation loss  0.20788\n",
            "\n",
            "Epoch 112: Training loss    0.53182\n",
            "           Validation loss  0.20788\n",
            "\n",
            "Epoch 113: Training loss    0.53182\n",
            "           Validation loss  0.20788\n",
            "\n",
            "Epoch 114: Training loss    0.53182\n",
            "           Validation loss  0.20788\n",
            "\n",
            "Epoch 115: Training loss    0.53182\n",
            "           Validation loss  0.20788\n",
            "\n",
            "Epoch 116: Training loss    0.53182\n",
            "           Validation loss  0.20788\n",
            "\n",
            "Epoch 117: Training loss    0.53182\n",
            "           Validation loss  0.20788\n",
            "\n",
            "Epoch 118: Training loss    0.53182\n",
            "           Validation loss  0.20788\n",
            "\n",
            "Epoch 119: Training loss    0.53182\n",
            "           Validation loss  0.20788\n",
            "\n",
            "Epoch 120: Training loss    0.53182\n",
            "           Validation loss  0.20788\n",
            "\n",
            "Epoch 121: Training loss    0.53182\n",
            "           Validation loss  0.20788\n",
            "\n",
            "Epoch 122: Training loss    0.53182\n",
            "           Validation loss  0.20788\n",
            "\n",
            "Epoch 123: Training loss    0.53182\n",
            "           Validation loss  0.20788\n",
            "\n",
            "Epoch 124: Training loss    0.53182\n",
            "           Validation loss  0.20788\n",
            "\n",
            "Epoch 125: Training loss    0.53182\n",
            "           Validation loss  0.20788\n",
            "\n",
            "Epoch 126: Training loss    0.53182\n",
            "           Validation loss  0.20788\n",
            "\n",
            "Epoch 127: Training loss    0.53182\n",
            "           Validation loss  0.20788\n",
            "\n",
            "Epoch 128: Training loss    0.53182\n",
            "           Validation loss  0.20788\n",
            "\n",
            "Epoch 129: Training loss    0.53182\n",
            "           Validation loss  0.20788\n",
            "\n",
            "Epoch 130: Training loss    0.53182\n",
            "           Validation loss  0.20788\n",
            "\n",
            "Epoch 131: Training loss    0.53182\n",
            "           Validation loss  0.20788\n",
            "\n",
            "Epoch 132: Training loss    0.53182\n",
            "           Validation loss  0.20788\n",
            "\n",
            "Epoch 133: Training loss    0.53182\n",
            "           Validation loss  0.20788\n",
            "\n",
            "Epoch 134: Training loss    0.53182\n",
            "           Validation loss  0.20788\n",
            "\n",
            "Epoch 135: Training loss    0.53182\n",
            "           Validation loss  0.20788\n",
            "\n",
            "Epoch 136: Training loss    0.53182\n",
            "           Validation loss  0.20788\n",
            "\n",
            "Epoch 137: Training loss    0.53182\n",
            "           Validation loss  0.20788\n",
            "\n",
            "Epoch 138: Training loss    0.53182\n",
            "           Validation loss  0.20788\n",
            "\n",
            "Epoch 139: Training loss    0.53182\n",
            "           Validation loss  0.20788\n",
            "\n",
            "Epoch 140: Training loss    0.53182\n",
            "           Validation loss  0.20788\n",
            "\n",
            "Epoch 141: Training loss    0.53182\n",
            "           Validation loss  0.20788\n",
            "\n",
            "Epoch 142: Training loss    0.53182\n",
            "           Validation loss  0.20788\n",
            "\n",
            "Epoch 143: Training loss    0.53182\n",
            "           Validation loss  0.20788\n",
            "\n",
            "Epoch 144: Training loss    0.53182\n",
            "           Validation loss  0.20788\n",
            "\n",
            "Epoch 145: Training loss    0.53182\n",
            "           Validation loss  0.20788\n",
            "\n",
            "Epoch 146: Training loss    0.53182\n",
            "           Validation loss  0.20788\n",
            "\n",
            "Epoch 147: Training loss    0.53182\n",
            "           Validation loss  0.20788\n",
            "\n",
            "Epoch 148: Training loss    0.53182\n",
            "           Validation loss  0.20788\n",
            "\n",
            "Epoch 149: Training loss    0.53182\n",
            "           Validation loss  0.20788\n",
            "\n",
            "Epoch 150: Training loss    0.53182\n",
            "           Validation loss  0.20788\n",
            "\n",
            "Epoch 151: Training loss    0.53182\n",
            "           Validation loss  0.20788\n",
            "\n",
            "Epoch 152: Training loss    0.53182\n",
            "           Validation loss  0.20788\n",
            "\n",
            "Epoch 153: Training loss    0.53182\n",
            "           Validation loss  0.20788\n",
            "\n",
            "Epoch 154: Training loss    0.53182\n",
            "           Validation loss  0.20788\n",
            "\n",
            "Epoch 155: Training loss    0.53182\n",
            "           Validation loss  0.20788\n",
            "\n",
            "Epoch 156: Training loss    0.53182\n",
            "           Validation loss  0.20788\n",
            "\n",
            "Epoch 157: Training loss    0.53182\n",
            "           Validation loss  0.20788\n",
            "\n",
            "Epoch 158: Training loss    0.53182\n",
            "           Validation loss  0.20788\n",
            "\n",
            "Epoch 159: Training loss    0.53182\n",
            "           Validation loss  0.20788\n",
            "\n",
            "Epoch 160: Training loss    0.53182\n",
            "           Validation loss  0.20788\n",
            "\n",
            "Epoch 161: Training loss    0.53182\n",
            "           Validation loss  0.20788\n",
            "\n",
            "Epoch 162: Training loss    0.53182\n",
            "           Validation loss  0.20788\n",
            "\n",
            "Epoch 163: Training loss    0.53182\n",
            "           Validation loss  0.20788\n",
            "\n",
            "Epoch 164: Training loss    0.53182\n",
            "           Validation loss  0.20788\n",
            "\n",
            "Epoch 165: Training loss    0.53182\n",
            "           Validation loss  0.20788\n",
            "\n",
            "Epoch 166: Training loss    0.53182\n",
            "           Validation loss  0.20788\n",
            "\n",
            "Epoch 167: Training loss    0.53182\n",
            "           Validation loss  0.20788\n",
            "\n",
            "Epoch 168: Training loss    0.53182\n",
            "           Validation loss  0.20788\n",
            "\n",
            "Epoch 169: Training loss    0.53182\n",
            "           Validation loss  0.20788\n",
            "\n",
            "Epoch 170: Training loss    0.53182\n",
            "           Validation loss  0.20788\n",
            "\n",
            "Epoch 171: Training loss    0.53182\n",
            "           Validation loss  0.20788\n",
            "\n",
            "Epoch 172: Training loss    0.53182\n",
            "           Validation loss  0.20788\n",
            "\n",
            "Epoch 173: Training loss    0.53182\n",
            "           Validation loss  0.20788\n",
            "\n",
            "Epoch 174: Training loss    0.53182\n",
            "           Validation loss  0.20788\n",
            "\n",
            "Epoch 175: Training loss    0.53182\n",
            "           Validation loss  0.20788\n",
            "\n",
            "Epoch 176: Training loss    0.53182\n",
            "           Validation loss  0.20788\n",
            "\n",
            "Epoch 177: Training loss    0.53182\n",
            "           Validation loss  0.20788\n",
            "\n",
            "Epoch 178: Training loss    0.53182\n",
            "           Validation loss  0.20788\n",
            "\n",
            "Epoch 179: Training loss    0.53182\n",
            "           Validation loss  0.20788\n",
            "\n",
            "Epoch 180: Training loss    0.53182\n",
            "           Validation loss  0.20788\n",
            "\n",
            "Epoch 181: Training loss    0.53182\n",
            "           Validation loss  0.20788\n",
            "\n",
            "Epoch 182: Training loss    0.53182\n",
            "           Validation loss  0.20788\n",
            "\n",
            "Epoch 183: Training loss    0.53182\n",
            "           Validation loss  0.20788\n",
            "\n",
            "Epoch 184: Training loss    0.53182\n",
            "           Validation loss  0.20788\n",
            "\n",
            "Epoch 185: Training loss    0.53182\n",
            "           Validation loss  0.20788\n",
            "\n",
            "Epoch 186: Training loss    0.53182\n",
            "           Validation loss  0.20788\n",
            "\n",
            "Epoch 187: Training loss    0.53182\n",
            "           Validation loss  0.20788\n",
            "\n",
            "Epoch 188: Training loss    0.53182\n",
            "           Validation loss  0.20788\n",
            "\n",
            "Epoch 189: Training loss    0.53182\n",
            "           Validation loss  0.20788\n",
            "\n",
            "Epoch 190: Training loss    0.53182\n",
            "           Validation loss  0.20788\n",
            "\n",
            "Epoch 191: Training loss    0.53182\n",
            "           Validation loss  0.20788\n",
            "\n",
            "Epoch 192: Training loss    0.53182\n",
            "           Validation loss  0.20788\n",
            "\n",
            "Epoch 193: Training loss    0.53182\n",
            "           Validation loss  0.20788\n",
            "\n",
            "Epoch 194: Training loss    0.53182\n",
            "           Validation loss  0.20788\n",
            "\n",
            "Epoch 195: Training loss    0.53182\n",
            "           Validation loss  0.20788\n",
            "\n",
            "Epoch 196: Training loss    0.53182\n",
            "           Validation loss  0.20788\n",
            "\n",
            "Epoch 197: Training loss    0.53182\n",
            "           Validation loss  0.20788\n",
            "\n",
            "Epoch 198: Training loss    0.53182\n",
            "           Validation loss  0.20788\n",
            "\n",
            "Epoch 199: Training loss    0.53182\n",
            "           Validation loss  0.20788\n",
            "\n",
            "Epoch 200: Training loss    0.53182\n",
            "           Validation loss  0.20788\n",
            "\n"
          ]
        }
      ],
      "source": [
        "history, val_history, _ = train_model(learning_rate=best)"
      ]
    },
    {
      "cell_type": "code",
      "execution_count": 26,
      "metadata": {},
      "outputs": [
        {
          "data": {
            "text/plain": [
              "[]"
            ]
          },
          "execution_count": 26,
          "metadata": {},
          "output_type": "execute_result"
        },
        {
          "data": {
            "image/png": "[encoded data removed]",
            "text/plain": [
              "<Figure size 960x720 with 1 Axes>"
            ]
          },
          "metadata": {},
          "output_type": "display_data"
        }
      ],
      "source": [
        "fig, ax = plt.subplots(dpi=150)\n",
        "\n",
        "ax.plot(history, label=\"Training loss\")\n",
        "ax.plot(val_history, label=\"Validation loss\")\n",
        "\n",
        "ax.set_xlabel('epochs')\n",
        "ax.set_ylabel('loss')\n",
        "\n",
        "ax.legend()\n",
        "plt.plot()"
      ]
    },
    {
      "cell_type": "markdown",
      "metadata": {
        "id": "mwZIA0Tucpe0"
      },
      "source": [
        "> What are the conclusions? (1-2 paragraphs)"
      ]
    },
    {
      "cell_type": "markdown",
      "metadata": {
        "id": "QSeBs0gycPpW"
      },
      "source": [
        "5. (0.5 points) Sometimes, we need some more complex function to make good prediction. Evaluate a [Polynomial Linear Regression](https://scikit-learn.org/stable/modules/generated/sklearn.preprocessing.PolynomialFeatures.html) model. "
      ]
    },
    {
      "cell_type": "code",
      "execution_count": 27,
      "metadata": {},
      "outputs": [
        {
          "name": "stdout",
          "output_type": "stream",
          "text": [
            "Epoch 1  : Training loss    1.52811\n",
            "           Validation loss  0.68996\n",
            "\n",
            "Epoch 2  : Training loss    1.09781\n",
            "           Validation loss  0.62396\n",
            "\n",
            "Epoch 3  : Training loss    0.96112\n",
            "           Validation loss  0.61006\n",
            "\n",
            "Epoch 4  : Training loss    0.87997\n",
            "           Validation loss  0.60513\n",
            "\n",
            "Epoch 5  : Training loss    0.82348\n",
            "           Validation loss  0.59703\n",
            "\n",
            "Epoch 6  : Training loss    0.78084\n",
            "           Validation loss  0.58306\n",
            "\n",
            "Epoch 7  : Training loss    0.74684\n",
            "           Validation loss  0.56405\n",
            "\n",
            "Epoch 8  : Training loss    0.71876\n",
            "           Validation loss  0.54177\n",
            "\n",
            "Epoch 9  : Training loss    0.69504\n",
            "           Validation loss  0.51788\n",
            "\n",
            "Epoch 10 : Training loss    0.67473\n",
            "           Validation loss  0.49365\n",
            "\n",
            "Epoch 11 : Training loss    0.65720\n",
            "           Validation loss  0.46996\n",
            "\n",
            "Epoch 12 : Training loss    0.64196\n",
            "           Validation loss  0.44734\n",
            "\n",
            "Epoch 13 : Training loss    0.62868\n",
            "           Validation loss  0.42611\n",
            "\n",
            "Epoch 14 : Training loss    0.61706\n",
            "           Validation loss  0.40639\n",
            "\n",
            "Epoch 15 : Training loss    0.60688\n",
            "           Validation loss  0.38823\n",
            "\n",
            "Epoch 16 : Training loss    0.59793\n",
            "           Validation loss  0.37158\n",
            "\n",
            "Epoch 17 : Training loss    0.59005\n",
            "           Validation loss  0.35638\n",
            "\n",
            "Epoch 18 : Training loss    0.58311\n",
            "           Validation loss  0.34253\n",
            "\n",
            "Epoch 19 : Training loss    0.57698\n",
            "           Validation loss  0.32993\n",
            "\n",
            "Epoch 20 : Training loss    0.57156\n",
            "           Validation loss  0.31848\n",
            "\n",
            "Epoch 21 : Training loss    0.56676\n",
            "           Validation loss  0.30809\n",
            "\n",
            "Epoch 22 : Training loss    0.56251\n",
            "           Validation loss  0.29865\n",
            "\n",
            "Epoch 23 : Training loss    0.55874\n",
            "           Validation loss  0.29008\n",
            "\n",
            "Epoch 24 : Training loss    0.55540\n",
            "           Validation loss  0.28229\n",
            "\n",
            "Epoch 25 : Training loss    0.55242\n",
            "           Validation loss  0.27523\n",
            "\n",
            "Epoch 26 : Training loss    0.54978\n",
            "           Validation loss  0.26880\n",
            "\n",
            "Epoch 27 : Training loss    0.54742\n",
            "           Validation loss  0.26297\n",
            "\n",
            "Epoch 28 : Training loss    0.54533\n",
            "           Validation loss  0.25766\n",
            "\n",
            "Epoch 29 : Training loss    0.54346\n",
            "           Validation loss  0.25283\n",
            "\n",
            "Epoch 30 : Training loss    0.54179\n",
            "           Validation loss  0.24844\n",
            "\n",
            "Epoch 31 : Training loss    0.54031\n",
            "           Validation loss  0.24444\n",
            "\n",
            "Epoch 32 : Training loss    0.53898\n",
            "           Validation loss  0.24079\n",
            "\n",
            "Epoch 33 : Training loss    0.53780\n",
            "           Validation loss  0.23747\n",
            "\n",
            "Epoch 34 : Training loss    0.53674\n",
            "           Validation loss  0.23444\n",
            "\n",
            "Epoch 35 : Training loss    0.53580\n",
            "           Validation loss  0.23167\n",
            "\n",
            "Epoch 36 : Training loss    0.53496\n",
            "           Validation loss  0.22915\n",
            "\n",
            "Epoch 37 : Training loss    0.53421\n",
            "           Validation loss  0.22684\n",
            "\n",
            "Epoch 38 : Training loss    0.53353\n",
            "           Validation loss  0.22473\n",
            "\n",
            "Epoch 39 : Training loss    0.53293\n",
            "           Validation loss  0.22279\n",
            "\n",
            "Epoch 40 : Training loss    0.53239\n",
            "           Validation loss  0.22103\n",
            "\n",
            "Epoch 41 : Training loss    0.53191\n",
            "           Validation loss  0.21941\n",
            "\n",
            "Epoch 42 : Training loss    0.53148\n",
            "           Validation loss  0.21792\n",
            "\n",
            "Epoch 43 : Training loss    0.53109\n",
            "           Validation loss  0.21656\n",
            "\n",
            "Epoch 44 : Training loss    0.53075\n",
            "           Validation loss  0.21530\n",
            "\n",
            "Epoch 45 : Training loss    0.53044\n",
            "           Validation loss  0.21415\n",
            "\n",
            "Epoch 46 : Training loss    0.53016\n",
            "           Validation loss  0.21310\n",
            "\n",
            "Epoch 47 : Training loss    0.52991\n",
            "           Validation loss  0.21212\n",
            "\n",
            "Epoch 48 : Training loss    0.52969\n",
            "           Validation loss  0.21123\n",
            "\n",
            "Epoch 49 : Training loss    0.52949\n",
            "           Validation loss  0.21040\n",
            "\n",
            "Epoch 50 : Training loss    0.52932\n",
            "           Validation loss  0.20964\n",
            "\n",
            "Epoch 51 : Training loss    0.52916\n",
            "           Validation loss  0.20894\n",
            "\n",
            "Epoch 52 : Training loss    0.52902\n",
            "           Validation loss  0.20829\n",
            "\n",
            "Epoch 53 : Training loss    0.52889\n",
            "           Validation loss  0.20769\n",
            "\n",
            "Epoch 54 : Training loss    0.52877\n",
            "           Validation loss  0.20713\n",
            "\n",
            "Epoch 55 : Training loss    0.52867\n",
            "           Validation loss  0.20662\n",
            "\n",
            "Epoch 56 : Training loss    0.52858\n",
            "           Validation loss  0.20614\n",
            "\n",
            "Epoch 57 : Training loss    0.52850\n",
            "           Validation loss  0.20570\n",
            "\n",
            "Epoch 58 : Training loss    0.52842\n",
            "           Validation loss  0.20529\n",
            "\n",
            "Epoch 59 : Training loss    0.52836\n",
            "           Validation loss  0.20491\n",
            "\n",
            "Epoch 60 : Training loss    0.52830\n",
            "           Validation loss  0.20456\n",
            "\n",
            "Epoch 61 : Training loss    0.52825\n",
            "           Validation loss  0.20423\n",
            "\n",
            "Epoch 62 : Training loss    0.52820\n",
            "           Validation loss  0.20392\n",
            "\n",
            "Epoch 63 : Training loss    0.52816\n",
            "           Validation loss  0.20364\n",
            "\n",
            "Epoch 64 : Training loss    0.52812\n",
            "           Validation loss  0.20337\n",
            "\n",
            "Epoch 65 : Training loss    0.52809\n",
            "           Validation loss  0.20313\n",
            "\n",
            "Epoch 66 : Training loss    0.52805\n",
            "           Validation loss  0.20290\n",
            "\n",
            "Epoch 67 : Training loss    0.52803\n",
            "           Validation loss  0.20268\n",
            "\n",
            "Epoch 68 : Training loss    0.52800\n",
            "           Validation loss  0.20248\n",
            "\n",
            "Epoch 69 : Training loss    0.52798\n",
            "           Validation loss  0.20229\n",
            "\n",
            "Epoch 70 : Training loss    0.52796\n",
            "           Validation loss  0.20212\n",
            "\n",
            "Epoch 71 : Training loss    0.52794\n",
            "           Validation loss  0.20195\n",
            "\n",
            "Epoch 72 : Training loss    0.52793\n",
            "           Validation loss  0.20180\n",
            "\n",
            "Epoch 73 : Training loss    0.52791\n",
            "           Validation loss  0.20166\n",
            "\n",
            "Epoch 74 : Training loss    0.52790\n",
            "           Validation loss  0.20152\n",
            "\n",
            "Epoch 75 : Training loss    0.52789\n",
            "           Validation loss  0.20139\n",
            "\n",
            "Epoch 76 : Training loss    0.52788\n",
            "           Validation loss  0.20128\n",
            "\n",
            "Epoch 77 : Training loss    0.52787\n",
            "           Validation loss  0.20116\n",
            "\n",
            "Epoch 78 : Training loss    0.52786\n",
            "           Validation loss  0.20106\n",
            "\n",
            "Epoch 79 : Training loss    0.52785\n",
            "           Validation loss  0.20096\n",
            "\n",
            "Epoch 80 : Training loss    0.52785\n",
            "           Validation loss  0.20087\n",
            "\n",
            "Epoch 81 : Training loss    0.52784\n",
            "           Validation loss  0.20078\n",
            "\n",
            "Epoch 82 : Training loss    0.52784\n",
            "           Validation loss  0.20070\n",
            "\n",
            "Epoch 83 : Training loss    0.52783\n",
            "           Validation loss  0.20063\n",
            "\n",
            "Epoch 84 : Training loss    0.52783\n",
            "           Validation loss  0.20055\n",
            "\n",
            "Epoch 85 : Training loss    0.52782\n",
            "           Validation loss  0.20049\n",
            "\n",
            "Epoch 86 : Training loss    0.52782\n",
            "           Validation loss  0.20042\n",
            "\n",
            "Epoch 87 : Training loss    0.52782\n",
            "           Validation loss  0.20036\n",
            "\n",
            "Epoch 88 : Training loss    0.52782\n",
            "           Validation loss  0.20031\n",
            "\n",
            "Epoch 89 : Training loss    0.52781\n",
            "           Validation loss  0.20025\n",
            "\n",
            "Epoch 90 : Training loss    0.52781\n",
            "           Validation loss  0.20020\n",
            "\n",
            "Epoch 91 : Training loss    0.52781\n",
            "           Validation loss  0.20015\n",
            "\n",
            "Epoch 92 : Training loss    0.52781\n",
            "           Validation loss  0.20011\n",
            "\n",
            "Epoch 93 : Training loss    0.52781\n",
            "           Validation loss  0.20007\n",
            "\n",
            "Epoch 94 : Training loss    0.52780\n",
            "           Validation loss  0.20003\n",
            "\n",
            "Epoch 95 : Training loss    0.52780\n",
            "           Validation loss  0.19999\n",
            "\n",
            "Epoch 96 : Training loss    0.52780\n",
            "           Validation loss  0.19995\n",
            "\n",
            "Epoch 97 : Training loss    0.52780\n",
            "           Validation loss  0.19992\n",
            "\n",
            "Epoch 98 : Training loss    0.52780\n",
            "           Validation loss  0.19989\n",
            "\n",
            "Epoch 99 : Training loss    0.52780\n",
            "           Validation loss  0.19986\n",
            "\n",
            "Epoch 100: Training loss    0.52780\n",
            "           Validation loss  0.19983\n",
            "\n",
            "Epoch 101: Training loss    0.52780\n",
            "           Validation loss  0.19981\n",
            "\n",
            "Epoch 102: Training loss    0.52780\n",
            "           Validation loss  0.19978\n",
            "\n",
            "Epoch 103: Training loss    0.52780\n",
            "           Validation loss  0.19976\n",
            "\n",
            "Epoch 104: Training loss    0.52780\n",
            "           Validation loss  0.19973\n",
            "\n",
            "Epoch 105: Training loss    0.52780\n",
            "           Validation loss  0.19971\n",
            "\n",
            "Epoch 106: Training loss    0.52779\n",
            "           Validation loss  0.19969\n",
            "\n",
            "Epoch 107: Training loss    0.52779\n",
            "           Validation loss  0.19967\n",
            "\n",
            "Epoch 108: Training loss    0.52779\n",
            "           Validation loss  0.19966\n",
            "\n",
            "Epoch 109: Training loss    0.52779\n",
            "           Validation loss  0.19964\n",
            "\n",
            "Epoch 110: Training loss    0.52779\n",
            "           Validation loss  0.19962\n",
            "\n",
            "Epoch 111: Training loss    0.52779\n",
            "           Validation loss  0.19961\n",
            "\n",
            "Epoch 112: Training loss    0.52779\n",
            "           Validation loss  0.19959\n",
            "\n",
            "Epoch 113: Training loss    0.52779\n",
            "           Validation loss  0.19958\n",
            "\n",
            "Epoch 114: Training loss    0.52779\n",
            "           Validation loss  0.19957\n",
            "\n",
            "Epoch 115: Training loss    0.52779\n",
            "           Validation loss  0.19956\n",
            "\n",
            "Epoch 116: Training loss    0.52779\n",
            "           Validation loss  0.19954\n",
            "\n",
            "Epoch 117: Training loss    0.52779\n",
            "           Validation loss  0.19953\n",
            "\n",
            "Epoch 118: Training loss    0.52779\n",
            "           Validation loss  0.19952\n",
            "\n",
            "Epoch 119: Training loss    0.52779\n",
            "           Validation loss  0.19951\n",
            "\n",
            "Epoch 120: Training loss    0.52779\n",
            "           Validation loss  0.19950\n",
            "\n",
            "Epoch 121: Training loss    0.52779\n",
            "           Validation loss  0.19950\n",
            "\n",
            "Epoch 122: Training loss    0.52779\n",
            "           Validation loss  0.19949\n",
            "\n",
            "Epoch 123: Training loss    0.52779\n",
            "           Validation loss  0.19948\n",
            "\n",
            "Epoch 124: Training loss    0.52779\n",
            "           Validation loss  0.19947\n",
            "\n",
            "Epoch 125: Training loss    0.52779\n",
            "           Validation loss  0.19947\n",
            "\n",
            "Epoch 126: Training loss    0.52779\n",
            "           Validation loss  0.19946\n",
            "\n",
            "Epoch 127: Training loss    0.52779\n",
            "           Validation loss  0.19945\n",
            "\n",
            "Epoch 128: Training loss    0.52779\n",
            "           Validation loss  0.19945\n",
            "\n",
            "Epoch 129: Training loss    0.52779\n",
            "           Validation loss  0.19944\n",
            "\n",
            "Epoch 130: Training loss    0.52779\n",
            "           Validation loss  0.19944\n",
            "\n",
            "Epoch 131: Training loss    0.52779\n",
            "           Validation loss  0.19943\n",
            "\n",
            "Epoch 132: Training loss    0.52779\n",
            "           Validation loss  0.19943\n",
            "\n",
            "Epoch 133: Training loss    0.52779\n",
            "           Validation loss  0.19942\n",
            "\n",
            "Epoch 134: Training loss    0.52779\n",
            "           Validation loss  0.19942\n",
            "\n",
            "Epoch 135: Training loss    0.52779\n",
            "           Validation loss  0.19941\n",
            "\n",
            "Epoch 136: Training loss    0.52779\n",
            "           Validation loss  0.19941\n",
            "\n",
            "Epoch 137: Training loss    0.52779\n",
            "           Validation loss  0.19941\n",
            "\n",
            "Epoch 138: Training loss    0.52779\n",
            "           Validation loss  0.19940\n",
            "\n",
            "Epoch 139: Training loss    0.52779\n",
            "           Validation loss  0.19940\n",
            "\n",
            "Epoch 140: Training loss    0.52779\n",
            "           Validation loss  0.19940\n",
            "\n",
            "Epoch 141: Training loss    0.52779\n",
            "           Validation loss  0.19939\n",
            "\n",
            "Epoch 142: Training loss    0.52779\n",
            "           Validation loss  0.19939\n",
            "\n",
            "Epoch 143: Training loss    0.52779\n",
            "           Validation loss  0.19939\n",
            "\n",
            "Epoch 144: Training loss    0.52779\n",
            "           Validation loss  0.19939\n",
            "\n",
            "Epoch 145: Training loss    0.52779\n",
            "           Validation loss  0.19938\n",
            "\n",
            "Epoch 146: Training loss    0.52779\n",
            "           Validation loss  0.19938\n",
            "\n",
            "Epoch 147: Training loss    0.52779\n",
            "           Validation loss  0.19938\n",
            "\n",
            "Epoch 148: Training loss    0.52779\n",
            "           Validation loss  0.19938\n",
            "\n",
            "Epoch 149: Training loss    0.52779\n",
            "           Validation loss  0.19937\n",
            "\n",
            "Epoch 150: Training loss    0.52779\n",
            "           Validation loss  0.19937\n",
            "\n",
            "Epoch 151: Training loss    0.52779\n",
            "           Validation loss  0.19937\n",
            "\n",
            "Epoch 152: Training loss    0.52779\n",
            "           Validation loss  0.19937\n",
            "\n",
            "Epoch 153: Training loss    0.52779\n",
            "           Validation loss  0.19937\n",
            "\n",
            "Epoch 154: Training loss    0.52779\n",
            "           Validation loss  0.19937\n",
            "\n",
            "Epoch 155: Training loss    0.52779\n",
            "           Validation loss  0.19937\n",
            "\n",
            "Epoch 156: Training loss    0.52779\n",
            "           Validation loss  0.19936\n",
            "\n",
            "Epoch 157: Training loss    0.52779\n",
            "           Validation loss  0.19936\n",
            "\n",
            "Epoch 158: Training loss    0.52779\n",
            "           Validation loss  0.19936\n",
            "\n",
            "Epoch 159: Training loss    0.52779\n",
            "           Validation loss  0.19936\n",
            "\n",
            "Epoch 160: Training loss    0.52779\n",
            "           Validation loss  0.19936\n",
            "\n",
            "Epoch 161: Training loss    0.52779\n",
            "           Validation loss  0.19936\n",
            "\n",
            "Epoch 162: Training loss    0.52779\n",
            "           Validation loss  0.19936\n",
            "\n",
            "Epoch 163: Training loss    0.52779\n",
            "           Validation loss  0.19936\n",
            "\n",
            "Epoch 164: Training loss    0.52779\n",
            "           Validation loss  0.19936\n",
            "\n",
            "Epoch 165: Training loss    0.52779\n",
            "           Validation loss  0.19936\n",
            "\n",
            "Epoch 166: Training loss    0.52779\n",
            "           Validation loss  0.19935\n",
            "\n",
            "Epoch 167: Training loss    0.52779\n",
            "           Validation loss  0.19935\n",
            "\n",
            "Epoch 168: Training loss    0.52779\n",
            "           Validation loss  0.19935\n",
            "\n",
            "Epoch 169: Training loss    0.52779\n",
            "           Validation loss  0.19935\n",
            "\n",
            "Epoch 170: Training loss    0.52779\n",
            "           Validation loss  0.19935\n",
            "\n",
            "Epoch 171: Training loss    0.52779\n",
            "           Validation loss  0.19935\n",
            "\n",
            "Epoch 172: Training loss    0.52779\n",
            "           Validation loss  0.19935\n",
            "\n",
            "Epoch 173: Training loss    0.52779\n",
            "           Validation loss  0.19935\n",
            "\n",
            "Epoch 174: Training loss    0.52779\n",
            "           Validation loss  0.19935\n",
            "\n",
            "Epoch 175: Training loss    0.52779\n",
            "           Validation loss  0.19935\n",
            "\n",
            "Epoch 176: Training loss    0.52779\n",
            "           Validation loss  0.19935\n",
            "\n",
            "Epoch 177: Training loss    0.52779\n",
            "           Validation loss  0.19935\n",
            "\n",
            "Epoch 178: Training loss    0.52779\n",
            "           Validation loss  0.19935\n",
            "\n",
            "Epoch 179: Training loss    0.52779\n",
            "           Validation loss  0.19935\n",
            "\n",
            "Epoch 180: Training loss    0.52779\n",
            "           Validation loss  0.19935\n",
            "\n",
            "Epoch 181: Training loss    0.52779\n",
            "           Validation loss  0.19935\n",
            "\n",
            "Epoch 182: Training loss    0.52779\n",
            "           Validation loss  0.19935\n",
            "\n",
            "Epoch 183: Training loss    0.52779\n",
            "           Validation loss  0.19935\n",
            "\n",
            "Epoch 184: Training loss    0.52779\n",
            "           Validation loss  0.19935\n",
            "\n",
            "Epoch 185: Training loss    0.52779\n",
            "           Validation loss  0.19935\n",
            "\n",
            "Epoch 186: Training loss    0.52779\n",
            "           Validation loss  0.19935\n",
            "\n",
            "Epoch 187: Training loss    0.52779\n",
            "           Validation loss  0.19935\n",
            "\n",
            "Epoch 188: Training loss    0.52779\n",
            "           Validation loss  0.19935\n",
            "\n",
            "Epoch 189: Training loss    0.52779\n",
            "           Validation loss  0.19935\n",
            "\n",
            "Epoch 190: Training loss    0.52779\n",
            "           Validation loss  0.19935\n",
            "\n",
            "Epoch 191: Training loss    0.52779\n",
            "           Validation loss  0.19935\n",
            "\n",
            "Epoch 192: Training loss    0.52779\n",
            "           Validation loss  0.19934\n",
            "\n",
            "Epoch 193: Training loss    0.52779\n",
            "           Validation loss  0.19934\n",
            "\n",
            "Epoch 194: Training loss    0.52779\n",
            "           Validation loss  0.19934\n",
            "\n",
            "Epoch 195: Training loss    0.52779\n",
            "           Validation loss  0.19934\n",
            "\n",
            "Epoch 196: Training loss    0.52779\n",
            "           Validation loss  0.19934\n",
            "\n",
            "Epoch 197: Training loss    0.52779\n",
            "           Validation loss  0.19934\n",
            "\n",
            "Epoch 198: Training loss    0.52779\n",
            "           Validation loss  0.19934\n",
            "\n",
            "Epoch 199: Training loss    0.52779\n",
            "           Validation loss  0.19934\n",
            "\n",
            "Epoch 200: Training loss    0.52779\n",
            "           Validation loss  0.19934\n",
            "\n"
          ]
        }
      ],
      "source": [
        "history, val_history, _ = train_model(learning_rate=0.1, polynomial_degree=2)\n"
      ]
    },
    {
      "cell_type": "code",
      "execution_count": 28,
      "metadata": {},
      "outputs": [
        {
          "data": {
            "text/plain": [
              "[]"
            ]
          },
          "execution_count": 28,
          "metadata": {},
          "output_type": "execute_result"
        },
        {
          "data": {
            "image/png": "[encoded data removed]",
            "text/plain": [
              "<Figure size 960x720 with 1 Axes>"
            ]
          },
          "metadata": {},
          "output_type": "display_data"
        }
      ],
      "source": [
        "fig, ax = plt.subplots(dpi=150)\n",
        "\n",
        "ax.plot(history, label=\"Training loss\")\n",
        "ax.plot(val_history, label=\"Validation loss\")\n",
        "\n",
        "ax.legend()\n",
        "plt.plot()"
      ]
    },
    {
      "cell_type": "markdown",
      "metadata": {
        "id": "PSJSICf7cqaH"
      },
      "source": [
        "> What are the conclusions? (1-2 paragraphs)"
      ]
    },
    {
      "cell_type": "markdown",
      "metadata": {
        "id": "ZCpz412ac6X7"
      },
      "source": [
        "6. (0.5 points) Pick **your best model**, based on your validation set, and predict the target values for the test set."
      ]
    },
    {
      "cell_type": "code",
      "execution_count": 29,
      "metadata": {},
      "outputs": [],
      "source": [
        "def linear_search(fun, init_interval, tol):\n",
        "    PHI = (3 - np.sqrt(5))/2\n",
        "\n",
        "    xstart, xend = init_interval\n",
        "    fstart, fend = fun(xstart), fun(xend)\n",
        "\n",
        "    xnew = xstart + PHI * (xend - xstart)\n",
        "    fnew = fun(xstart)\n",
        "\n",
        "    while fstart <= fnew <= fend:\n",
        "        xend, fend = xnew, fnew\n",
        "        xnew, fnew = xstart, fstart\n",
        "\n",
        "        xstart = xend - (xend - xnew)/PHI\n",
        "        fstart = fun(xstart)\n",
        "        \n",
        "    while fstart >= fnew >= fend:\n",
        "        xstart, fstart = xnew, fnew\n",
        "        xnew  , fnew   = xend, fend\n",
        "\n",
        "        xend = xstart + (xnew - xstart)/PHI\n",
        "        fend = fun(xend)\n",
        "\n",
        "    while np.any((xend - xstart) > tol):\n",
        "        xtry = xend - PHI * (xend - xstart)\n",
        "        ftry = fun(xtry)\n",
        "\n",
        "        if fnew > ftry:\n",
        "            xstart, fstart = xnew, fnew\n",
        "            xnew  , fnew   = xtry, ftry\n",
        "\n",
        "            xtry = xend - PHI * (xend - xstart)\n",
        "            ftry = fun(xtry)\n",
        "        \n",
        "        else:\n",
        "            xend, fend = xtry, ftry\n",
        "            xtry, ftry = xnew, fnew\n",
        "\n",
        "            xnew = xstart + PHI * (xend - xstart)\n",
        "            fnew = fun(xnew)\n",
        "\n",
        "    return (xtry + xnew)/2"
      ]
    },
    {
      "cell_type": "code",
      "execution_count": 30,
      "metadata": {},
      "outputs": [
        {
          "data": {
            "text/plain": [
              "[]"
            ]
          },
          "execution_count": 30,
          "metadata": {},
          "output_type": "execute_result"
        },
        {
          "data": {
            "image/png": "[encoded data removed]",
            "text/plain": [
              "<Figure size 1800x750 with 2 Axes>"
            ]
          },
          "metadata": {},
          "output_type": "display_data"
        }
      ],
      "source": [
        "fig, ax = plt.subplots(ncols=2, figsize=(12,5) ,dpi=150)\n",
        "\n",
        "ax[0].set_title(\"Loss in the training set\")\n",
        "ax[0].set_xlabel('epoch')\n",
        "ax[0].set_ylabel('loss')\n",
        "\n",
        "ax[1].set_title(\"Loss in the validation set\")\n",
        "ax[1].set_xlabel('epoch')\n",
        "ax[1].set_ylabel('loss')\n",
        "\n",
        "for degree in range(1, 6):\n",
        "    best_lr = linear_search(lambda lr : np.min(train_model(lr, degree, verbose=False, max_iter=250)[1]), (0, 10**-(degree)), 1e-10)\n",
        "\n",
        "    history, val_history, _ = train_model(best_lr, degree, verbose=False, max_iter=500)\n",
        "\n",
        "    ax[0].plot(range(len(history)), history, label=degree)\n",
        "    ax[1].plot(range(len(history)), val_history, label=degree)\n",
        "    \n",
        "ax[1].legend()\n",
        "plt.plot()"
      ]
    },
    {
      "cell_type": "markdown",
      "metadata": {
        "id": "q1wu27uZdigS"
      },
      "source": [
        "## Logistic Regression"
      ]
    },
    {
      "cell_type": "markdown",
      "metadata": {
        "id": "rbmfqspmdosV"
      },
      "source": [
        "This part of the assigment aims to predict the patients survival based on their medical records. \n",
        "\n",
        "*   Do we need to split the data into train, valid and test? How?\n",
        "*   Do we need to normalize the data? How? The normalization is equal to train, valid and test split?\n",
        "* **Target value: DEATH EVENT**."
      ]
    },
    {
      "cell_type": "code",
      "execution_count": 31,
      "metadata": {},
      "outputs": [],
      "source": [
        "X = df.drop(columns=['DEATH_EVENT'])\n",
        "y = df['DEATH_EVENT']\n",
        "\n",
        "from sklearn.model_selection import train_test_split\n",
        "\n",
        "X_train, X_test, y_train, y_test = train_test_split(X, y, test_size=0.2)\n",
        "X_train, X_val,  y_train, y_val  = train_test_split(X_train, y_train, test_size=0.2)"
      ]
    },
    {
      "cell_type": "markdown",
      "metadata": {
        "id": "kQjs5xhmgDV-"
      },
      "source": [
        "1. (0.5 points) Verify if there is any feature that has low correlation with the target variables. You can use the function [mutual_info_classification](https://scikit-learn.org/stable/modules/generated/sklearn.feature_selection.mutual_info_classif.html) to check the importance of each feature."
      ]
    },
    {
      "cell_type": "code",
      "execution_count": 32,
      "metadata": {
        "id": "AXwPiduYdmla"
      },
      "outputs": [
        {
          "name": "stderr",
          "output_type": "stream",
          "text": [
            "/tmp/ipykernel_227249/832985694.py:8: UserWarning:\n",
            "\n",
            "FixedFormatter should only be used together with FixedLocator\n",
            "\n"
          ]
        },
        {
          "data": {
            "image/png": "[encoded data removed]",
            "text/plain": [
              "<Figure size 960x720 with 1 Axes>"
            ]
          },
          "metadata": {},
          "output_type": "display_data"
        }
      ],
      "source": [
        "from sklearn.feature_selection import mutual_info_classif\n",
        "\n",
        "correlation = mutual_info_classif(X_train, y_train) \n",
        "\n",
        "fig, ax = plt.subplots(dpi=150)\n",
        "\n",
        "ax.bar(X.columns.values, correlation)\n",
        "ax.set_xticklabels(X.columns.values, rotation=45, ha='right')\n",
        "\n",
        "plt.show()"
      ]
    },
    {
      "cell_type": "code",
      "execution_count": 33,
      "metadata": {},
      "outputs": [],
      "source": [
        "correlated_labels = X.columns.values[correlation > 0.05]\n",
        "\n",
        "X_train = X_train[correlated_labels].to_numpy()\n",
        "X_val   = X_val[correlated_labels].to_numpy()\n",
        "X_test  = X_test[correlated_labels].to_numpy()\n",
        "\n",
        "y_train = y_train.to_numpy()\n",
        "y_val   = y_val.to_numpy()\n",
        "y_test  = y_test.to_numpy()\n",
        "\n",
        "standardization = ZScore()\n",
        "X_train = standardization.fit_transform(X_train)\n",
        "X_val   = standardization.transform(X_val)\n",
        "X_test  = standardization.transform(X_test)"
      ]
    },
    {
      "cell_type": "markdown",
      "metadata": {
        "id": "dLLg2Np1jVTh"
      },
      "source": [
        "> What are the conclusions? (1-2 paragraphs)"
      ]
    },
    {
      "cell_type": "markdown",
      "metadata": {
        "id": "7gvvAB4WgWbK"
      },
      "source": [
        "2. (2 points) Perform Multinomial Logistic Regression."
      ]
    },
    {
      "cell_type": "code",
      "execution_count": 34,
      "metadata": {},
      "outputs": [],
      "source": [
        "from sklearn.metrics import balanced_accuracy_score"
      ]
    },
    {
      "cell_type": "code",
      "execution_count": 35,
      "metadata": {
        "id": "C8DCclQ1ghBl"
      },
      "outputs": [
        {
          "data": {
            "text/plain": [
              "[]"
            ]
          },
          "execution_count": 35,
          "metadata": {},
          "output_type": "execute_result"
        },
        {
          "data": {
            "image/png": "[encoded data removed]",
            "text/plain": [
              "<Figure size 960x720 with 4 Axes>"
            ]
          },
          "metadata": {},
          "output_type": "display_data"
        }
      ],
      "source": [
        "from sklearn.linear_model import LogisticRegression\n",
        "from sklearn.metrics import log_loss\n",
        "\n",
        "model = LogisticRegression()\n",
        "\n",
        "model.fit(X_train, y_train)\n",
        "\n",
        "def confusion_matrix(y_true, y_pred):\n",
        "    matrix = np.zeros((2,2))\n",
        "\n",
        "    for i in range(len(y_true)):\n",
        "        matrix[y_true[i], y_pred[i]] += 1\n",
        "    \n",
        "    return matrix\n",
        "\n",
        "fig, axs = plt.subplots(ncols=2, dpi=150)\n",
        "\n",
        "\n",
        "y_pred = model.predict(X_train)\n",
        "\n",
        "C = confusion_matrix(y_train, y_pred)\n",
        "sns.heatmap(C, cmap='Spectral', annot=True, fmt='2.0f', square=True, ax=axs[0])\n",
        "axs[0].set_title(f'On training set: {100* balanced_accuracy_score(y_train, y_pred) : 2.0f}%')\n",
        "\n",
        "y_pred = model.predict(X_val)\n",
        "\n",
        "C = confusion_matrix(y_val, y_pred)\n",
        "sns.heatmap(C, cmap='Spectral', annot=True, fmt='2.0f', square=True, ax=axs[1])\n",
        "axs[1].set_title(f'On validation set: {100* balanced_accuracy_score(y_val, y_pred) : 2.0f}%')\n",
        "plt.plot()"
      ]
    },
    {
      "cell_type": "markdown",
      "metadata": {
        "id": "6xdkr3A1jTzC"
      },
      "source": [
        "> What are the conclusions? (1-2 paragraphs)\n"
      ]
    },
    {
      "cell_type": "markdown",
      "metadata": {
        "id": "TJ_34cx1hd6J"
      },
      "source": [
        "3. (1.5 points) Another factor that can alter the model result it's if the dataset is balanced:\n",
        "\n",
        "*   The dataset is balanced ?\n",
        "*   In this case, which technique is better: *oversampling* or *undersampling*?\n",
        "\n",
        "Obs: You can use [RandomOverSampling](https://imbalanced-learn.org/stable/references/generated/imblearn.over_sampling.RandomOverSampler.html) and [RandomUnderSampling](https://imbalanced-learn.org/stable/references/generated/imblearn.under_sampling.RandomUnderSampler.html#imblearn.under_sampling.RandomUnderSampler). But you can try others techniques."
      ]
    },
    {
      "cell_type": "code",
      "execution_count": 36,
      "metadata": {},
      "outputs": [
        {
          "data": {
            "image/png": "[encoded data removed]",
            "text/plain": [
              "<Figure size 640x480 with 1 Axes>"
            ]
          },
          "metadata": {},
          "output_type": "display_data"
        }
      ],
      "source": [
        "plt.bar(range(2), [np.count_nonzero(y_train), np.count_nonzero(~y_train)])\n",
        "plt.xticks(range(2), labels=['Dead', 'Alive'])\n",
        "plt.show()"
      ]
    },
    {
      "cell_type": "code",
      "execution_count": 37,
      "metadata": {},
      "outputs": [],
      "source": [
        "from imblearn.over_sampling import RandomOverSampler\n",
        "\n",
        "oversampler = RandomOverSampler(random_state=42)\n",
        "\n",
        "X_overtrain, y_overtrain = oversampler.fit_resample(X_train, y_train)"
      ]
    },
    {
      "cell_type": "code",
      "execution_count": 38,
      "metadata": {},
      "outputs": [
        {
          "data": {
            "image/png": "[encoded data removed]",
            "text/plain": [
              "<Figure size 640x480 with 1 Axes>"
            ]
          },
          "metadata": {},
          "output_type": "display_data"
        }
      ],
      "source": [
        "plt.bar(range(2), [np.count_nonzero(y_overtrain), np.count_nonzero(1 - y_overtrain)])\n",
        "plt.xticks(range(2), labels=['Dead', 'Alive'])\n",
        "plt.show()"
      ]
    },
    {
      "cell_type": "code",
      "execution_count": 39,
      "metadata": {},
      "outputs": [
        {
          "data": {
            "text/plain": [
              "[]"
            ]
          },
          "execution_count": 39,
          "metadata": {},
          "output_type": "execute_result"
        },
        {
          "data": {
            "image/png": "[encoded data removed]",
            "text/plain": [
              "<Figure size 960x720 with 4 Axes>"
            ]
          },
          "metadata": {},
          "output_type": "display_data"
        }
      ],
      "source": [
        "over_model = LogisticRegression()\n",
        "\n",
        "over_model.fit(X_overtrain, y_overtrain)\n",
        "\n",
        "def confusion_matrix(y_true, y_pred):\n",
        "    matrix = np.zeros((2,2))\n",
        "\n",
        "    for i in range(len(y_true)):\n",
        "        matrix[y_true[i], y_pred[i]] += 1\n",
        "    \n",
        "    return matrix\n",
        "\n",
        "\n",
        "fig, axs = plt.subplots(ncols=2, dpi=150)\n",
        "\n",
        "y_pred = over_model.predict(X_overtrain)\n",
        "\n",
        "C = confusion_matrix(y_overtrain, y_pred)\n",
        "sns.heatmap(C, cmap='Spectral', annot=True, fmt='2.0f', square=True, ax=axs[0])\n",
        "axs[0].set_title(f'On training set: {100* balanced_accuracy_score(y_overtrain, y_pred) : 2.0f}%')\n",
        "\n",
        "y_pred = over_model.predict(X_val)\n",
        "\n",
        "C = confusion_matrix(y_val, y_pred)\n",
        "sns.heatmap(C, cmap='Spectral', annot=True, fmt='2.0f', square=True, ax=axs[1])\n",
        "axs[1].set_title(f'On validation set: {100* balanced_accuracy_score(y_val, y_pred) : 2.0f}%')\n",
        "plt.plot()"
      ]
    },
    {
      "cell_type": "code",
      "execution_count": 40,
      "metadata": {},
      "outputs": [],
      "source": [
        "from imblearn.under_sampling import RandomUnderSampler\n",
        "\n",
        "undersampler = RandomUnderSampler(random_state=42)\n",
        "\n",
        "X_undertrain, y_undertrain = undersampler.fit_resample(X_train, y_train)"
      ]
    },
    {
      "cell_type": "code",
      "execution_count": 41,
      "metadata": {},
      "outputs": [
        {
          "data": {
            "image/png": "[encoded data removed]",
            "text/plain": [
              "<Figure size 640x480 with 1 Axes>"
            ]
          },
          "metadata": {},
          "output_type": "display_data"
        }
      ],
      "source": [
        "plt.bar(range(2), [np.count_nonzero(y_undertrain), np.count_nonzero(1 - y_undertrain)])\n",
        "plt.xticks(range(2), labels=['Dead', 'Alive'])\n",
        "plt.show()"
      ]
    },
    {
      "cell_type": "code",
      "execution_count": 42,
      "metadata": {},
      "outputs": [
        {
          "data": {
            "text/plain": [
              "[]"
            ]
          },
          "execution_count": 42,
          "metadata": {},
          "output_type": "execute_result"
        },
        {
          "data": {
            "image/png": "[encoded data removed]",
            "text/plain": [
              "<Figure size 960x720 with 4 Axes>"
            ]
          },
          "metadata": {},
          "output_type": "display_data"
        }
      ],
      "source": [
        "under_model = LogisticRegression()\n",
        "\n",
        "under_model.fit(X_undertrain, y_undertrain)\n",
        "\n",
        "def confusion_matrix(y_true, y_pred):\n",
        "    matrix = np.zeros((2,2))\n",
        "\n",
        "    for i in range(len(y_true)):\n",
        "        matrix[y_true[i], y_pred[i]] += 1\n",
        "    \n",
        "    return matrix\n",
        "\n",
        "\n",
        "fig, axs = plt.subplots(ncols=2, dpi=150)\n",
        "\n",
        "y_pred = under_model.predict(X_undertrain)\n",
        "\n",
        "C = confusion_matrix(y_undertrain, y_pred)\n",
        "sns.heatmap(C, cmap='Spectral', annot=True, fmt='2.0f', square=True, ax=axs[0])\n",
        "axs[0].set_title(f'On training set: {100* balanced_accuracy_score(y_undertrain, y_pred) : 2.0f}%')\n",
        "\n",
        "y_pred = under_model.predict(X_val)\n",
        "\n",
        "C = confusion_matrix(y_val, y_pred)\n",
        "sns.heatmap(C, cmap='Spectral', annot=True, fmt='2.0f', square=True, ax=axs[1])\n",
        "axs[1].set_title(f'On validation set: {100* balanced_accuracy_score(y_val, y_pred) : 2.0f}%')\n",
        "plt.plot()"
      ]
    },
    {
      "cell_type": "markdown",
      "metadata": {
        "id": "h2wAUt_hjSzr"
      },
      "source": [
        "> What are the conclusions? (1-2 paragraphs)"
      ]
    },
    {
      "cell_type": "markdown",
      "metadata": {
        "id": "8pNHeah9jK7f"
      },
      "source": [
        "4. (0.5 points) Pick **your best model** and plot the confusion matrix in the **test set**. \n"
      ]
    },
    {
      "cell_type": "markdown",
      "metadata": {
        "id": "38HbjwZSjRf1"
      },
      "source": [
        "> What are the conclusions? (1-2 paragraphs)"
      ]
    },
    {
      "cell_type": "markdown",
      "metadata": {
        "id": "D2zOMBnKmK4-"
      },
      "source": [
        "## Deadline\n",
        "\n",
        "Wednesday, April 19, 11:59 pm. \n",
        "\n",
        "Penalty policy for late submission: You are not encouraged to submit your assignment after due date. However, in case you do, your grade will be penalized as follows:\n",
        "- April 20, 11:59 pm : grade * 0.75\n",
        "- April 21, 11:59 pm : grade * 0.5\n",
        "- April 22, 11:59 pm : grade * 0.25\n"
      ]
    },
    {
      "cell_type": "markdown",
      "metadata": {
        "id": "DK1R2Xfkmc6j"
      },
      "source": [
        "## Submission\n",
        "\n",
        "On Google Classroom, submit your Jupyter Notebook (in Portuguese or English).\n",
        "\n",
        "**This activity is NOT individual, it must be done in pairs (two-person group).**"
      ]
    }
  ],
  "metadata": {
    "colab": {
      "provenance": []
    },
    "kernelspec": {
      "display_name": "Python 3",
      "language": "python",
      "name": "python3"
    },
    "language_info": {
      "codemirror_mode": {
        "name": "ipython",
        "version": 3
      },
      "file_extension": ".py",
      "mimetype": "text/x-python",
      "name": "python",
      "nbconvert_exporter": "python",
      "pygments_lexer": "ipython3",
      "version": "3.8.10"
    },
    "vscode": {
      "interpreter": {
        "hash": "916dbcbb3f70747c44a77c7bcd40155683ae19c65e1c03b4aa3499c5328201f1"
      }
    }
  },
  "nbformat": 4,
  "nbformat_minor": 0
}
